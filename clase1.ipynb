{
 "cells": [
  {
   "cell_type": "markdown",
   "id": "discrete-battlefield",
   "metadata": {},
   "source": [
    "## Manim - Clase 1\n",
    "\n",
    "Esta notebook contiene los ejemplos de la primera clase. Para correr una celda hay que hacer click sobre ella y luego o bien apretar el botón \"Run\" o bien apretar `<Shift + Enter>`. Es imprescindible correr primero la siguiente celda para importar `manim` a la notebook.  "
   ]
  },
  {
   "cell_type": "code",
   "execution_count": null,
   "id": "laden-series",
   "metadata": {},
   "outputs": [],
   "source": [
    "from manim import *"
   ]
  },
  {
   "cell_type": "markdown",
   "id": "hydraulic-bracelet",
   "metadata": {},
   "source": [
    "Esto son sólo comandos de configuración para Jupyter."
   ]
  },
  {
   "cell_type": "code",
   "execution_count": 4,
   "id": "informal-combine",
   "metadata": {},
   "outputs": [],
   "source": [
    "config.media_width = \"80%\"\n",
    "config.verbosity = \"WARNING\""
   ]
  },
  {
   "cell_type": "markdown",
   "id": "dea84f97",
   "metadata": {},
   "source": [
    "## Introducción\n",
    "Manim hace uso de un paradigma de programación que se llama *Programación orientada a objetos*. Un *objeto* es esencialmente una variable pero con una estructura compleja, que puede tener adentro tanto datos como funciones. Un ejemplo simple de objeto en Python es una lista. "
   ]
  },
  {
   "cell_type": "code",
   "execution_count": null,
   "id": "559ebf2c",
   "metadata": {},
   "outputs": [],
   "source": [
    "a = [1,2,3,4]\n",
    "a.append(5)\n",
    "print(a)"
   ]
  },
  {
   "cell_type": "markdown",
   "id": "25dc8285",
   "metadata": {},
   "source": [
    "El código anterior define una lista `a` con los elementos 1,2,3 y 4 y luego le agrega el elemento 5. La función `append` no es una función genérica de Python, sino que es propia de la lista. De ahí la notación `a.append()`. La lista no es una simple variable sino que es un *objeto*. Al crear la lista, en la primera línea, se generan también otros elementos que le son propios, como la función `append`. \n",
    "\n",
    "En el código de Python hay definida una *clase* \"Lista\". Dentro de esa *clase* se define la estructura de la lista (es una lista ordenada y a cada elemento le corresponde un índice, por ejemplo) y las distintas funciones propias de una lista. La *clase* es una especie de molde con el cual se hacen todas las listas. Nuestro objeto `a` es un caso particular de la *clase*. "
   ]
  },
  {
   "cell_type": "markdown",
   "id": "330b476e",
   "metadata": {},
   "source": [
    "\n",
    "En Manim, los distintos elementos de una animación (figuras geométricas, ejes, gráficos de funciones, flechas, texto, etc.) serán objetos, con una amplia variedad de atributos y funciones propias. De hecho, cada animación en sí será un *objeto*, que nosotros programaremos. "
   ]
  },
  {
   "cell_type": "markdown",
   "id": "collective-flexibility",
   "metadata": {},
   "source": [
    "## Primera parte: Figuras geométricas"
   ]
  },
  {
   "cell_type": "markdown",
   "id": "2955d69a",
   "metadata": {},
   "source": [
    "### Primera Animación"
   ]
  },
  {
   "cell_type": "code",
   "execution_count": null,
   "id": "adopted-fluid",
   "metadata": {},
   "outputs": [],
   "source": [
    "%%manim -qm C1A00  \n",
    "\n",
    "class C1A00(Scene):\n",
    "    def construct(self):\n",
    "        circulo = Circle()\n",
    "        circulo.set_fill(PINK,opacity=0.5)\n",
    "        self.play(Create(circulo)) #self.add + self.wait   "
   ]
  },
  {
   "cell_type": "markdown",
   "id": "eeb6f2ff",
   "metadata": {},
   "source": [
    "#### Análisis: \n",
    "La primera línea:\n",
    "\n",
    "    %%manim -qm C1A00\n",
    "sirve para ejecutar manim y generar la animación. En nuestras condiciones normales de trabajo esto se hace desde una terminal (fuera de Python) y la sintaxis es: \n",
    "\n",
    "    manim -qm nombre_del_archivo.py nombre_de_la_animacion\n",
    "    \n",
    "Aquí estamos creando el video desde dentro del archivo (por eso esa información no hay que ponerla) y el archivo es una Jupyter notebook, es decir que estamos operando desde \"dentro de Python\" y por eso se agrega el símbolo `%%` adelante. El `-qm` es opcional e indica que el video se debe generar con calidad media. \n",
    "\n",
    "La animación propiamente dicha es lo que sigue: \n",
    "\n",
    "    class C1A00(Scene):\n",
    "\n",
    "Crea una nueva *clase* cuyo nombre es `C1A00` (por Clase 1 Animación 00). Esa clase es un derivado de la clase `Scene`, que está definida en el código de Manim. Al decir que `C1A00` deriva de `Scene` conseguimos que *herede* todas las propiedades de una `Scene`. Todos nuestras animaciones van a comenzar así (cambiando el nombre).\n",
    "\n",
    "    def construct(self):\n",
    "\n",
    "Para poder generarse, toda *clase* necesita una función *constructora*. En Python la función constructura se llama **siempre** `construct`. `self` es una palabra clave de Python que hace referencia a la propia clase dentro de la que se está trabajando. Es decir que `self` representa a `C1A00` dentro de sí misma. `self` es **siempre** un parámetro de `construct`. Estas primeras dos líneas van a formar parte de todas nuestras animaciones. El contenido propio de `C1A00` es lo que viene después: \n",
    "\n",
    "    circulo = Circle()\n",
    "\n",
    "define una variable `circulo` a partir de la clase `Circle` (que forma parte de Manim). En este caso, no estamos dándole ningún parámetro al constructor de `Circle`, por lo cual va a crear el circulo con parámetros definidos por defecto. \n",
    "\n",
    "    circulo.set_fill(PINK,opacity=0.5)\n",
    "\n",
    "le aplica a `circulo` la función `set_fill`, que es propia de la clase `Circle`. En este caso, estamos poniéndole a nuestro círculo relleno rosa con opacidad 0.5 (va de 0 a 1, siendo 0 totalmente transparente y 1 color lleno). Hasta aquí generamos una variable que representa un círculo rosa, pero no hay ninguna animación. \n",
    "\n",
    "    self.play(Create(circulo))\n",
    "\n",
    "hace que nuestra animación (es decir, la clase `C1A00`) ejecute la animación `Create` aplicada a nuestro círculo. La función `Create` es una animación general de Manim. La función `play` es una función propia de la clase `Scene` y por eso está disponible para `C1A00`.    "
   ]
  },
  {
   "cell_type": "markdown",
   "id": "e8f8ec5b",
   "metadata": {},
   "source": [
    "Si elimináramos la última línea de nuestro código Manim no produciría ninguna animación. Una alternativa \"estática\" a la función `Create` es la siguiente: "
   ]
  },
  {
   "cell_type": "code",
   "execution_count": null,
   "id": "be61a1a0",
   "metadata": {},
   "outputs": [],
   "source": [
    "%%manim -qm C1A00bis\n",
    "\n",
    "class C1A00bis(Scene):\n",
    "    def construct(self):\n",
    "        circulo = Circle()\n",
    "        circulo.set_fill(PINK,opacity=0.5)\n",
    "        self.add(circulo)\n",
    "        self.wait()"
   ]
  },
  {
   "cell_type": "markdown",
   "id": "36ee1949",
   "metadata": {},
   "source": [
    "Aquí el círculo simplemente se agrega a la pantalla (`self.add(circulo)`), pero sin animación. La función `wait`, propia de `Scene` hace una pausa cuya duración por defecto es de un segundo. `self.wait(2.5)` haría una pausa de dos segundos y medio. Si no usáramos la función `wait()` no habría video, porque no habría ningún evento que se lleve a cabo a lo largo del tiempo: sólo tendríamos una imagen, con el círculo. "
   ]
  },
  {
   "cell_type": "markdown",
   "id": "bb3008e7",
   "metadata": {},
   "source": [
    "### Segunda animación"
   ]
  },
  {
   "cell_type": "code",
   "execution_count": null,
   "id": "337bc2bd",
   "metadata": {},
   "outputs": [],
   "source": [
    "%%manim -qm C1A01\n",
    "\n",
    "class C1A01(Scene):\n",
    "    def construct(self):\n",
    "        circle = Circle(0.5)\n",
    "        circle.set_fill(RED,opacity=0.5)\n",
    "        circle.shift(2*RIGHT)\n",
    "        self.play(FadeIn(circle))       "
   ]
  },
  {
   "cell_type": "markdown",
   "id": "5845461e",
   "metadata": {},
   "source": [
    "#### Análisis\n",
    "Aquí hacemos algo muy similar a lo anterior sólo que: \n",
    " * El círculo tiene radio $\\frac{1}{2}$ (el valor por defecto es $1$). \n",
    " * Lo rellenamos de rojo.\n",
    " * Lo movemos dos casilleros a la derecha.\n",
    " * Lo hacemos aparecer en pantalla con otro tipo de animación: `FadeIn`, en lugar de `Create`. "
   ]
  },
  {
   "cell_type": "markdown",
   "id": "972a492f",
   "metadata": {},
   "source": [
    "### Tercera Animación"
   ]
  },
  {
   "cell_type": "code",
   "execution_count": null,
   "id": "98db8132",
   "metadata": {},
   "outputs": [],
   "source": [
    "%%manim -qm C1A02\n",
    "\n",
    "class C1A02(Scene):\n",
    "    def construct(self):\n",
    "        circle = Circle(0.5,color=WHITE).set_fill(BLUE,opacity=1).shift(2*UR) \n",
    "        tri    = Triangle(color=ORANGE).set_fill(GREEN,opacity=0.2)\n",
    "        self.play(FadeIn(circle))\n",
    "        self.wait()\n",
    "        self.play(Transform(circle,tri))\n",
    "        self.wait(2)\n",
    "        self.play(FadeOut(circle))"
   ]
  },
  {
   "cell_type": "markdown",
   "id": "2a558dba",
   "metadata": {},
   "source": [
    "#### Análisis\n",
    "El comienzo es muy similar a lo anterior. Aquí definimos un círculo y desde su creación le asignamos radio $\\frac{1}{2}$ y color blanco (este color es el del borde). En la misma línea, le aplicamos la función `set_fill` y a continuación la función `shift`. Como vimos antes, esto podríamos haberlo hecho en pasos sucesivos, en lugar de todo junto.  En resumen tenemos un círculo blanco, relleno de azul, de radio $0.5$ y corrido dos unidades a la derecha. \n",
    "\n",
    "De manera similar definimos un triángulo de borde naranja y relleno de verde (bastante transparente), que está ubicado en el centro de la pantalla (es la posición por defecto). \n",
    "\n",
    "La animación hace aparecer el círculo (con `FadeIn`), luego de una pausa transforma el círculo en el triángulo (con todas sus características, incluida la posición) y luego de una pausa de dos segundos hace desaparecer la figura (con `FadeOut`). \n",
    "\n",
    "Un detalle importante es que la variable a la que le estamos aplicando `FadeOut` es `circle`. Esto tiene que ver con cómo opera la función `Transform`. `Transform` toma la variable `circle` y la modifica para que tome el valor de la variable `tri`. El efecto sobre las variables es como si hubiéramos hecho: \n",
    "\n",
    "    circle = tri\n",
    "\n",
    "Es decir que la variable `tri` **nunca se incorporó a la pantalla** y por lo tanto si hiciéramos `FadeOut(tri)` no pasaría nada (**Ejercicio:** reemplazar `circle` por `tri` en el `FadeOut` y verificar que el triángulo no desaparece). \n",
    "\n",
    "Además, al hacer `Transform(circle,tri)` ya no tenemos ninguna variable que represente un círculo.  "
   ]
  },
  {
   "cell_type": "markdown",
   "id": "a8516b1d",
   "metadata": {},
   "source": [
    "### Cuarta Animación"
   ]
  },
  {
   "cell_type": "code",
   "execution_count": null,
   "id": "67c1eacf",
   "metadata": {},
   "outputs": [],
   "source": [
    "%%manim -qm C1A03\n",
    "\n",
    "class C1A03(Scene):\n",
    "    def construct(self):\n",
    "        circle = Circle(0.5,color=WHITE)\n",
    "        tri    = Triangle(color=ORANGE).set_fill(GREEN,opacity=1)\n",
    "        self.play(FadeIn(circle))\n",
    "        self.wait()\n",
    "        self.play(circle.animate.set_fill(BLUE,opacity=1).shift(2*UR))\n",
    "        self.wait()\n",
    "        self.play(ReplacementTransform(circle,tri))\n",
    "        self.wait()\n",
    "        self.play(FadeOut(tri,shift=RIGHT)) #Observar diferencia entre Transform y ReplacementTransform\n",
    "        self.wait()"
   ]
  },
  {
   "cell_type": "markdown",
   "id": "edfff392",
   "metadata": {},
   "source": [
    "#### Análisis\n",
    "\n",
    "La definición de las variables es muy similar a lo que venimos haciendo. Observar que ambas figuras están inicialmente en el centro, porque no las cambiamos de posición. \n",
    "\n",
    "Luego de hacer aparecer el círculo, le aplicamos una transformación múltiple:\n",
    "\n",
    "    self.play(circle.animate.set_fill(BLUE,opacity=1).shift(2*UR))\n",
    "\n",
    "La función `animate`, propia de cualquier objeto de Manim, permite animar cualquier modificación que le hagamos a ese objeto. Aquí estamos haciendo dos cosas: `set_fill` y `shift`. Es decir que se animará simultáneamente el proceso de rellenar de azul el círculo y su movimiento en dos unidades hacia arriba y hacia la derecha (`UR` = `UP` + `RIGHT`). \n",
    "\n",
    "La otra diferencia importante con la animación anterior es que en lugar de `Transform` utilizamos la función `ReplacementTransform`. `ReplacementTransform` lo que hace es: reemplazar `circle` con `tri` (es decir, el equivalente de `circle` = `tri`) pero además, sacar al primer argumento (`circle`) de la pantalla y mostrar el segundo (`tri`). El efecto visual es el mismo que si hubiéramos usado `Transform`. Pero desde el punto de vista del código, ocurrió algo distinto. Ahora la variable que se muestra al final de la transformación es `tri`. `circle` sigue existiendo (¡y es un triángulo!), pero no está en pantalla. Por lo tanto, al eliminar el objeto de la pantalla tenemos que aplicarle `FadeOut` a `tri`. \n",
    "\n",
    "Por último: la función `FadeOut` admite un parámetro `shift` que hace que el *fading* se haga al mismo tiempo que un desplazamiento. Lo mismo vale para `FadeIn`. "
   ]
  },
  {
   "cell_type": "markdown",
   "id": "9e5997be",
   "metadata": {},
   "source": [
    "### Quinta Animación"
   ]
  },
  {
   "cell_type": "code",
   "execution_count": null,
   "id": "fb895893",
   "metadata": {},
   "outputs": [],
   "source": [
    "%%manim -qm C1A04\n",
    "\n",
    "class C1A04(Scene):\n",
    "    def construct(self):\n",
    "        square1 = Square(color=BLUE).shift(1.5*LEFT)\n",
    "        square2 = Square(color=ORANGE).shift(1.5*RIGHT)\n",
    "        self.play(FadeIn(square1),FadeIn(square2))\n",
    "        self.wait()\n",
    "        self.play(square1.animate.rotate(PI/3),Rotate(square2,PI/3),run_time=3)\n",
    "        self.wait()"
   ]
  },
  {
   "cell_type": "markdown",
   "id": "b1128c95",
   "metadata": {},
   "source": [
    "#### Análisis\n",
    "\n",
    "La idea de este ejemplo es mostrar la diferencia entre usar `animate` (que anima cualquier cosa) y usar una función que hace una animación específica. \n",
    "\n",
    "Acá tenemos dos cuadrados, uno azul (izq.) y uno naranja (der.). Aplicamos, simultáneamente, una rotación con ángulo $\\frac{\\pi}{3}$. Pero el azul rota con `animate.rotate`, mientras que el naranja rota con `Rotate`.  Puede observarse que el cuadrado naranja se achica ligeramente en el proceso de rotar. \n",
    "\n",
    "`Rotate` anima una rotación. Por lo tanto, genera una cantidad de *cuadros* con las posiciones intermedias del cuadrado (rotando un cierto $\\Delta\\theta$ y luego $2\\Delta\\theta$, etc. hasta completar el ángulo deseado). En cambio, `animate` opera de manera genérica con cualquier transformación. Lo que hace es: mirar el estado inicial y el final e *interpolar* entre ellos para generar la animación. Esta interpolación usa el camino más corto entre un estado y el otro. Los vértices del cubo naranja siguen la rotación y por lo tanto dibujan un arco de círculo. En cambio, los vértices del cubo azul se mueven en línea recta. "
   ]
  },
  {
   "cell_type": "markdown",
   "id": "d56ff3a2",
   "metadata": {},
   "source": [
    "### TAREA: \n",
    "\n",
    "Implementar una animación (libre) en la que aparezcan cuatro figuras. \n",
    "Algunas figuras que existen: Triangle, Circle, Ellipse, Annulus, Dot, Line, Square, Rectangle, RegularPolygon, Polygon, Star\n",
    "Algunas funciones de creación: Create, DrawBorderThenFill, FadeIn, GrowFromPoint, GrowFromCenter, SpinInFromNothing\n",
    "Algunas animaciones posibles: Rotate, FadeToColor, MoveToTarget, ScaleInPlace, Transform, ReplacementTransform, TransformFromCopy, ShrinkToCenter, FadeOut. "
   ]
  },
  {
   "cell_type": "markdown",
   "id": "66801a97",
   "metadata": {},
   "source": [
    "## Segunda Parte: Texto"
   ]
  },
  {
   "cell_type": "markdown",
   "id": "fe90bbae",
   "metadata": {},
   "source": [
    "### Sexta Animación"
   ]
  },
  {
   "cell_type": "code",
   "execution_count": null,
   "id": "4a51b30e",
   "metadata": {},
   "outputs": [],
   "source": [
    "%%manim -qm C1A05\n",
    "\n",
    "class C1A05(Scene):\n",
    "    def construct(self):\n",
    "        linea1 = Text(\"En un lugar de la Mancha\").to_edge(UP,buff=1)\n",
    "        linea2 = Text(\"de cuyo nombre no quiero acordarme...\").next_to(linea1,DOWN)\n",
    "        self.play(Write(linea1))\n",
    "        self.play(AddTextLetterByLetter(linea2))\n",
    "        self.wait()"
   ]
  },
  {
   "cell_type": "markdown",
   "id": "c859195c",
   "metadata": {},
   "source": [
    "### Análisis\n",
    "\n",
    "Manim tiene una clase `Text` que permite ingresar texto (entre comillas, simples o dobles). \n",
    "\n",
    "En este caso, le aplicamos a nuestras líneas funciones (propias de cualquier objeto de Manim) que en lugar de rotar, rellenar o mover una cantidad de casilleros en alguna dirección, posicionan el objeto en relación a otras cosas. \n",
    "\n",
    "`to_edge` pone el objeto contra un borde (en este caso, el superior: `UP`). El parámetro `buff` (por `buffer`) permite definir un cierto márgen. Nuestra primera línea aparecerá contra el borde superior de la pantalla, con un margen de una unidad. \n",
    "\n",
    "`next_to` permite poner un objeto junto a otro. Hay que especificar: cuál es ese otro objeto (en este caso `linea_1`) y en qué sentido nuestro objeto debe ir *junto* al otro (en este caso, `DOWN`, debajo). También puede usarse aquí el parámetro `buff` para dejar cierta distancia entre ambos objetos. \n",
    "\n",
    "Por último `Text` admite algunas funciones de creación especiales, como `Write` o `AddLetterByLetter`. \n"
   ]
  },
  {
   "cell_type": "markdown",
   "id": "d0c9a49f",
   "metadata": {},
   "source": [
    "### Séptima Animación"
   ]
  },
  {
   "cell_type": "code",
   "execution_count": null,
   "id": "a52a811e",
   "metadata": {},
   "outputs": [],
   "source": [
    "%%manim -qm C1A06\n",
    "\n",
    "class C1A06(Scene):\n",
    "    def construct(self):\n",
    "        linea1 = Text(\"En un lugar de la Mancha\",color=BLUE)\n",
    "        linea2 = Text(\"de cuyo nombre no quiero acordarme...\")\n",
    "        texto  = VGroup(linea1,linea2).arrange(DOWN).to_edge(UP,buff=2)\n",
    "        self.play(FadeIn(texto[0]))\n",
    "        self.play(Create(texto[1]))\n",
    "        self.wait()\n",
    "        self.play(Uncreate(texto))\n",
    "        self.wait()"
   ]
  },
  {
   "cell_type": "markdown",
   "id": "9e26de9e",
   "metadata": {},
   "source": [
    "#### Análisis\n",
    "\n",
    "El objetivo de esta animación es mostrar el papel que pueden jugar los *grupos*. Un `VGroup` es un grupo que admite elementos vectorizados (no nos importa mucho qué significa eso, ahora). También existe un objeto `Group`. En este caso, ambas líneas están, en principio, en el centro de la escena y por lo tanto superpuestas. Las ponemos dentro de un `VGroup` que se llama `texto`. A ese `VGroup` le aplicamos la función `arrange`. `arrange` permite organizar los distintos elementos de un grupo. En este caso, los organizamos con el parámetro `DOWN`, es decir: uno debajo del otro. Hasta aquí, la primera línea aparecería en el centro de la pantalla y la segunda debajo. Pero además, le aplicamos al grupo la función `to_edge` para moverlo hacia el margen superior. Las animaciones se realizan haciendo referencia a los elementos que componen `texto` según su índice (0 para `linea_1` y 1 para `linea_2`). Cabe remarcar que también podrían hacerse usando `linea_1` y `linea_2`, que siguen existiendo con esos nombres.\n",
    "\n",
    "Fuera de eso, la animación muestra que: \n",
    " * Las funciones `FadeIn` y `Create` también se aplican sobre texto. \n",
    " * Existe una función `Uncreate` que se puede aplicar sobre cualquier objeto y hace lo inverso de `Create`. "
   ]
  },
  {
   "cell_type": "markdown",
   "id": "4de63c3b",
   "metadata": {},
   "source": [
    "### Octava Animación\n",
    "\n",
    "Supongamos ahora que queremos colorear sólo la palabra \"Mancha\". Hasta ahora, sólo sabemos colorear un bloque de texto, definido como `Text`. Por lo tanto, una opción es  generar tres objetos de tipo `Text`: uno para la primera parte de la primera línea, uno para la palabra \"Mancha\" y otro para la segunda línea. Luego, habría que agrupar los primeros dos en un grupo para formar la primera línea y finalmente agrupar ese grupo con la segunda línea. Eso hace la siguiente animación: "
   ]
  },
  {
   "cell_type": "code",
   "execution_count": null,
   "id": "4841d7fd",
   "metadata": {},
   "outputs": [],
   "source": [
    "%%manim -qm C1A07\n",
    "\n",
    "class C1A07(Scene):\n",
    "    def construct(self):\n",
    "        linea1_1 = Text(\"En un lugar de la\")\n",
    "        linea1_2 = Text(\"Mancha\",color=BLUE)\n",
    "        linea2   = Text(\"de cuyo nombre no quiero acordarme...\")\n",
    "        linea1   = VGroup(linea1_1,linea1_2).arrange(RIGHT,aligned_edge=UP)\n",
    "        texto    = VGroup(linea1,linea2).arrange(DOWN).to_edge(UP,buff=2)\n",
    "        self.play(FadeIn(texto[0]))\n",
    "        self.play(Create(texto[1]))\n",
    "        self.wait()\n",
    "        self.play(Wiggle(linea1_2)) #ApplyWave\n",
    "        self.wait()\n",
    "        self.play(Uncreate(texto))\n",
    "        self.wait()\n"
   ]
  },
  {
   "cell_type": "markdown",
   "id": "dd320fb0",
   "metadata": {},
   "source": [
    "#### Análisis\n",
    "\n",
    "La creación del texto hace lo que anticipamos. El único detalle a tener en cuenta es el parámetro `aligned_edge` que le aplicamos al grupo que forma la primera línea. Esto es necesario porque la altura de los fragmentos de texto no es homogénea, sino que depende de las letras que participen de cada fragmento. Si simplemente ponemos un bloque al lado del otro, va a haber una pequeña diferencia en la alineación: no va a parecer que están sobre un mismo renglón. Las alineamos, por lo tanto, emparejando la parte superior. \n",
    "\n",
    "Agregamos, además, la animación `Wiggle` que sirve para llamar la atención sobre ese objeto. Con el mismo fin se puede aplicar la función `ApplyWave` (y algunas otras). "
   ]
  },
  {
   "cell_type": "markdown",
   "id": "864b76b2",
   "metadata": {},
   "source": [
    "### Novena Animación\n",
    "\n",
    "Existen recursos que permiten simplificar el código de la animación anterior. Si se quiere colorear sólo la palabra \"Mancha\", no hace falta ponerla en un objeto especial sólo para ella."
   ]
  },
  {
   "cell_type": "code",
   "execution_count": null,
   "id": "04b98c52",
   "metadata": {},
   "outputs": [],
   "source": [
    "%%manim -qm C1A08\n",
    "\n",
    "class C1A08(Scene):\n",
    "    def construct(self):\n",
    "        linea1 = Text(\"En un lugar de la Mancha\",t2c={\"Mancha\":BLUE},t2w={\"Mancha\":BOLD})\n",
    "        linea2 = Text(\"de cuyo nombre no quiero acordarme...\")\n",
    "        texto  = VGroup(linea1,linea2).arrange(DOWN).to_edge(UP,buff=2)\n",
    "        self.play(FadeIn(texto[0]))\n",
    "        self.play(Create(texto[1]))\n",
    "        self.wait()\n",
    "        self.play(Uncreate(texto))\n",
    "        self.wait()"
   ]
  },
  {
   "cell_type": "markdown",
   "id": "7a4e7c90",
   "metadata": {},
   "source": [
    "#### Análisis\n",
    "\n",
    "Los parámetros opcionales `t2c` (*text to color*) y `t2w` (*text to weight*) permiten darle propiedades especiales a ciertos trozos de texto. Concretamente, la opción: \n",
    "\n",
    "    t2c = {\"Mancha\":BLUE}\n",
    "\n",
    "define un *diccionario* (es un tipo de dato nativo de Python) en el que la palabra \"Mancha\" se asocia al color azul. De manera similar opera `t2w`. Cabe remarcar que se podrían agregar elementos al diccionario. Por ejemplo: \n",
    "\n",
    "    t2c = {\"Mancha\":BLUE, \"En\":RED, \"l\":GREEN}\n",
    "\n",
    "pintaría de azul \"Mancha\", de rojo \"En\" y de verde todas las letras \"l\" de la frase. "
   ]
  },
  {
   "cell_type": "markdown",
   "id": "64df625b",
   "metadata": {},
   "source": [
    "### Décima animación\n",
    "\n",
    "En sentido estricto, tampoco hace falta tener un objeto distinto para cada línea. El comando \"\\n\" dentro de una cadena de texto produce una bajada de línea (\"\\n\" significa *new line*). El único detalle es que se pierde el centrado:"
   ]
  },
  {
   "cell_type": "code",
   "execution_count": null,
   "id": "95be4e09",
   "metadata": {},
   "outputs": [],
   "source": [
    "%%manim -qm C1A09\n",
    "\n",
    "class C1A09(Scene):\n",
    "    def construct(self):\n",
    "        lineas = Text(\"En un lugar de la Mancha\\nde cuyo nombre no quiero acordarme...\",\n",
    "                        t2c={\"Mancha\":BLUE}).to_edge(UP,buff=1.5)\n",
    "        self.play(Write(lineas))\n",
    "        self.wait()"
   ]
  },
  {
   "cell_type": "markdown",
   "id": "40ca8c11",
   "metadata": {},
   "source": [
    "### TAREA: \n",
    "Crear una animación que combine texto con alguna figura geométrica, procurando posicionar los distintos elementos de alguna manera determinada: el objeto contra un borde y el texto a un costado, o debajo, etc. Diseñen la animación como gusten. Lo importante es obtener la disposición deseada de los elementos en la pantalla. Nota: así como existe la función `to_edge`, existe la función `to_corner`. Las esquinas son: `UR`, `UL`, `DL` y `DR`. "
   ]
  },
  {
   "cell_type": "markdown",
   "id": "32ee81e4",
   "metadata": {},
   "source": [
    "## Tercera Parte: Texto Matemático"
   ]
  },
  {
   "cell_type": "markdown",
   "id": "532e2321",
   "metadata": {},
   "source": [
    "Hay esencialmente dos objetos que permiten introducir texto matemático. `Tex` corresponde a una cadena que se procesa con Látex y que puede incluir texto y matemática (encerrada entre $\\$$). `MathTex` procesa el contenido como matemática (y no hay que poner los símbolos de $\\$$)."
   ]
  },
  {
   "cell_type": "markdown",
   "id": "006fe174",
   "metadata": {},
   "source": [
    "### Oncena Animación"
   ]
  },
  {
   "cell_type": "code",
   "execution_count": null,
   "id": "cd20d543",
   "metadata": {},
   "outputs": [],
   "source": [
    "%%manim -qm C1A10\n",
    "\n",
    "class C1A10(Scene):\n",
    "    def construct(self):\n",
    "        texto1 = Tex(r\"Pitágoras dice: $a^2+b^2=h^2$\").to_edge(UP,buff=1)\n",
    "        texto2 = Text(\"Alternativamente: \").next_to(texto1,DOWN,buff=1)\n",
    "        texto3 = MathTex(r\"a^2+b^2=h^2\").next_to(texto2,DOWN,buff=0.5)\n",
    "        self.play(Write(texto1))\n",
    "        self.wait()\n",
    "        self.play(FadeIn(VGroup(texto2,texto3)))\n",
    "        self.wait()"
   ]
  },
  {
   "cell_type": "markdown",
   "id": "0c177e57",
   "metadata": {},
   "source": [
    "#### Análisis\n",
    "\n",
    "Lo único que es importante observar es la `r` que va delante del texto tanto en `Tex` como en `MathTex`. Esa `r` significa *raw*  y le indica a Manim que el texto debe procesarse con Látex de manera cruda. Esto es porque algunos comandos de Látex pueden entrar en conflicto con comandos propios del texto. Por ejemplo, el comando `\\nabla` crearía una ambigüedad dado que no estaría claro si debe leerse como el símbolo $\\nabla$ o como un salto de línea (\"\\n\" y luego el texto \"abla\"). Al pasarse como *raw*, se asume que el texto no contiene comandos como \"\\n\" y todo se procesa como Látex. \n",
    "\n",
    "Si uno quisiera combinar elementos como \"\\n\" con comandos de Látex, habría que eliminar la `r` pero en tal caso los comandos de Látex deben escribirse con doble barra: `\\\\nabla`. "
   ]
  },
  {
   "cell_type": "markdown",
   "id": "6ac86ddb",
   "metadata": {},
   "source": [
    "## Cierre\n",
    "\n",
    "A modo de cierre dejamos una animación que sintetiza lo que vimos: "
   ]
  },
  {
   "cell_type": "code",
   "execution_count": null,
   "id": "d659b6c3",
   "metadata": {},
   "outputs": [],
   "source": [
    "%%manim -qm Cierre \n",
    "\n",
    "class Cierre(Scene):\n",
    "    def mezclar(self,grupo):\n",
    "        colores = [BLUE,TEAL,GREEN,YELLOW,GOLD,RED,MAROON,PURPLE]\n",
    "        for i in range(len(grupo)):\n",
    "                t1 = 0.5*(np.random.uniform()-0.5)\n",
    "                t2 = 0.5*(np.random.uniform()-0.5)\n",
    "                c  = np.random.randint(len(colores))\n",
    "                grupo[i].shift(t1*UP+t2*RIGHT)\n",
    "                grupo[i].set_color(colores[c])\n",
    "                \n",
    "    def mostrar_grupo(self,words,frame,title,corner,buff=1.5):\n",
    "        self.play(LaggedStart(*[Write(a) for a in words],lag_ratio=0.5))\n",
    "        self.wait()\n",
    "        self.play(Create(frame))\n",
    "        self.play(VGroup(words,frame).animate.scale(0.6))\n",
    "        self.play(VGroup(words,frame).animate.to_corner(corner,buff=buff))\n",
    "        title.scale(0.8).next_to(frame,UP)\n",
    "        self.play(Write(title))\n",
    "        \n",
    "    def construct(self):\n",
    "        mobj  = [\"Circle\",\"Square\",\"Triangle\",\"Dot\",\"Line\",\"Polygon\",\"Text\",\"Tex\",\"MathTex\"]\n",
    "        anim  = [\"Create\",\"Write\",\"FadeIn\",\"FadeOut\",\"Wiggle\", \"Rotate\",\"Transform\"]\n",
    "        scfun = [\"add\",\"wait\",\"play\"]\n",
    "        mjfun = [\"shift\",\"next_to\",\"to_edge\",\"scale\",\"animate\"]\n",
    "        Mobj  = VGroup(*[Text(a) for a in mobj]).arrange_in_grid(3,3)\n",
    "        Anim  = VGroup(*[Text(a) for a in anim]).arrange_in_grid(4,2)\n",
    "        ScFun = VGroup(*[Text(a) for a in scfun]).arrange(DOWN)\n",
    "        MjFun = VGroup(*[Text(a) for a in mjfun]).arrange_in_grid(3,2)\n",
    "        self.mezclar(Mobj)\n",
    "        self.mezclar(Anim)\n",
    "        self.mezclar(ScFun)\n",
    "        self.mezclar(MjFun)\n",
    "\n",
    "        rMobj  = SurroundingRectangle(Mobj,corner_radius=0.2,color=GOLD)\n",
    "        rAnim  = SurroundingRectangle(Anim,corner_radius=0.2,color=PURPLE)\n",
    "        rScFun = SurroundingRectangle(ScFun,corner_radius=0.2,color=TEAL)\n",
    "        rMjFun = SurroundingRectangle(MjFun,corner_radius=0.2,color=MAROON)\n",
    "        \n",
    "        tMobj  = Text(\"Mobjects\",color=GOLD)\n",
    "        tAnim  = Text(\"Animations\",color=PURPLE)\n",
    "        tScFun = Text(\"Scene Functions\",color=TEAL)\n",
    "        tMjFun = Text(\"Mobject Functions\",color=MAROON)\n",
    "        \n",
    "        self.mostrar_grupo(Mobj,rMobj,tMobj,UL)\n",
    "        self.wait(5)\n",
    "        \n",
    "        self.mostrar_grupo(MjFun,rMjFun,tMjFun,DL)\n",
    "        arrow = Arrow(rMobj.get_bottom(),tMjFun.get_top())\n",
    "        self.play(Create(arrow))\n",
    "        self.wait(4)\n",
    "    \n",
    "        self.mostrar_grupo(ScFun,rScFun,tScFun,UR,2)    \n",
    "        self.wait(4)\n",
    "        \n",
    "        Anim.shift(RIGHT)\n",
    "        rAnim.shift(RIGHT)\n",
    "        self.mostrar_grupo(Anim,rAnim,tAnim,DR) \n",
    "        self.wait(4)\n",
    "        \n",
    "        line1 = DashedLine(ScFun[2].get_bottom(),tAnim.get_top())\n",
    "        line2 = DashedLine(rAnim.get_left(),rMobj.get_right())\n",
    "        self.play(Create(line1))\n",
    "        self.play(Create(line2))"
   ]
  },
  {
   "cell_type": "markdown",
   "id": "1acd69f9",
   "metadata": {},
   "source": [
    "Todos los elementos que mostramos en pantalla (figuras geométricas o texto) son `Mobjects` (es decir: \"Manim objects\"). Todos los `Mobjects` tienen ciertas funciones que les son propias y permiten modificarlos en sus características, en su ubicación, etc. Además, vimos funciones que son propias de la clase `Scene` que nos permiten controlar la dinámica de lo que ocurre en la animación. Y también vimos funciones externas que ejecutan animaciones sobre los `Mobjects`. Estas animaciones normalmente se aplican usando `play` sobre la animación y ésta sobre el objeto a animar. \n",
    "\n",
    "#### Sintaxis: \n",
    "\n",
    "La sintaxis de todas estas cosas sigue reglas fijas: tanto los `Mobjects` como las animaciones, al ser cosas en sí mismas, que no dependen de nadie, se escriben con mayúscula en la primera letra. Y si el nombre tiene varias palabras éstas van unidas sin espacio y con mayúscula al iniciar cada palabra. En cambio, las funciones que son interiores de una clase (tanto las de los `Mobjects` generales como las de `Scene`) se escriben en minúscula y si hay varias palabras se separan con un _. \n",
    "\n",
    "Además, los nombres son siempre descriptivos, de modo que resulta bastante fácil intuir qué hacen e incluso cómo se usan. \n",
    "\n",
    "Por último, aparecieron también ciertas *constantes*, como los colores (`BLUE`, `RED`, etc.), las posiciones en la pantalla (`UP`, `RIGHT`, `DL`, etc.) o ciertos números (`PI`). Las constantes tienen valores fijos y se escriben todo con mayúscula. "
   ]
  }
 ],
 "metadata": {
  "interpreter": {
   "hash": "b0fa6594d8f4cbf19f97940f81e996739fb7646882a419484c72d19e05852a7e"
  },
  "kernelspec": {
   "display_name": "Python 3.9.12 64-bit",
   "language": "python",
   "name": "python3"
  },
  "language_info": {
   "codemirror_mode": {
    "name": "ipython",
    "version": 3
   },
   "file_extension": ".py",
   "mimetype": "text/x-python",
   "name": "python",
   "nbconvert_exporter": "python",
   "pygments_lexer": "ipython3",
   "version": "3.9.12"
  }
 },
 "nbformat": 4,
 "nbformat_minor": 5
}
