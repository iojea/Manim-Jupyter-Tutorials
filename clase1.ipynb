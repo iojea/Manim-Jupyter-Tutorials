{
 "cells": [
  {
   "cell_type": "markdown",
   "id": "discrete-battlefield",
   "metadata": {},
   "source": [
    "## Manim - Clase 1\n",
    "\n",
    "Esta notebook contiene los ejemplos de la primera clase. Para correr una celda hay que hacer click sobre ella y luego o bien apretar el botón \"Run\" o bien apretar `<Shift + Enter>`. "
   ]
  },
  {
   "cell_type": "code",
   "execution_count": null,
   "id": "laden-series",
   "metadata": {},
   "outputs": [],
   "source": [
    "from manim import *"
   ]
  },
  {
   "cell_type": "markdown",
   "id": "hydraulic-bracelet",
   "metadata": {},
   "source": [
    "Esto son sólo comandos de configuración para Jupyter. "
   ]
  },
  {
   "cell_type": "code",
   "execution_count": null,
   "id": "informal-combine",
   "metadata": {},
   "outputs": [],
   "source": [
    "config.media_width = \"80%\"\n",
    "config.verbosity = \"WARNING\""
   ]
  },
  {
   "cell_type": "markdown",
   "id": "collective-flexibility",
   "metadata": {},
   "source": [
    "## Primera parte: Figuras geométricas"
   ]
  },
  {
   "cell_type": "code",
   "execution_count": null,
   "id": "adopted-fluid",
   "metadata": {},
   "outputs": [],
   "source": [
    "%%manim -qm FirstExample\n",
    "\n",
    "class C1A00(Scene):\n",
    "    def construct(self):\n",
    "        circulo = Circle()\n",
    "        circulo.set_fill(PINK,opacity=0.5)\n",
    "        self.play(Create(circulo)) #self.add + self.wait        "
   ]
  }
 ],
 "metadata": {
  "kernelspec": {
   "display_name": "Python 3.9.7 64-bit ('manim-U7iPD1cl-py3.9': poetry)",
   "language": "python",
   "name": "python397jvsc74a57bd0077578ffb0885fac61d66748d17d69ece81a9c3c2de51f585b3d06d19f35a5ea"
  },
  "language_info": {
   "codemirror_mode": {
    "name": "ipython",
    "version": 3
   },
   "file_extension": ".py",
   "mimetype": "text/x-python",
   "name": "python",
   "nbconvert_exporter": "python",
   "pygments_lexer": "ipython3",
   "version": "3.9.7"
  }
 },
 "nbformat": 4,
 "nbformat_minor": 5
}
