{
 "cells": [
  {
   "cell_type": "markdown",
   "metadata": {},
   "source": [
    "## Manim - Clase 3"
   ]
  },
  {
   "cell_type": "code",
   "execution_count": 1,
   "metadata": {},
   "outputs": [
    {
     "data": {
      "text/html": [
       "<pre style=\"white-space:pre;overflow-x:auto;line-height:normal;font-family:Menlo,'DejaVu Sans Mono',consolas,'Courier New',monospace\">Manim Community <span style=\"color: #008000\">v0.15.2</span>\n",
       "\n",
       "</pre>\n"
      ],
      "text/plain": [
       "<rich.jupyter.JupyterRenderable at 0x123d34970>"
      ]
     },
     "metadata": {},
     "output_type": "display_data"
    }
   ],
   "source": [
    "from manim import *"
   ]
  },
  {
   "cell_type": "markdown",
   "metadata": {},
   "source": [
    "### Sincronización de animaciones"
   ]
  },
  {
   "cell_type": "markdown",
   "metadata": {},
   "source": [
    "Algo que hasta ahora nos vino faltando es algún elemento que nos permita sincronizar animaciones, de modo de tener en pantalla varias cosas ocurriendo al mismo tiempo, coordinadas. \n",
    "\n",
    "Uno de los principales recursos para lograr esto proviene de la combinación de un objeto de clase `ValueTracker` con la función `always_redraw`. \n",
    "\n",
    "Un `ValueTracker` es esencialmente una variable numérica, con la particularidad de que nos permite informar a otros elementos de sus cambios de valor. Veamos un ejemplo:"
   ]
  },
  {
   "cell_type": "markdown",
   "metadata": {},
   "source": [
    "### Primera Animación\n",
    "\n",
    "Recomendamos correr el siguiente bloque y mirar la animación resultante antes de leer el código. Ayuda tener en mente el resultado, para comprender la lógica subyacente. "
   ]
  },
  {
   "cell_type": "code",
   "execution_count": 3,
   "metadata": {},
   "outputs": [
    {
     "data": {
      "text/html": [
       "<pre style=\"white-space:pre;overflow-x:auto;line-height:normal;font-family:Menlo,'DejaVu Sans Mono',consolas,'Courier New',monospace\"><span style=\"color: #7fbfbf\">[05/21/22 19:27:35] </span><span style=\"color: #008000\">INFO</span>     Animation <span style=\"color: #008000\">0</span> : Using cached data <span style=\"font-weight: bold\">(</span>hash :     <a href=\"file:///opt/homebrew/lib/python3.9/site-packages/manim/renderer/cairo_renderer.py\"><span style=\"color: #7f7f7f\">cairo_renderer.py</span></a><span style=\"color: #7f7f7f\">:75</span>\n",
       "                             1342159004_3027955968_223132457<span style=\"font-weight: bold\">)</span>                                \n",
       "</pre>\n"
      ],
      "text/plain": [
       "<rich.jupyter.JupyterRenderable at 0x1420baac0>"
      ]
     },
     "metadata": {},
     "output_type": "display_data"
    },
    {
     "name": "stderr",
     "output_type": "stream",
     "text": [
      "                                                                                        \r"
     ]
    },
    {
     "data": {
      "text/html": [
       "<pre style=\"white-space:pre;overflow-x:auto;line-height:normal;font-family:Menlo,'DejaVu Sans Mono',consolas,'Courier New',monospace\"><span style=\"color: #7fbfbf\">                    </span><span style=\"color: #008000\">INFO</span>     Animation <span style=\"color: #008000\">1</span> : Partial movie file        <a href=\"file:///opt/homebrew/lib/python3.9/site-packages/manim/scene/scene_file_writer.py\"><span style=\"color: #7f7f7f\">scene_file_writer.py</span></a><span style=\"color: #7f7f7f\">:504</span>\n",
       "                             written in <span style=\"color: #008000\">'/Users/iojea/Seafile/Nube/g</span>                         \n",
       "                             <span style=\"color: #008000\">it/Manim-Jupyter-Tutorials/media/videos</span>                         \n",
       "                             <span style=\"color: #008000\">/Manim-Jupyter-Tutorials/720p30/partial</span>                         \n",
       "                             <span style=\"color: #008000\">_movie_files/C3A00/1353618911_897329692</span>                         \n",
       "                             <span style=\"color: #008000\">_3073499576.mp4'</span>                                                \n",
       "</pre>\n"
      ],
      "text/plain": [
       "<rich.jupyter.JupyterRenderable at 0x1420a0b20>"
      ]
     },
     "metadata": {},
     "output_type": "display_data"
    },
    {
     "data": {
      "text/html": [
       "<pre style=\"white-space:pre;overflow-x:auto;line-height:normal;font-family:Menlo,'DejaVu Sans Mono',consolas,'Courier New',monospace\"><span style=\"color: #7fbfbf\">                    </span><span style=\"color: #008000\">INFO</span>     Animation <span style=\"color: #008000\">2</span> : Using cached data <span style=\"font-weight: bold\">(</span>hash :     <a href=\"file:///opt/homebrew/lib/python3.9/site-packages/manim/renderer/cairo_renderer.py\"><span style=\"color: #7f7f7f\">cairo_renderer.py</span></a><span style=\"color: #7f7f7f\">:75</span>\n",
       "                             1353618911_3995828447_1671982368<span style=\"font-weight: bold\">)</span>                               \n",
       "</pre>\n"
      ],
      "text/plain": [
       "<rich.jupyter.JupyterRenderable at 0x1420adc70>"
      ]
     },
     "metadata": {},
     "output_type": "display_data"
    },
    {
     "name": "stderr",
     "output_type": "stream",
     "text": [
      "                                                                                            \r"
     ]
    },
    {
     "data": {
      "text/html": [
       "<pre style=\"white-space:pre;overflow-x:auto;line-height:normal;font-family:Menlo,'DejaVu Sans Mono',consolas,'Courier New',monospace\"><span style=\"color: #7fbfbf\">[05/21/22 19:27:36] </span><span style=\"color: #008000\">INFO</span>     Animation <span style=\"color: #008000\">3</span> : Partial movie file        <a href=\"file:///opt/homebrew/lib/python3.9/site-packages/manim/scene/scene_file_writer.py\"><span style=\"color: #7f7f7f\">scene_file_writer.py</span></a><span style=\"color: #7f7f7f\">:504</span>\n",
       "                             written in <span style=\"color: #008000\">'/Users/iojea/Seafile/Nube/g</span>                         \n",
       "                             <span style=\"color: #008000\">it/Manim-Jupyter-Tutorials/media/videos</span>                         \n",
       "                             <span style=\"color: #008000\">/Manim-Jupyter-Tutorials/720p30/partial</span>                         \n",
       "                             <span style=\"color: #008000\">_movie_files/C3A00/1353618911_205386271</span>                         \n",
       "                             <span style=\"color: #008000\">7_1136356713.mp4'</span>                                               \n",
       "</pre>\n"
      ],
      "text/plain": [
       "<rich.jupyter.JupyterRenderable at 0x1179f7970>"
      ]
     },
     "metadata": {},
     "output_type": "display_data"
    },
    {
     "data": {
      "text/html": [
       "<pre style=\"white-space:pre;overflow-x:auto;line-height:normal;font-family:Menlo,'DejaVu Sans Mono',consolas,'Courier New',monospace\"><span style=\"color: #7fbfbf\">[05/21/22 19:27:37] </span><span style=\"color: #008000\">INFO</span>     Animation <span style=\"color: #008000\">4</span> : Partial movie file        <a href=\"file:///opt/homebrew/lib/python3.9/site-packages/manim/scene/scene_file_writer.py\"><span style=\"color: #7f7f7f\">scene_file_writer.py</span></a><span style=\"color: #7f7f7f\">:504</span>\n",
       "                             written in <span style=\"color: #008000\">'/Users/iojea/Seafile/Nube/g</span>                         \n",
       "                             <span style=\"color: #008000\">it/Manim-Jupyter-Tutorials/media/videos</span>                         \n",
       "                             <span style=\"color: #008000\">/Manim-Jupyter-Tutorials/720p30/partial</span>                         \n",
       "                             <span style=\"color: #008000\">_movie_files/C3A00/1353618911_641011677</span>                         \n",
       "                             <span style=\"color: #008000\">_4190691711.mp4'</span>                                                \n",
       "</pre>\n"
      ],
      "text/plain": [
       "<rich.jupyter.JupyterRenderable at 0x1420b7a60>"
      ]
     },
     "metadata": {},
     "output_type": "display_data"
    },
    {
     "data": {
      "text/html": [
       "<pre style=\"white-space:pre;overflow-x:auto;line-height:normal;font-family:Menlo,'DejaVu Sans Mono',consolas,'Courier New',monospace\"><span style=\"color: #7fbfbf\">                    </span><span style=\"color: #008000\">INFO</span>     Animation <span style=\"color: #008000\">5</span> : Using cached data <span style=\"font-weight: bold\">(</span>hash :     <a href=\"file:///opt/homebrew/lib/python3.9/site-packages/manim/renderer/cairo_renderer.py\"><span style=\"color: #7f7f7f\">cairo_renderer.py</span></a><span style=\"color: #7f7f7f\">:75</span>\n",
       "                             1353618911_1025206430_877073073<span style=\"font-weight: bold\">)</span>                                \n",
       "</pre>\n"
      ],
      "text/plain": [
       "<rich.jupyter.JupyterRenderable at 0x1420b7d60>"
      ]
     },
     "metadata": {},
     "output_type": "display_data"
    },
    {
     "name": "stderr",
     "output_type": "stream",
     "text": [
      "                                                                                            \r"
     ]
    },
    {
     "data": {
      "text/html": [
       "<pre style=\"white-space:pre;overflow-x:auto;line-height:normal;font-family:Menlo,'DejaVu Sans Mono',consolas,'Courier New',monospace\"><span style=\"color: #7fbfbf\">[05/21/22 19:27:38] </span><span style=\"color: #008000\">INFO</span>     Animation <span style=\"color: #008000\">6</span> : Partial movie file        <a href=\"file:///opt/homebrew/lib/python3.9/site-packages/manim/scene/scene_file_writer.py\"><span style=\"color: #7f7f7f\">scene_file_writer.py</span></a><span style=\"color: #7f7f7f\">:504</span>\n",
       "                             written in <span style=\"color: #008000\">'/Users/iojea/Seafile/Nube/g</span>                         \n",
       "                             <span style=\"color: #008000\">it/Manim-Jupyter-Tutorials/media/videos</span>                         \n",
       "                             <span style=\"color: #008000\">/Manim-Jupyter-Tutorials/720p30/partial</span>                         \n",
       "                             <span style=\"color: #008000\">_movie_files/C3A00/1353618911_86255495_</span>                         \n",
       "                             <span style=\"color: #008000\">2960893771.mp4'</span>                                                 \n",
       "</pre>\n"
      ],
      "text/plain": [
       "<rich.jupyter.JupyterRenderable at 0x1420ba490>"
      ]
     },
     "metadata": {},
     "output_type": "display_data"
    },
    {
     "data": {
      "text/html": [
       "<pre style=\"white-space:pre;overflow-x:auto;line-height:normal;font-family:Menlo,'DejaVu Sans Mono',consolas,'Courier New',monospace\"><span style=\"color: #7fbfbf\">                    </span><span style=\"color: #008000\">INFO</span>     Animation <span style=\"color: #008000\">7</span> : Using cached data <span style=\"font-weight: bold\">(</span>hash :     <a href=\"file:///opt/homebrew/lib/python3.9/site-packages/manim/renderer/cairo_renderer.py\"><span style=\"color: #7f7f7f\">cairo_renderer.py</span></a><span style=\"color: #7f7f7f\">:75</span>\n",
       "                             1353618911_641011677_564044910<span style=\"font-weight: bold\">)</span>                                 \n",
       "</pre>\n"
      ],
      "text/plain": [
       "<rich.jupyter.JupyterRenderable at 0x1420cd370>"
      ]
     },
     "metadata": {},
     "output_type": "display_data"
    },
    {
     "data": {
      "text/html": [
       "<pre style=\"white-space:pre;overflow-x:auto;line-height:normal;font-family:Menlo,'DejaVu Sans Mono',consolas,'Courier New',monospace\"><span style=\"color: #7fbfbf\">                    </span><span style=\"color: #008000\">INFO</span>     Animation <span style=\"color: #008000\">8</span> : Using cached data <span style=\"font-weight: bold\">(</span>hash :     <a href=\"file:///opt/homebrew/lib/python3.9/site-packages/manim/renderer/cairo_renderer.py\"><span style=\"color: #7f7f7f\">cairo_renderer.py</span></a><span style=\"color: #7f7f7f\">:75</span>\n",
       "                             1353618911_2566736361_56708560<span style=\"font-weight: bold\">)</span>                                 \n",
       "</pre>\n"
      ],
      "text/plain": [
       "<rich.jupyter.JupyterRenderable at 0x1179d0c40>"
      ]
     },
     "metadata": {},
     "output_type": "display_data"
    },
    {
     "name": "stderr",
     "output_type": "stream",
     "text": [
      "                                                                                  \r"
     ]
    },
    {
     "data": {
      "text/html": [
       "<pre style=\"white-space:pre;overflow-x:auto;line-height:normal;font-family:Menlo,'DejaVu Sans Mono',consolas,'Courier New',monospace\"><span style=\"color: #7fbfbf\">                    </span><span style=\"color: #008000\">INFO</span>     Animation <span style=\"color: #008000\">9</span> : Partial movie file        <a href=\"file:///opt/homebrew/lib/python3.9/site-packages/manim/scene/scene_file_writer.py\"><span style=\"color: #7f7f7f\">scene_file_writer.py</span></a><span style=\"color: #7f7f7f\">:504</span>\n",
       "                             written in <span style=\"color: #008000\">'/Users/iojea/Seafile/Nube/g</span>                         \n",
       "                             <span style=\"color: #008000\">it/Manim-Jupyter-Tutorials/media/videos</span>                         \n",
       "                             <span style=\"color: #008000\">/Manim-Jupyter-Tutorials/720p30/partial</span>                         \n",
       "                             <span style=\"color: #008000\">_movie_files/C3A00/1353618911_641011677</span>                         \n",
       "                             <span style=\"color: #008000\">_1695868960.mp4'</span>                                                \n",
       "</pre>\n"
      ],
      "text/plain": [
       "<rich.jupyter.JupyterRenderable at 0x142125610>"
      ]
     },
     "metadata": {},
     "output_type": "display_data"
    },
    {
     "name": "stderr",
     "output_type": "stream",
     "text": [
      "                                                                                             \r"
     ]
    },
    {
     "data": {
      "text/html": [
       "<pre style=\"white-space:pre;overflow-x:auto;line-height:normal;font-family:Menlo,'DejaVu Sans Mono',consolas,'Courier New',monospace\"><span style=\"color: #7fbfbf\">[05/21/22 19:27:39] </span><span style=\"color: #008000\">INFO</span>     Animation <span style=\"color: #008000\">10</span> : Partial movie file       <a href=\"file:///opt/homebrew/lib/python3.9/site-packages/manim/scene/scene_file_writer.py\"><span style=\"color: #7f7f7f\">scene_file_writer.py</span></a><span style=\"color: #7f7f7f\">:504</span>\n",
       "                             written in <span style=\"color: #008000\">'/Users/iojea/Seafile/Nube/g</span>                         \n",
       "                             <span style=\"color: #008000\">it/Manim-Jupyter-Tutorials/media/videos</span>                         \n",
       "                             <span style=\"color: #008000\">/Manim-Jupyter-Tutorials/720p30/partial</span>                         \n",
       "                             <span style=\"color: #008000\">_movie_files/C3A00/1353618911_268050444</span>                         \n",
       "                             <span style=\"color: #008000\">1_2091066456.mp4'</span>                                               \n",
       "</pre>\n"
      ],
      "text/plain": [
       "<rich.jupyter.JupyterRenderable at 0x1420a0c10>"
      ]
     },
     "metadata": {},
     "output_type": "display_data"
    },
    {
     "data": {
      "text/html": [
       "<pre style=\"white-space:pre;overflow-x:auto;line-height:normal;font-family:Menlo,'DejaVu Sans Mono',consolas,'Courier New',monospace\"><span style=\"color: #7fbfbf\">                    </span><span style=\"color: #008000\">INFO</span>     Animation <span style=\"color: #008000\">11</span> : Partial movie file       <a href=\"file:///opt/homebrew/lib/python3.9/site-packages/manim/scene/scene_file_writer.py\"><span style=\"color: #7f7f7f\">scene_file_writer.py</span></a><span style=\"color: #7f7f7f\">:504</span>\n",
       "                             written in <span style=\"color: #008000\">'/Users/iojea/Seafile/Nube/g</span>                         \n",
       "                             <span style=\"color: #008000\">it/Manim-Jupyter-Tutorials/media/videos</span>                         \n",
       "                             <span style=\"color: #008000\">/Manim-Jupyter-Tutorials/720p30/partial</span>                         \n",
       "                             <span style=\"color: #008000\">_movie_files/C3A00/1353618911_350334675</span>                         \n",
       "                             <span style=\"color: #008000\">3_97888515.mp4'</span>                                                 \n",
       "</pre>\n"
      ],
      "text/plain": [
       "<rich.jupyter.JupyterRenderable at 0x1420cd070>"
      ]
     },
     "metadata": {},
     "output_type": "display_data"
    },
    {
     "data": {
      "text/html": [
       "<pre style=\"white-space:pre;overflow-x:auto;line-height:normal;font-family:Menlo,'DejaVu Sans Mono',consolas,'Courier New',monospace\"><span style=\"color: #7fbfbf\">                    </span><span style=\"color: #008000\">INFO</span>     Combining to Movie file.                <a href=\"file:///opt/homebrew/lib/python3.9/site-packages/manim/scene/scene_file_writer.py\"><span style=\"color: #7f7f7f\">scene_file_writer.py</span></a><span style=\"color: #7f7f7f\">:597</span>\n",
       "</pre>\n"
      ],
      "text/plain": [
       "<rich.jupyter.JupyterRenderable at 0x1420cd0d0>"
      ]
     },
     "metadata": {},
     "output_type": "display_data"
    },
    {
     "data": {
      "text/html": [
       "<pre style=\"white-space:pre;overflow-x:auto;line-height:normal;font-family:Menlo,'DejaVu Sans Mono',consolas,'Courier New',monospace\"><span style=\"color: #7fbfbf\">[05/21/22 19:27:40] </span><span style=\"color: #008000\">INFO</span>                                             <a href=\"file:///opt/homebrew/lib/python3.9/site-packages/manim/scene/scene_file_writer.py\"><span style=\"color: #7f7f7f\">scene_file_writer.py</span></a><span style=\"color: #7f7f7f\">:718</span>\n",
       "                             <span style=\"color: #808000; font-weight: bold\">File</span> ready at <span style=\"color: #008000\">'/Users/iojea/Seafile/Nub</span>                         \n",
       "                             <span style=\"color: #008000\">e/git/Manim-Jupyter-Tutorials/media/vid</span>                         \n",
       "                             <span style=\"color: #008000\">eos/Manim-Jupyter-Tutorials/720p30/C3A0</span>                         \n",
       "                             <span style=\"color: #008000\">0.mp4'</span>                                                          \n",
       "                                                                                             \n",
       "</pre>\n"
      ],
      "text/plain": [
       "<rich.jupyter.JupyterRenderable at 0x1420cdd30>"
      ]
     },
     "metadata": {},
     "output_type": "display_data"
    },
    {
     "data": {
      "text/html": [
       "<pre style=\"white-space:pre;overflow-x:auto;line-height:normal;font-family:Menlo,'DejaVu Sans Mono',consolas,'Courier New',monospace\"><span style=\"color: #7fbfbf\">                    </span><span style=\"color: #008000\">INFO</span>     <span style=\"color: #808000; font-weight: bold\">Rendered</span> C3A00                                      <a href=\"file:///opt/homebrew/lib/python3.9/site-packages/manim/scene/scene.py\"><span style=\"color: #7f7f7f\">scene.py</span></a><span style=\"color: #7f7f7f\">:240</span>\n",
       "                             <span style=\"color: #808000; font-weight: bold\">Played</span> <span style=\"color: #008000\">12</span> <span style=\"color: #808000; font-weight: bold\">animations</span>                                            \n",
       "</pre>\n"
      ],
      "text/plain": [
       "<rich.jupyter.JupyterRenderable at 0x1420cd730>"
      ]
     },
     "metadata": {},
     "output_type": "display_data"
    },
    {
     "data": {
      "text/html": [
       "<video src=\"media/jupyter/C3A00@2022-05-21@19-27-40.mp4\" controls autoplay loop style=\"max-width: 60%;\"  >\n",
       "      Your browser does not support the <code>video</code> element.\n",
       "    </video>"
      ],
      "text/plain": [
       "<IPython.core.display.Video object>"
      ]
     },
     "metadata": {},
     "output_type": "display_data"
    }
   ],
   "source": [
    "%%manim -qm C3A00\n",
    "\n",
    "class C3A00(Scene):\n",
    "    def construct(self):\n",
    "        ax         = Axes(x_range=[-4, 4],\n",
    "                          y_range=[-5, 5])\n",
    "        a          = ValueTracker(1)\n",
    "        f          = lambda x: a.get_value() * x**2\n",
    "        func       = always_redraw(lambda: ax.plot(f, color=BLUE))\n",
    "        \n",
    "        formula_f  = MathTex(\"f(x)=ax^2\").to_corner(UL)\n",
    "        etiqueta_a = MathTex(\"a=\")\n",
    "        etiqueta_a.next_to(formula_f, DOWN).align_to(formula_f, LEFT, LEFT)\n",
    "        valor_a    = always_redraw(lambda: MathTex(str('%.2f' % (a.get_value()))).next_to(etiqueta_a, RIGHT))\n",
    "\n",
    "        self.play(Create(ax))\n",
    "        self.play(Create(func))\n",
    "        self.play(FadeIn(etiqueta_a), FadeIn(valor_a), FadeIn(formula_f))\n",
    "        \n",
    "        self.play(a.animate.set_value(2), runtime=2)\n",
    "        self.wait()\n",
    "        self.play(a.animate.set_value(1), runtime=2)\n",
    "        self.play(a.animate.set_value(0.5), runtime=2)\n",
    "        self.wait()\n",
    "        self.play(a.animate.set_value(-1), runtime=2)\n",
    "        self.wait()\n",
    "        self.play(a.animate.set_value(-2), runtime=2)\n",
    "        self.wait()"
   ]
  },
  {
   "cell_type": "markdown",
   "metadata": {},
   "source": [
    "#### Análisis\n",
    "\n",
    "El video hace algo de lo que nos proponemos: define una cuadrática de la forma $f(x)=ax^2$ y luego muestra el efecto de cambiar el parámetro $a$. Esto implica hacer dos cosas: por un lado corregir el dibujo y por el otro modificar el texto en el que se muestra el valor de $a$. \n",
    "\n",
    "¿Cómo se logra esto? \n",
    "\n",
    "Definimos `a = ValueTracker(1)`. Es decir que la variable `a` es un ValueTracker cuyo valor inicial es 1. Luego, definimos la función `f` utilizando como coeficiente `a.get_value()`. Esto extrae el valor del `ValueTracker` `a`. Por ahora ese valor es 1 y por lo tanto la función es $x^2$. Pero es importante tener en cuenta que ese 1 no está fijo, sino que proviene de tomar el valor de `a`, que podría cambiar. \n",
    "\n",
    "Luego, definimos el gráfico de la función usando `ax.plot`. Pero esta definición la hacemos dentro de `always_redraw`:\n",
    "\n",
    "    func       = always_redraw(lambda: ax.plot(f, color=BLUE))\n",
    "\n",
    "`always_redraw` debe recibir una función. Por eso escribimos `lambda:`. Esta función no tiene ningún parámetro, pero *devuelve* el gráfico de la función `f` (que a su vez depende del valor de `a`). `always_redraw` es una función propia de Manim que se corre en cada cuadro de la animación. Es decir que cada vez que Manim genere un cuadro del video va a *redibujar* lo que nosotros le pedimos: en este caso, el gráfico de `f`. Esto hace que el gráfico no sea una figura estática, sólo susceptible de ser movida, rotada o transformada a través de la aplicación explícita de alguna de las funciones de Manim. Por el contrario: el gráfico todo el tiempo es redibujado y puede cambiar si los parámetros que lo definen cambian. Si pasamos por alto la parte del texto y saltamos a las animaciones, podemos observar que fuera de la creación de los distintos elementos (ejes, gráfico, texto), las únicas animaciones son del tipo: \n",
    "\n",
    "    self.play(a.animate.set_value(2))\n",
    "\n",
    "Es decir: no estamos animando explícitamente el gráfico de la función. Lo que estamos animando es el cambio de valor de `a`. `a` pasa de su valor original (1) a valer 2. Como el `set_value()` lo ponemos luego de `animate` este proceso de cambio es animado, es decir que `a` transita por un montón de valores intermedios para pasar de 1 a 2. Cada valor intermedio de `a` generará un nuevo cuadro en el video y ese cuadro, gracias al uso de `always_redraw` implicará la recreación del gráfico de `f`, que a su vez ha cambiado porque depende del (nuevo) valor de `a`. Si se observa el código se pueden ver 5 animaciones de cambios de valor de `a`:  de 1 a 2, de vuelta a 1, a 0.5, a -1 y a -2. En el video pueden verse pequeñas pausas luego de cada movimiento de `a`. \n",
    "\n",
    "Si ahora volvemos atrás a mirar el texto, podemos encontrar un par de elementos conocidos: definimos `formula_f` usando `MathTex` y la posicionamos en la esquina superior izquierda; definimos `label_a` cuyo texto (estático) es `a = ` y la posicionamos debajo de `formula_a` y alineada en el borde izquierdo. Por último, definimos `valor_a` que es el texto cambiante en el video. Para esto, usamos nuevamente `always_redraw`, sólo que el objeto que queremos crear no es un `plot` sino algo de tipo `MathTex`. El contenido de ese objeto de tipo `MathTex` es:\n",
    "\n",
    "    str('%.2f' %(a.get_value()))\n",
    "\n",
    "Esto es simplemente un tecnicismo (útil, pero tecnicismo al fin). No podemos poner `MathTex(a.get_value())`, porque `a.get_value()` devuelve un número (de tipo `float`) y no texto y por lo tanto `MathTex` no es capaz de entender esa sintaxis. Una alternativa es escribir `str(a.get_value())` que convierte el valor de `a` en un *string* (cadena de caracteres). El problema es que `a` puede ser un número con muchísimos decimales que **no** queremos ver en pantalla. La sintaxis que usamos simplemente le indica a `str` que debe tomar el valor definido luego de `%` y traducirlo a texto, con punto decimal y dos dígitos detrás de ese punto. La `f` viene de `float` (número flotante). Pueden jugar con esta configuración. Por ejemplo:  probar `str(a.get_value))`, cambiar el número de decimales, etc. \n",
    "\n",
    "De esta manera logramos *sincronizar* dos animaciones distintas: la del gráfico y la del texto. Pero en realidad, no sincronizamos dos animaciones: sólo hicimos **una** animación, que es la del cambio de valor de `a`. Lo que ocurre es que tanto el texto como el gráfico dependen de `a` y se actualizan gracias a `always_redraw`. "
   ]
  },
  {
   "cell_type": "markdown",
   "metadata": {},
   "source": [
    "### Segunda Animación\n",
    "\n",
    "Siguiendo la misma lógica podemos animar, por ejemplo, un punto moviéndose a lo largo del gráfico de una función. "
   ]
  },
  {
   "cell_type": "code",
   "execution_count": 4,
   "metadata": {},
   "outputs": [
    {
     "data": {
      "text/html": [
       "<pre style=\"white-space:pre;overflow-x:auto;line-height:normal;font-family:Menlo,'DejaVu Sans Mono',consolas,'Courier New',monospace\"><span style=\"color: #7fbfbf\">[05/22/22 13:16:42] </span><span style=\"color: #008000\">INFO</span>     <span style=\"color: #808000; font-weight: bold\">Writing</span> x to                              <a href=\"file:///opt/homebrew/lib/python3.9/site-packages/manim/utils/tex_file_writing.py\"><span style=\"color: #7f7f7f\">tex_file_writing.py</span></a><span style=\"color: #7f7f7f\">:87</span>\n",
       "                             media/Tex/049324c46070fc62.tex                                  \n",
       "</pre>\n"
      ],
      "text/plain": [
       "<rich.jupyter.JupyterRenderable at 0x1421258b0>"
      ]
     },
     "metadata": {},
     "output_type": "display_data"
    },
    {
     "data": {
      "text/html": [
       "<pre style=\"white-space:pre;overflow-x:auto;line-height:normal;font-family:Menlo,'DejaVu Sans Mono',consolas,'Courier New',monospace\"><span style=\"color: #7fbfbf\">                    </span><span style=\"color: #008000\">INFO</span>     <span style=\"color: #808000; font-weight: bold\">Writing</span> f<span style=\"font-weight: bold\">(</span>x<span style=\"font-weight: bold\">)</span> to                           <a href=\"file:///opt/homebrew/lib/python3.9/site-packages/manim/utils/tex_file_writing.py\"><span style=\"color: #7f7f7f\">tex_file_writing.py</span></a><span style=\"color: #7f7f7f\">:87</span>\n",
       "                             media/Tex/bb3909e6ae44a2c1.tex                                  \n",
       "</pre>\n"
      ],
      "text/plain": [
       "<rich.jupyter.JupyterRenderable at 0x1179e7ac0>"
      ]
     },
     "metadata": {},
     "output_type": "display_data"
    },
    {
     "name": "stderr",
     "output_type": "stream",
     "text": [
      "                                                                                                  \r"
     ]
    },
    {
     "data": {
      "text/html": [
       "<pre style=\"white-space:pre;overflow-x:auto;line-height:normal;font-family:Menlo,'DejaVu Sans Mono',consolas,'Courier New',monospace\"><span style=\"color: #7fbfbf\">[05/22/22 13:16:43] </span><span style=\"color: #008000\">INFO</span>     Animation <span style=\"color: #008000\">0</span> : Partial movie file        <a href=\"file:///opt/homebrew/lib/python3.9/site-packages/manim/scene/scene_file_writer.py\"><span style=\"color: #7f7f7f\">scene_file_writer.py</span></a><span style=\"color: #7f7f7f\">:504</span>\n",
       "                             written in <span style=\"color: #008000\">'/Users/iojea/Seafile/Nube/g</span>                         \n",
       "                             <span style=\"color: #008000\">it/Manim-Jupyter-Tutorials/media/videos</span>                         \n",
       "                             <span style=\"color: #008000\">/Manim-Jupyter-Tutorials/720p30/partial</span>                         \n",
       "                             <span style=\"color: #008000\">_movie_files/C3A01/1342159004_204834148</span>                         \n",
       "                             <span style=\"color: #008000\">6_223132457.mp4'</span>                                                \n",
       "</pre>\n"
      ],
      "text/plain": [
       "<rich.jupyter.JupyterRenderable at 0x142152730>"
      ]
     },
     "metadata": {},
     "output_type": "display_data"
    },
    {
     "data": {
      "text/html": [
       "<pre style=\"white-space:pre;overflow-x:auto;line-height:normal;font-family:Menlo,'DejaVu Sans Mono',consolas,'Courier New',monospace\"><span style=\"color: #7fbfbf\">                    </span><span style=\"color: #008000\">INFO</span>     Animation <span style=\"color: #008000\">1</span> : Partial movie file        <a href=\"file:///opt/homebrew/lib/python3.9/site-packages/manim/scene/scene_file_writer.py\"><span style=\"color: #7f7f7f\">scene_file_writer.py</span></a><span style=\"color: #7f7f7f\">:504</span>\n",
       "                             written in <span style=\"color: #008000\">'/Users/iojea/Seafile/Nube/g</span>                         \n",
       "                             <span style=\"color: #008000\">it/Manim-Jupyter-Tutorials/media/videos</span>                         \n",
       "                             <span style=\"color: #008000\">/Manim-Jupyter-Tutorials/720p30/partial</span>                         \n",
       "                             <span style=\"color: #008000\">_movie_files/C3A01/1353618911_641011677</span>                         \n",
       "                             <span style=\"color: #008000\">_3446685096.mp4'</span>                                                \n",
       "</pre>\n"
      ],
      "text/plain": [
       "<rich.jupyter.JupyterRenderable at 0x1421527c0>"
      ]
     },
     "metadata": {},
     "output_type": "display_data"
    },
    {
     "name": "stderr",
     "output_type": "stream",
     "text": [
      "                                                                                         \r"
     ]
    },
    {
     "data": {
      "text/html": [
       "<pre style=\"white-space:pre;overflow-x:auto;line-height:normal;font-family:Menlo,'DejaVu Sans Mono',consolas,'Courier New',monospace\"><span style=\"color: #7fbfbf\">                    </span><span style=\"color: #008000\">INFO</span>     Animation <span style=\"color: #008000\">2</span> : Partial movie file        <a href=\"file:///opt/homebrew/lib/python3.9/site-packages/manim/scene/scene_file_writer.py\"><span style=\"color: #7f7f7f\">scene_file_writer.py</span></a><span style=\"color: #7f7f7f\">:504</span>\n",
       "                             written in <span style=\"color: #008000\">'/Users/iojea/Seafile/Nube/g</span>                         \n",
       "                             <span style=\"color: #008000\">it/Manim-Jupyter-Tutorials/media/videos</span>                         \n",
       "                             <span style=\"color: #008000\">/Manim-Jupyter-Tutorials/720p30/partial</span>                         \n",
       "                             <span style=\"color: #008000\">_movie_files/C3A01/1353618911_217389993</span>                         \n",
       "                             <span style=\"color: #008000\">0_1635197207.mp4'</span>                                               \n",
       "</pre>\n"
      ],
      "text/plain": [
       "<rich.jupyter.JupyterRenderable at 0x142172ca0>"
      ]
     },
     "metadata": {},
     "output_type": "display_data"
    },
    {
     "data": {
      "text/html": [
       "<pre style=\"white-space:pre;overflow-x:auto;line-height:normal;font-family:Menlo,'DejaVu Sans Mono',consolas,'Courier New',monospace\"><span style=\"color: #7fbfbf\">[05/22/22 13:16:44] </span><span style=\"color: #008000\">INFO</span>     Animation <span style=\"color: #008000\">3</span> : Partial movie file        <a href=\"file:///opt/homebrew/lib/python3.9/site-packages/manim/scene/scene_file_writer.py\"><span style=\"color: #7f7f7f\">scene_file_writer.py</span></a><span style=\"color: #7f7f7f\">:504</span>\n",
       "                             written in <span style=\"color: #008000\">'/Users/iojea/Seafile/Nube/g</span>                         \n",
       "                             <span style=\"color: #008000\">it/Manim-Jupyter-Tutorials/media/videos</span>                         \n",
       "                             <span style=\"color: #008000\">/Manim-Jupyter-Tutorials/720p30/partial</span>                         \n",
       "                             <span style=\"color: #008000\">_movie_files/C3A01/1353618911_641011677</span>                         \n",
       "                             <span style=\"color: #008000\">_519614497.mp4'</span>                                                 \n",
       "</pre>\n"
      ],
      "text/plain": [
       "<rich.jupyter.JupyterRenderable at 0x142143af0>"
      ]
     },
     "metadata": {},
     "output_type": "display_data"
    },
    {
     "name": "stderr",
     "output_type": "stream",
     "text": [
      "                                                                          \r"
     ]
    },
    {
     "data": {
      "text/html": [
       "<pre style=\"white-space:pre;overflow-x:auto;line-height:normal;font-family:Menlo,'DejaVu Sans Mono',consolas,'Courier New',monospace\"><span style=\"color: #7fbfbf\">                    </span><span style=\"color: #008000\">INFO</span>     Animation <span style=\"color: #008000\">4</span> : Partial movie file        <a href=\"file:///opt/homebrew/lib/python3.9/site-packages/manim/scene/scene_file_writer.py\"><span style=\"color: #7f7f7f\">scene_file_writer.py</span></a><span style=\"color: #7f7f7f\">:504</span>\n",
       "                             written in <span style=\"color: #008000\">'/Users/iojea/Seafile/Nube/g</span>                         \n",
       "                             <span style=\"color: #008000\">it/Manim-Jupyter-Tutorials/media/videos</span>                         \n",
       "                             <span style=\"color: #008000\">/Manim-Jupyter-Tutorials/720p30/partial</span>                         \n",
       "                             <span style=\"color: #008000\">_movie_files/C3A01/1353618911_160714899</span>                         \n",
       "                             <span style=\"color: #008000\">5_2997759582.mp4'</span>                                               \n",
       "</pre>\n"
      ],
      "text/plain": [
       "<rich.jupyter.JupyterRenderable at 0x142173c10>"
      ]
     },
     "metadata": {},
     "output_type": "display_data"
    },
    {
     "data": {
      "text/html": [
       "<pre style=\"white-space:pre;overflow-x:auto;line-height:normal;font-family:Menlo,'DejaVu Sans Mono',consolas,'Courier New',monospace\"><span style=\"color: #7fbfbf\">                    </span><span style=\"color: #008000\">INFO</span>     Animation <span style=\"color: #008000\">5</span> : Partial movie file        <a href=\"file:///opt/homebrew/lib/python3.9/site-packages/manim/scene/scene_file_writer.py\"><span style=\"color: #7f7f7f\">scene_file_writer.py</span></a><span style=\"color: #7f7f7f\">:504</span>\n",
       "                             written in <span style=\"color: #008000\">'/Users/iojea/Seafile/Nube/g</span>                         \n",
       "                             <span style=\"color: #008000\">it/Manim-Jupyter-Tutorials/media/videos</span>                         \n",
       "                             <span style=\"color: #008000\">/Manim-Jupyter-Tutorials/720p30/partial</span>                         \n",
       "                             <span style=\"color: #008000\">_movie_files/C3A01/1353618911_641011677</span>                         \n",
       "                             <span style=\"color: #008000\">_4023657904.mp4'</span>                                                \n",
       "</pre>\n"
      ],
      "text/plain": [
       "<rich.jupyter.JupyterRenderable at 0x142172e50>"
      ]
     },
     "metadata": {},
     "output_type": "display_data"
    },
    {
     "name": "stderr",
     "output_type": "stream",
     "text": [
      "                                                                                             \r"
     ]
    },
    {
     "data": {
      "text/html": [
       "<pre style=\"white-space:pre;overflow-x:auto;line-height:normal;font-family:Menlo,'DejaVu Sans Mono',consolas,'Courier New',monospace\"><span style=\"color: #7fbfbf\">                    </span><span style=\"color: #008000\">INFO</span>     Animation <span style=\"color: #008000\">6</span> : Partial movie file        <a href=\"file:///opt/homebrew/lib/python3.9/site-packages/manim/scene/scene_file_writer.py\"><span style=\"color: #7f7f7f\">scene_file_writer.py</span></a><span style=\"color: #7f7f7f\">:504</span>\n",
       "                             written in <span style=\"color: #008000\">'/Users/iojea/Seafile/Nube/g</span>                         \n",
       "                             <span style=\"color: #008000\">it/Manim-Jupyter-Tutorials/media/videos</span>                         \n",
       "                             <span style=\"color: #008000\">/Manim-Jupyter-Tutorials/720p30/partial</span>                         \n",
       "                             <span style=\"color: #008000\">_movie_files/C3A01/1353618911_989262409</span>                         \n",
       "                             <span style=\"color: #008000\">_2303640525.mp4'</span>                                                \n",
       "</pre>\n"
      ],
      "text/plain": [
       "<rich.jupyter.JupyterRenderable at 0x1421430a0>"
      ]
     },
     "metadata": {},
     "output_type": "display_data"
    },
    {
     "data": {
      "text/html": [
       "<pre style=\"white-space:pre;overflow-x:auto;line-height:normal;font-family:Menlo,'DejaVu Sans Mono',consolas,'Courier New',monospace\"><span style=\"color: #7fbfbf\">[05/22/22 13:16:45] </span><span style=\"color: #008000\">INFO</span>     Animation <span style=\"color: #008000\">7</span> : Partial movie file        <a href=\"file:///opt/homebrew/lib/python3.9/site-packages/manim/scene/scene_file_writer.py\"><span style=\"color: #7f7f7f\">scene_file_writer.py</span></a><span style=\"color: #7f7f7f\">:504</span>\n",
       "                             written in <span style=\"color: #008000\">'/Users/iojea/Seafile/Nube/g</span>                         \n",
       "                             <span style=\"color: #008000\">it/Manim-Jupyter-Tutorials/media/videos</span>                         \n",
       "                             <span style=\"color: #008000\">/Manim-Jupyter-Tutorials/720p30/partial</span>                         \n",
       "                             <span style=\"color: #008000\">_movie_files/C3A01/1353618911_641011677</span>                         \n",
       "                             <span style=\"color: #008000\">_2792025755.mp4'</span>                                                \n",
       "</pre>\n"
      ],
      "text/plain": [
       "<rich.jupyter.JupyterRenderable at 0x142143400>"
      ]
     },
     "metadata": {},
     "output_type": "display_data"
    },
    {
     "data": {
      "text/html": [
       "<pre style=\"white-space:pre;overflow-x:auto;line-height:normal;font-family:Menlo,'DejaVu Sans Mono',consolas,'Courier New',monospace\"><span style=\"color: #7fbfbf\">                    </span><span style=\"color: #008000\">INFO</span>     Combining to Movie file.                <a href=\"file:///opt/homebrew/lib/python3.9/site-packages/manim/scene/scene_file_writer.py\"><span style=\"color: #7f7f7f\">scene_file_writer.py</span></a><span style=\"color: #7f7f7f\">:597</span>\n",
       "</pre>\n"
      ],
      "text/plain": [
       "<rich.jupyter.JupyterRenderable at 0x142143190>"
      ]
     },
     "metadata": {},
     "output_type": "display_data"
    },
    {
     "data": {
      "text/html": [
       "<pre style=\"white-space:pre;overflow-x:auto;line-height:normal;font-family:Menlo,'DejaVu Sans Mono',consolas,'Courier New',monospace\"><span style=\"color: #7fbfbf\">                    </span><span style=\"color: #008000\">INFO</span>                                             <a href=\"file:///opt/homebrew/lib/python3.9/site-packages/manim/scene/scene_file_writer.py\"><span style=\"color: #7f7f7f\">scene_file_writer.py</span></a><span style=\"color: #7f7f7f\">:718</span>\n",
       "                             <span style=\"color: #808000; font-weight: bold\">File</span> ready at <span style=\"color: #008000\">'/Users/iojea/Seafile/Nub</span>                         \n",
       "                             <span style=\"color: #008000\">e/git/Manim-Jupyter-Tutorials/media/vid</span>                         \n",
       "                             <span style=\"color: #008000\">eos/Manim-Jupyter-Tutorials/720p30/C3A0</span>                         \n",
       "                             <span style=\"color: #008000\">1.mp4'</span>                                                          \n",
       "                                                                                             \n",
       "</pre>\n"
      ],
      "text/plain": [
       "<rich.jupyter.JupyterRenderable at 0x1421436a0>"
      ]
     },
     "metadata": {},
     "output_type": "display_data"
    },
    {
     "data": {
      "text/html": [
       "<pre style=\"white-space:pre;overflow-x:auto;line-height:normal;font-family:Menlo,'DejaVu Sans Mono',consolas,'Courier New',monospace\"><span style=\"color: #7fbfbf\">                    </span><span style=\"color: #008000\">INFO</span>     <span style=\"color: #808000; font-weight: bold\">Rendered</span> C3A01                                      <a href=\"file:///opt/homebrew/lib/python3.9/site-packages/manim/scene/scene.py\"><span style=\"color: #7f7f7f\">scene.py</span></a><span style=\"color: #7f7f7f\">:240</span>\n",
       "                             <span style=\"color: #808000; font-weight: bold\">Played</span> <span style=\"color: #008000\">8</span> <span style=\"color: #808000; font-weight: bold\">animations</span>                                             \n",
       "</pre>\n"
      ],
      "text/plain": [
       "<rich.jupyter.JupyterRenderable at 0x1421432e0>"
      ]
     },
     "metadata": {},
     "output_type": "display_data"
    },
    {
     "data": {
      "text/html": [
       "<video src=\"media/jupyter/C3A01@2022-05-22@13-16-45.mp4\" controls autoplay loop style=\"max-width: 60%;\"  >\n",
       "      Your browser does not support the <code>video</code> element.\n",
       "    </video>"
      ],
      "text/plain": [
       "<IPython.core.display.Video object>"
      ]
     },
     "metadata": {},
     "output_type": "display_data"
    }
   ],
   "source": [
    "%%manim -qm C3A01\n",
    "\n",
    "class C3A01(Scene):\n",
    "    def construct(self):\n",
    "        ax = Axes(x_range=[-3, 3],\n",
    "                  y_range=[-0.5, 3],\n",
    "                  x_length=8,\n",
    "                  y_length=5)\n",
    "        labels = ax.get_axis_labels(x_label=\"x\", y_label=\"f(x)\")\n",
    "        labels[0].scale(0.5)\n",
    "        labels[1].scale(0.5)\n",
    "        \n",
    "        def f(x): return 2*np.exp(-x**2)\n",
    "        grafico = ax.plot(f, color=BLUE)\n",
    "        \n",
    "        x0      = -1\n",
    "        t   = ValueTracker(x0)\n",
    "        dot = always_redraw(lambda : Dot(ax.c2p(t.get_value(), f(t.get_value())), color=RED))\n",
    "        \n",
    "        self.play(Create(ax), Create(labels))\n",
    "        self.wait()\n",
    "        self.play(Create(grafico), runtime=2)\n",
    "        self.wait()\n",
    "        self.play(FadeIn(dot))\n",
    "        self.wait()\n",
    "        self.play(t.animate.set_value(1), runtime=2)\n",
    "        self.wait()"
   ]
  },
  {
   "cell_type": "markdown",
   "metadata": {},
   "source": [
    "#### Análisis\n",
    "\n",
    "Creamos un par de ejes y le agregamos sus correspondientes etiquetas. A estas etiquetas les aplicamos la función `scale` (propia de todo Mobject) que nos permite cambiarle el tamaño *in situ*. En este caso las achicamos a la mitad de su tamaño estandar. \n",
    "\n",
    "Lo interesante viene después. Definimos un `ValueTracker`, `t`, "
   ]
  }
 ],
 "metadata": {
  "interpreter": {
   "hash": "b0fa6594d8f4cbf19f97940f81e996739fb7646882a419484c72d19e05852a7e"
  },
  "kernelspec": {
   "display_name": "Python 3.9.12 64-bit",
   "language": "python",
   "name": "python3"
  },
  "language_info": {
   "codemirror_mode": {
    "name": "ipython",
    "version": 3
   },
   "file_extension": ".py",
   "mimetype": "text/x-python",
   "name": "python",
   "nbconvert_exporter": "python",
   "pygments_lexer": "ipython3",
   "version": "3.9.12"
  },
  "orig_nbformat": 4
 },
 "nbformat": 4,
 "nbformat_minor": 2
}
