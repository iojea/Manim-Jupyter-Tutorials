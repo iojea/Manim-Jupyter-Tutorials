{
 "cells": [
  {
   "cell_type": "markdown",
   "metadata": {},
   "source": [
    "## Manim - Clase 3"
   ]
  },
  {
   "cell_type": "code",
   "execution_count": 1,
   "metadata": {},
   "outputs": [
    {
     "data": {
      "text/html": [
       "<pre style=\"white-space:pre;overflow-x:auto;line-height:normal;font-family:Menlo,'DejaVu Sans Mono',consolas,'Courier New',monospace\">Manim Community <span style=\"color: #008000\">v0.15.2</span>\n",
       "\n",
       "</pre>\n"
      ],
      "text/plain": [
       "<rich.jupyter.JupyterRenderable at 0x11e2d2700>"
      ]
     },
     "metadata": {},
     "output_type": "display_data"
    }
   ],
   "source": [
    "from manim import *"
   ]
  },
  {
   "cell_type": "markdown",
   "metadata": {},
   "source": [
    "### Sincronización de animaciones"
   ]
  },
  {
   "cell_type": "markdown",
   "metadata": {},
   "source": [
    "Algo que hasta ahora nos vino faltando es algún elemento que nos permita sincronizar animaciones, de modo de tener en pantalla varias cosas ocurriendo al mismo tiempo, coordinadas. \n",
    "\n",
    "Uno de los principales recursos para lograr esto proviene de la combinación de un objeto de clase `ValueTracker` con la función `always_redraw`. \n",
    "\n",
    "Un `ValueTracker` es esencialmente una variable numérica, con la particularidad de que nos permite informar a otros elementos de sus cambios de valor. Veamos un ejemplo:"
   ]
  },
  {
   "cell_type": "markdown",
   "metadata": {},
   "source": [
    "### Primera Animación\n",
    "\n",
    "Recomendamos correr el siguiente bloque y mirar la animación resultante antes de leer el código. Ayuda tener en mente el resultado para comprender la lógica subyacente. "
   ]
  },
  {
   "cell_type": "code",
   "execution_count": 2,
   "metadata": {},
   "outputs": [
    {
     "data": {
      "text/html": [
       "<pre style=\"white-space:pre;overflow-x:auto;line-height:normal;font-family:Menlo,'DejaVu Sans Mono',consolas,'Courier New',monospace\"><span style=\"color: #7fbfbf\">[05/26/22 17:25:53] </span><span style=\"color: #008000\">INFO</span>     Animation <span style=\"color: #008000\">0</span> : Using cached data <span style=\"font-weight: bold\">(</span>hash :     <a href=\"file:///opt/homebrew/lib/python3.9/site-packages/manim/renderer/cairo_renderer.py\"><span style=\"color: #7f7f7f\">cairo_renderer.py</span></a><span style=\"color: #7f7f7f\">:75</span>\n",
       "                             1342159004_3027955968_223132457<span style=\"font-weight: bold\">)</span>                                \n",
       "</pre>\n"
      ],
      "text/plain": [
       "<rich.jupyter.JupyterRenderable at 0x12e535cd0>"
      ]
     },
     "metadata": {},
     "output_type": "display_data"
    },
    {
     "name": "stderr",
     "output_type": "stream",
     "text": [
      "                                                                                 \r"
     ]
    },
    {
     "data": {
      "text/html": [
       "<pre style=\"white-space:pre;overflow-x:auto;line-height:normal;font-family:Menlo,'DejaVu Sans Mono',consolas,'Courier New',monospace\"><span style=\"color: #7fbfbf\">                    </span><span style=\"color: #008000\">INFO</span>     Animation <span style=\"color: #008000\">1</span> : Using cached data <span style=\"font-weight: bold\">(</span>hash :     <a href=\"file:///opt/homebrew/lib/python3.9/site-packages/manim/renderer/cairo_renderer.py\"><span style=\"color: #7f7f7f\">cairo_renderer.py</span></a><span style=\"color: #7f7f7f\">:75</span>\n",
       "                             1353618911_897329692_3073499576<span style=\"font-weight: bold\">)</span>                                \n",
       "</pre>\n"
      ],
      "text/plain": [
       "<rich.jupyter.JupyterRenderable at 0x12e5358b0>"
      ]
     },
     "metadata": {},
     "output_type": "display_data"
    },
    {
     "name": "stderr",
     "output_type": "stream",
     "text": [
      "                                                                              \r"
     ]
    },
    {
     "data": {
      "text/html": [
       "<pre style=\"white-space:pre;overflow-x:auto;line-height:normal;font-family:Menlo,'DejaVu Sans Mono',consolas,'Courier New',monospace\"><span style=\"color: #7fbfbf\">                    </span><span style=\"color: #008000\">INFO</span>     Animation <span style=\"color: #008000\">2</span> : Using cached data <span style=\"font-weight: bold\">(</span>hash :     <a href=\"file:///opt/homebrew/lib/python3.9/site-packages/manim/renderer/cairo_renderer.py\"><span style=\"color: #7f7f7f\">cairo_renderer.py</span></a><span style=\"color: #7f7f7f\">:75</span>\n",
       "                             1353618911_3995828447_1671982368<span style=\"font-weight: bold\">)</span>                               \n",
       "</pre>\n"
      ],
      "text/plain": [
       "<rich.jupyter.JupyterRenderable at 0x12e64af70>"
      ]
     },
     "metadata": {},
     "output_type": "display_data"
    },
    {
     "name": "stderr",
     "output_type": "stream",
     "text": [
      "                                                                                            \r"
     ]
    },
    {
     "data": {
      "text/html": [
       "<pre style=\"white-space:pre;overflow-x:auto;line-height:normal;font-family:Menlo,'DejaVu Sans Mono',consolas,'Courier New',monospace\"><span style=\"color: #7fbfbf\">[05/26/22 17:25:55] </span><span style=\"color: #008000\">INFO</span>     Animation <span style=\"color: #008000\">3</span> : Partial movie file        <a href=\"file:///opt/homebrew/lib/python3.9/site-packages/manim/scene/scene_file_writer.py\"><span style=\"color: #7f7f7f\">scene_file_writer.py</span></a><span style=\"color: #7f7f7f\">:504</span>\n",
       "                             written in <span style=\"color: #008000\">'/Users/iojea/Seafile/Nube/g</span>                         \n",
       "                             <span style=\"color: #008000\">it/Manim-Jupyter-Tutorials/media/videos</span>                         \n",
       "                             <span style=\"color: #008000\">/Manim-Jupyter-Tutorials/720p30/partial</span>                         \n",
       "                             <span style=\"color: #008000\">_movie_files/C3A00/1353618911_205386271</span>                         \n",
       "                             <span style=\"color: #008000\">7_1349924196.mp4'</span>                                               \n",
       "</pre>\n"
      ],
      "text/plain": [
       "<rich.jupyter.JupyterRenderable at 0x12e693eb0>"
      ]
     },
     "metadata": {},
     "output_type": "display_data"
    },
    {
     "data": {
      "text/html": [
       "<pre style=\"white-space:pre;overflow-x:auto;line-height:normal;font-family:Menlo,'DejaVu Sans Mono',consolas,'Courier New',monospace\"><span style=\"color: #7fbfbf\">                    </span><span style=\"color: #008000\">INFO</span>     Animation <span style=\"color: #008000\">4</span> : Partial movie file        <a href=\"file:///opt/homebrew/lib/python3.9/site-packages/manim/scene/scene_file_writer.py\"><span style=\"color: #7f7f7f\">scene_file_writer.py</span></a><span style=\"color: #7f7f7f\">:504</span>\n",
       "                             written in <span style=\"color: #008000\">'/Users/iojea/Seafile/Nube/g</span>                         \n",
       "                             <span style=\"color: #008000\">it/Manim-Jupyter-Tutorials/media/videos</span>                         \n",
       "                             <span style=\"color: #008000\">/Manim-Jupyter-Tutorials/720p30/partial</span>                         \n",
       "                             <span style=\"color: #008000\">_movie_files/C3A00/1353618911_641011677</span>                         \n",
       "                             <span style=\"color: #008000\">_2457988092.mp4'</span>                                                \n",
       "</pre>\n"
      ],
      "text/plain": [
       "<rich.jupyter.JupyterRenderable at 0x12e628cd0>"
      ]
     },
     "metadata": {},
     "output_type": "display_data"
    },
    {
     "name": "stderr",
     "output_type": "stream",
     "text": [
      "                                                                                            \r"
     ]
    },
    {
     "data": {
      "text/html": [
       "<pre style=\"white-space:pre;overflow-x:auto;line-height:normal;font-family:Menlo,'DejaVu Sans Mono',consolas,'Courier New',monospace\"><span style=\"color: #7fbfbf\">[05/26/22 17:25:56] </span><span style=\"color: #008000\">INFO</span>     Animation <span style=\"color: #008000\">5</span> : Partial movie file        <a href=\"file:///opt/homebrew/lib/python3.9/site-packages/manim/scene/scene_file_writer.py\"><span style=\"color: #7f7f7f\">scene_file_writer.py</span></a><span style=\"color: #7f7f7f\">:504</span>\n",
       "                             written in <span style=\"color: #008000\">'/Users/iojea/Seafile/Nube/g</span>                         \n",
       "                             <span style=\"color: #008000\">it/Manim-Jupyter-Tutorials/media/videos</span>                         \n",
       "                             <span style=\"color: #008000\">/Manim-Jupyter-Tutorials/720p30/partial</span>                         \n",
       "                             <span style=\"color: #008000\">_movie_files/C3A00/1353618911_102520643</span>                         \n",
       "                             <span style=\"color: #008000\">0_3502855797.mp4'</span>                                               \n",
       "</pre>\n"
      ],
      "text/plain": [
       "<rich.jupyter.JupyterRenderable at 0x12e6c5a30>"
      ]
     },
     "metadata": {},
     "output_type": "display_data"
    },
    {
     "name": "stderr",
     "output_type": "stream",
     "text": [
      "                                                                                            \r"
     ]
    },
    {
     "data": {
      "text/html": [
       "<pre style=\"white-space:pre;overflow-x:auto;line-height:normal;font-family:Menlo,'DejaVu Sans Mono',consolas,'Courier New',monospace\"><span style=\"color: #7fbfbf\">[05/26/22 17:25:57] </span><span style=\"color: #008000\">INFO</span>     Animation <span style=\"color: #008000\">6</span> : Partial movie file        <a href=\"file:///opt/homebrew/lib/python3.9/site-packages/manim/scene/scene_file_writer.py\"><span style=\"color: #7f7f7f\">scene_file_writer.py</span></a><span style=\"color: #7f7f7f\">:504</span>\n",
       "                             written in <span style=\"color: #008000\">'/Users/iojea/Seafile/Nube/g</span>                         \n",
       "                             <span style=\"color: #008000\">it/Manim-Jupyter-Tutorials/media/videos</span>                         \n",
       "                             <span style=\"color: #008000\">/Manim-Jupyter-Tutorials/720p30/partial</span>                         \n",
       "                             <span style=\"color: #008000\">_movie_files/C3A00/1353618911_86255495_</span>                         \n",
       "                             <span style=\"color: #008000\">1747254046.mp4'</span>                                                 \n",
       "</pre>\n"
      ],
      "text/plain": [
       "<rich.jupyter.JupyterRenderable at 0x12e535a30>"
      ]
     },
     "metadata": {},
     "output_type": "display_data"
    },
    {
     "data": {
      "text/html": [
       "<pre style=\"white-space:pre;overflow-x:auto;line-height:normal;font-family:Menlo,'DejaVu Sans Mono',consolas,'Courier New',monospace\"><span style=\"color: #7fbfbf\">                    </span><span style=\"color: #008000\">INFO</span>     Animation <span style=\"color: #008000\">7</span> : Using cached data <span style=\"font-weight: bold\">(</span>hash :     <a href=\"file:///opt/homebrew/lib/python3.9/site-packages/manim/renderer/cairo_renderer.py\"><span style=\"color: #7f7f7f\">cairo_renderer.py</span></a><span style=\"color: #7f7f7f\">:75</span>\n",
       "                             1353618911_641011677_564044910<span style=\"font-weight: bold\">)</span>                                 \n",
       "</pre>\n"
      ],
      "text/plain": [
       "<rich.jupyter.JupyterRenderable at 0x10f289ac0>"
      ]
     },
     "metadata": {},
     "output_type": "display_data"
    },
    {
     "data": {
      "text/html": [
       "<pre style=\"white-space:pre;overflow-x:auto;line-height:normal;font-family:Menlo,'DejaVu Sans Mono',consolas,'Courier New',monospace\"><span style=\"color: #7fbfbf\">                    </span><span style=\"color: #008000\">INFO</span>     Animation <span style=\"color: #008000\">8</span> : Using cached data <span style=\"font-weight: bold\">(</span>hash :     <a href=\"file:///opt/homebrew/lib/python3.9/site-packages/manim/renderer/cairo_renderer.py\"><span style=\"color: #7f7f7f\">cairo_renderer.py</span></a><span style=\"color: #7f7f7f\">:75</span>\n",
       "                             1353618911_2566736361_56708560<span style=\"font-weight: bold\">)</span>                                 \n",
       "</pre>\n"
      ],
      "text/plain": [
       "<rich.jupyter.JupyterRenderable at 0x12e6284f0>"
      ]
     },
     "metadata": {},
     "output_type": "display_data"
    },
    {
     "name": "stderr",
     "output_type": "stream",
     "text": [
      "                                                                                  \r"
     ]
    },
    {
     "data": {
      "text/html": [
       "<pre style=\"white-space:pre;overflow-x:auto;line-height:normal;font-family:Menlo,'DejaVu Sans Mono',consolas,'Courier New',monospace\"><span style=\"color: #7fbfbf\">                    </span><span style=\"color: #008000\">INFO</span>     Animation <span style=\"color: #008000\">9</span> : Partial movie file        <a href=\"file:///opt/homebrew/lib/python3.9/site-packages/manim/scene/scene_file_writer.py\"><span style=\"color: #7f7f7f\">scene_file_writer.py</span></a><span style=\"color: #7f7f7f\">:504</span>\n",
       "                             written in <span style=\"color: #008000\">'/Users/iojea/Seafile/Nube/g</span>                         \n",
       "                             <span style=\"color: #008000\">it/Manim-Jupyter-Tutorials/media/videos</span>                         \n",
       "                             <span style=\"color: #008000\">/Manim-Jupyter-Tutorials/720p30/partial</span>                         \n",
       "                             <span style=\"color: #008000\">_movie_files/C3A00/1353618911_641011677</span>                         \n",
       "                             <span style=\"color: #008000\">_1367075621.mp4'</span>                                                \n",
       "</pre>\n"
      ],
      "text/plain": [
       "<rich.jupyter.JupyterRenderable at 0x12e6936d0>"
      ]
     },
     "metadata": {},
     "output_type": "display_data"
    },
    {
     "data": {
      "text/html": [
       "<pre style=\"white-space:pre;overflow-x:auto;line-height:normal;font-family:Menlo,'DejaVu Sans Mono',consolas,'Courier New',monospace\"><span style=\"color: #7fbfbf\">                    </span><span style=\"color: #008000\">INFO</span>     Animation <span style=\"color: #008000\">10</span> : Using cached data <span style=\"font-weight: bold\">(</span>hash :    <a href=\"file:///opt/homebrew/lib/python3.9/site-packages/manim/renderer/cairo_renderer.py\"><span style=\"color: #7f7f7f\">cairo_renderer.py</span></a><span style=\"color: #7f7f7f\">:75</span>\n",
       "                             1353618911_2680504441_2091066456<span style=\"font-weight: bold\">)</span>                               \n",
       "</pre>\n"
      ],
      "text/plain": [
       "<rich.jupyter.JupyterRenderable at 0x12e693400>"
      ]
     },
     "metadata": {},
     "output_type": "display_data"
    },
    {
     "name": "stderr",
     "output_type": "stream",
     "text": [
      "                                                                                   \r"
     ]
    },
    {
     "data": {
      "text/html": [
       "<pre style=\"white-space:pre;overflow-x:auto;line-height:normal;font-family:Menlo,'DejaVu Sans Mono',consolas,'Courier New',monospace\"><span style=\"color: #7fbfbf\">[05/26/22 17:25:58] </span><span style=\"color: #008000\">INFO</span>     Animation <span style=\"color: #008000\">11</span> : Partial movie file       <a href=\"file:///opt/homebrew/lib/python3.9/site-packages/manim/scene/scene_file_writer.py\"><span style=\"color: #7f7f7f\">scene_file_writer.py</span></a><span style=\"color: #7f7f7f\">:504</span>\n",
       "                             written in <span style=\"color: #008000\">'/Users/iojea/Seafile/Nube/g</span>                         \n",
       "                             <span style=\"color: #008000\">it/Manim-Jupyter-Tutorials/media/videos</span>                         \n",
       "                             <span style=\"color: #008000\">/Manim-Jupyter-Tutorials/720p30/partial</span>                         \n",
       "                             <span style=\"color: #008000\">_movie_files/C3A00/1353618911_641011677</span>                         \n",
       "                             <span style=\"color: #008000\">_1638914083.mp4'</span>                                                \n",
       "</pre>\n"
      ],
      "text/plain": [
       "<rich.jupyter.JupyterRenderable at 0x12e694130>"
      ]
     },
     "metadata": {},
     "output_type": "display_data"
    },
    {
     "data": {
      "text/html": [
       "<pre style=\"white-space:pre;overflow-x:auto;line-height:normal;font-family:Menlo,'DejaVu Sans Mono',consolas,'Courier New',monospace\"><span style=\"color: #7fbfbf\">                    </span><span style=\"color: #008000\">INFO</span>     Combining to Movie file.                <a href=\"file:///opt/homebrew/lib/python3.9/site-packages/manim/scene/scene_file_writer.py\"><span style=\"color: #7f7f7f\">scene_file_writer.py</span></a><span style=\"color: #7f7f7f\">:597</span>\n",
       "</pre>\n"
      ],
      "text/plain": [
       "<rich.jupyter.JupyterRenderable at 0x12e694d60>"
      ]
     },
     "metadata": {},
     "output_type": "display_data"
    },
    {
     "data": {
      "text/html": [
       "<pre style=\"white-space:pre;overflow-x:auto;line-height:normal;font-family:Menlo,'DejaVu Sans Mono',consolas,'Courier New',monospace\"><span style=\"color: #7fbfbf\">                    </span><span style=\"color: #008000\">INFO</span>                                             <a href=\"file:///opt/homebrew/lib/python3.9/site-packages/manim/scene/scene_file_writer.py\"><span style=\"color: #7f7f7f\">scene_file_writer.py</span></a><span style=\"color: #7f7f7f\">:718</span>\n",
       "                             <span style=\"color: #808000; font-weight: bold\">File</span> ready at <span style=\"color: #008000\">'/Users/iojea/Seafile/Nub</span>                         \n",
       "                             <span style=\"color: #008000\">e/git/Manim-Jupyter-Tutorials/media/vid</span>                         \n",
       "                             <span style=\"color: #008000\">eos/Manim-Jupyter-Tutorials/720p30/C3A0</span>                         \n",
       "                             <span style=\"color: #008000\">0.mp4'</span>                                                          \n",
       "                                                                                             \n",
       "</pre>\n"
      ],
      "text/plain": [
       "<rich.jupyter.JupyterRenderable at 0x12e694070>"
      ]
     },
     "metadata": {},
     "output_type": "display_data"
    },
    {
     "data": {
      "text/html": [
       "<pre style=\"white-space:pre;overflow-x:auto;line-height:normal;font-family:Menlo,'DejaVu Sans Mono',consolas,'Courier New',monospace\"><span style=\"color: #7fbfbf\">                    </span><span style=\"color: #008000\">INFO</span>     <span style=\"color: #808000; font-weight: bold\">Rendered</span> C3A00                                      <a href=\"file:///opt/homebrew/lib/python3.9/site-packages/manim/scene/scene.py\"><span style=\"color: #7f7f7f\">scene.py</span></a><span style=\"color: #7f7f7f\">:240</span>\n",
       "                             <span style=\"color: #808000; font-weight: bold\">Played</span> <span style=\"color: #008000\">12</span> <span style=\"color: #808000; font-weight: bold\">animations</span>                                            \n",
       "</pre>\n"
      ],
      "text/plain": [
       "<rich.jupyter.JupyterRenderable at 0x12e694550>"
      ]
     },
     "metadata": {},
     "output_type": "display_data"
    },
    {
     "data": {
      "text/html": [
       "<video src=\"media/jupyter/C3A00@2022-05-26@17-25-58.mp4\" controls autoplay loop style=\"max-width: 60%;\"  >\n",
       "      Your browser does not support the <code>video</code> element.\n",
       "    </video>"
      ],
      "text/plain": [
       "<IPython.core.display.Video object>"
      ]
     },
     "metadata": {},
     "output_type": "display_data"
    }
   ],
   "source": [
    "%%manim -qm C3A00\n",
    "\n",
    "class C3A00(Scene):\n",
    "    def construct(self):\n",
    "        ax         = Axes(x_range=[-4, 4],\n",
    "                          y_range=[-5, 5])\n",
    "        a          = ValueTracker(1)\n",
    "        f          = lambda x: a.get_value() * x**2\n",
    "        func       = always_redraw(lambda: ax.plot(f, color=BLUE))\n",
    "        \n",
    "        formula_f  = MathTex(\"f(x)=ax^2\").to_corner(UL)\n",
    "        etiqueta_a = MathTex(\"a=\")\n",
    "        etiqueta_a.next_to(formula_f, DOWN).align_to(formula_f, LEFT, LEFT)\n",
    "        valor_a    = always_redraw(lambda: MathTex(str('%.2f' % (a.get_value()))).next_to(etiqueta_a, RIGHT))\n",
    "\n",
    "        self.play(Create(ax))\n",
    "        self.play(Create(func))\n",
    "        self.play(FadeIn(etiqueta_a), FadeIn(valor_a), FadeIn(formula_f))\n",
    "        \n",
    "        self.play(a.animate.set_value(2), runtime=2)\n",
    "        self.wait()\n",
    "        self.play(a.animate.set_value(1), runtime=2)\n",
    "        self.play(a.animate.set_value(0.5), runtime=2)\n",
    "        self.wait()\n",
    "        self.play(a.animate.set_value(-1), runtime=2)\n",
    "        self.wait()\n",
    "        self.play(a.animate.set_value(-2), runtime=2)\n",
    "        self.wait()"
   ]
  },
  {
   "cell_type": "markdown",
   "metadata": {},
   "source": [
    "#### Análisis\n",
    "\n",
    "El video hace algo de lo que nos proponemos: define una cuadrática de la forma $f(x)=ax^2$ y luego muestra el efecto de cambiar el parámetro $a$. Esto implica hacer dos cosas: por un lado corregir el dibujo y por el otro modificar el texto en el que se muestra el valor de $a$. \n",
    "\n",
    "¿Cómo se logra esto? \n",
    "\n",
    "Definimos `a = ValueTracker(1)`. Es decir que la variable `a` es un `ValueTracker` cuyo valor inicial es 1. Luego, definimos la función `f` utilizando como coeficiente `a.get_value()`. Esto extrae el valor del `ValueTracker` `a`. Por ahora ese valor es 1 y por lo tanto la función es $x^2$. Pero es importante tener en cuenta que ese 1 no está fijo, sino que proviene de tomar el valor de `a`, que podría cambiar. \n",
    "\n",
    "Luego, definimos el gráfico de la función usando `ax.plot`. Pero esta definición la hacemos dentro de `always_redraw`:\n",
    "\n",
    "    func       = always_redraw(lambda: ax.plot(f, color=BLUE))\n",
    "\n",
    "`always_redraw` debe recibir una función. Por eso escribimos `lambda:`. Esta función no tiene ningún parámetro, pero *devuelve* el gráfico de la función `f` (que a su vez depende del valor de `a`). `always_redraw` es una función propia de Manim que se corre en cada cuadro de la animación. Es decir que cada vez que Manim genere un cuadro del video va a *redibujar* lo que nosotros le pedimos: en este caso, el gráfico de `f`. Esto hace que el gráfico no sea una figura estática, sólo susceptible de ser movida, rotada o transformada a través de la aplicación explícita de alguna de las funciones de Manim. Por el contrario: el gráfico todo el tiempo es redibujado y puede cambiar si los parámetros que lo definen cambian. Si pasamos por alto la parte del texto y saltamos a las animaciones, podemos observar que fuera de la creación de los distintos elementos (ejes, gráfico, texto), las únicas animaciones son del tipo: \n",
    "\n",
    "    self.play(a.animate.set_value(2))\n",
    "\n",
    "Es decir: no estamos animando explícitamente el gráfico de la función. Lo que estamos animando es el cambio de valor de `a`. `a` pasa de su valor original (1) a valer 2. Como el `set_value()` lo ponemos luego de `animate` este proceso de cambio es animado, es decir que `a` transita por un montón de valores intermedios para pasar de 1 a 2. Cada valor intermedio de `a` generará un nuevo cuadro en el video y ese cuadro, gracias al uso de `always_redraw` implicará la recreación del gráfico de `f`, que a su vez ha cambiado porque depende del (nuevo) valor de `a`. Si se observa el código se pueden ver 5 animaciones de cambios de valor de `a`:  de 1 a 2, de vuelta a 1, a 0.5, a -1 y a -2. En el video pueden verse pequeñas pausas luego de cada movimiento de `a`. \n",
    "\n",
    "Si ahora volvemos atrás a mirar el texto, podemos encontrar un par de elementos conocidos: definimos `formula_f` usando `MathTex` y la posicionamos en la esquina superior izquierda; definimos `label_a` cuyo texto (estático) es `a = ` y la posicionamos debajo de `formula_a` y alineada en el borde izquierdo. Por último, definimos `valor_a` que es el texto cambiante en el video. Para esto, usamos nuevamente `always_redraw`, sólo que el objeto que queremos crear no es un `plot` sino algo de tipo `MathTex`. El contenido de ese objeto de tipo `MathTex` es:\n",
    "\n",
    "    str('%.2f' %(a.get_value()))\n",
    "\n",
    "Esto es simplemente un tecnicismo (útil, pero tecnicismo al fin). No podemos poner `MathTex(a.get_value())`, porque `a.get_value()` devuelve un número (de tipo `float`) y no texto y por lo tanto `MathTex` no es capaz de procesarlo. Una alternativa es escribir `str(a.get_value())` que convierte el valor de `a` en un *string* (cadena de caracteres). El problema es que `a` puede ser un número con muchísimos decimales que **no** queremos ver en pantalla. La sintaxis que usamos simplemente le indica a `str` que debe tomar el valor definido luego de `%` y traducirlo a texto, con punto decimal y dos dígitos detrás de ese punto. La `f` viene de `float` (número flotante). Pueden jugar con esta configuración. Por ejemplo:  probar `str(a.get_value())`, cambiar el número de decimales, etc. \n",
    "\n",
    "De esta manera logramos *sincronizar* dos animaciones distintas: la del gráfico y la del texto. Pero en realidad, no sincronizamos dos animaciones: sólo hicimos **una** animación, que es la del cambio de valor de `a`. Lo que ocurre es que tanto el texto como el gráfico dependen de `a` y se actualizan gracias a `always_redraw`. "
   ]
  },
  {
   "cell_type": "markdown",
   "metadata": {},
   "source": [
    "### Segunda Animación\n",
    "\n",
    "Siguiendo la misma lógica podemos animar, por ejemplo, un punto moviéndose a lo largo del gráfico de una función. "
   ]
  },
  {
   "cell_type": "code",
   "execution_count": null,
   "metadata": {},
   "outputs": [],
   "source": [
    "%%manim -qm C3A01\n",
    "\n",
    "class C3A01(Scene):\n",
    "    def construct(self):\n",
    "        ax = Axes(x_range=[-3, 3],\n",
    "                  y_range=[-0.5, 3],\n",
    "                  x_length=8,\n",
    "                  y_length=5)\n",
    "        labels = ax.get_axis_labels(x_label=\"x\", y_label=\"f(x)\")\n",
    "        labels[0].scale(0.5)\n",
    "        labels[1].scale(0.5)\n",
    "        \n",
    "        def f(x): return 2*np.exp(-x**2)\n",
    "        grafico = ax.plot(f, color=BLUE)\n",
    "        \n",
    "        x0      = -1\n",
    "        t   = ValueTracker(x0)\n",
    "        dot = always_redraw(lambda : Dot(ax.c2p(t.get_value(), f(t.get_value())), color=RED))\n",
    "        \n",
    "        self.play(Create(ax), Create(labels))\n",
    "        self.wait()\n",
    "        self.play(Create(grafico), runtime=2)\n",
    "        self.wait()\n",
    "        self.play(FadeIn(dot))\n",
    "        self.wait()\n",
    "        self.play(t.animate.set_value(1), runtime=2)\n",
    "        self.wait()"
   ]
  },
  {
   "cell_type": "markdown",
   "metadata": {},
   "source": [
    "#### Análisis\n",
    "\n",
    "Creamos un par de ejes y le agregamos sus correspondientes etiquetas. A estas etiquetas les aplicamos la función `scale` (propia de todo Mobject) que nos permite cambiarle el tamaño *in situ*. En este caso las achicamos a la mitad de su tamaño estandar. \n",
    "\n",
    "Lo interesante viene después. Definimos un `ValueTracker`, `t`. Si bien esto no se indica en ningún lado, conceptualmente `t` será la coordenada $x$ del punto. Luego, definimos el punto (la variable `dot`) dentro de `always_redraw`. A diferencia de lo que hicimos en otras oportunidades, aquí aprovechamos que `Dot()` puede recibir como parámetros las coordenadas con la ubicación del punto, que en esta caso provienen de aplicar `ax.c2p()` (o `coords_to_point()`) a $(t,f(t))$. Alternativamente, podríamos haber hecho: \n",
    "\n",
    "    Dot(color=RED).move_to(ax.c2p(t.get_value(),f(t.get_value())))\n",
    "\n",
    "**EJERCICIO 1:** Agregar al video dos puntos: uno que se mueva sobre el eje $x$ y otro que se mueva sobre el eje $y$, siguiendo las coordenadasde punto rojo que recorre la curva. \n",
    "\n",
    "**EJERCICIO 2:** Cambiar el punto por alguna figura geométrica. Eliminar del video los ejes y el gráfico y constatar que este recurso puede utilizarse para mover Mobjects por una trayectoria prefijada. "
   ]
  },
  {
   "cell_type": "markdown",
   "metadata": {},
   "source": [
    "### Tercera Animación\n",
    "\n",
    "Existe otro mecanismo que permite obtener un efecto análogo al de `always_redraw`. Se trata de los *updaters*. Un *updater* es una función (que definimos nosotros) que se le agrega a un Mobject y se ejecuta en cada cuadro. Rehacemos la animación anterior con un *updater*:"
   ]
  },
  {
   "cell_type": "code",
   "execution_count": 3,
   "metadata": {},
   "outputs": [
    {
     "name": "stderr",
     "output_type": "stream",
     "text": [
      "                                                                                                 \r"
     ]
    },
    {
     "data": {
      "text/html": [
       "<pre style=\"white-space:pre;overflow-x:auto;line-height:normal;font-family:Menlo,'DejaVu Sans Mono',consolas,'Courier New',monospace\"><span style=\"color: #7fbfbf\">[05/26/22 17:59:01] </span><span style=\"color: #008000\">INFO</span>     Animation <span style=\"color: #008000\">0</span> : Partial movie file        <a href=\"file:///opt/homebrew/lib/python3.9/site-packages/manim/scene/scene_file_writer.py\"><span style=\"color: #7f7f7f\">scene_file_writer.py</span></a><span style=\"color: #7f7f7f\">:504</span>\n",
       "                             written in <span style=\"color: #008000\">'/Users/iojea/Seafile/Nube/g</span>                         \n",
       "                             <span style=\"color: #008000\">it/Manim-Jupyter-Tutorials/media/videos</span>                         \n",
       "                             <span style=\"color: #008000\">/Manim-Jupyter-Tutorials/720p30/partial</span>                         \n",
       "                             <span style=\"color: #008000\">_movie_files/C3A02/1342159004_320704003</span>                         \n",
       "                             <span style=\"color: #008000\">7_223132457.mp4'</span>                                                \n",
       "</pre>\n"
      ],
      "text/plain": [
       "<rich.jupyter.JupyterRenderable at 0x12e535fd0>"
      ]
     },
     "metadata": {},
     "output_type": "display_data"
    },
    {
     "data": {
      "text/html": [
       "<pre style=\"white-space:pre;overflow-x:auto;line-height:normal;font-family:Menlo,'DejaVu Sans Mono',consolas,'Courier New',monospace\"><span style=\"color: #7fbfbf\">                    </span><span style=\"color: #008000\">INFO</span>     Animation <span style=\"color: #008000\">1</span> : Partial movie file        <a href=\"file:///opt/homebrew/lib/python3.9/site-packages/manim/scene/scene_file_writer.py\"><span style=\"color: #7f7f7f\">scene_file_writer.py</span></a><span style=\"color: #7f7f7f\">:504</span>\n",
       "                             written in <span style=\"color: #008000\">'/Users/iojea/Seafile/Nube/g</span>                         \n",
       "                             <span style=\"color: #008000\">it/Manim-Jupyter-Tutorials/media/videos</span>                         \n",
       "                             <span style=\"color: #008000\">/Manim-Jupyter-Tutorials/720p30/partial</span>                         \n",
       "                             <span style=\"color: #008000\">_movie_files/C3A02/1353618911_123083917</span>                         \n",
       "                             <span style=\"color: #008000\">3_358300869.mp4'</span>                                                \n",
       "</pre>\n"
      ],
      "text/plain": [
       "<rich.jupyter.JupyterRenderable at 0x12e535940>"
      ]
     },
     "metadata": {},
     "output_type": "display_data"
    },
    {
     "name": "stderr",
     "output_type": "stream",
     "text": [
      "                                                                                         \r"
     ]
    },
    {
     "data": {
      "text/html": [
       "<pre style=\"white-space:pre;overflow-x:auto;line-height:normal;font-family:Menlo,'DejaVu Sans Mono',consolas,'Courier New',monospace\"><span style=\"color: #7fbfbf\">[05/26/22 17:59:02] </span><span style=\"color: #008000\">INFO</span>     Animation <span style=\"color: #008000\">2</span> : Partial movie file        <a href=\"file:///opt/homebrew/lib/python3.9/site-packages/manim/scene/scene_file_writer.py\"><span style=\"color: #7f7f7f\">scene_file_writer.py</span></a><span style=\"color: #7f7f7f\">:504</span>\n",
       "                             written in <span style=\"color: #008000\">'/Users/iojea/Seafile/Nube/g</span>                         \n",
       "                             <span style=\"color: #008000\">it/Manim-Jupyter-Tutorials/media/videos</span>                         \n",
       "                             <span style=\"color: #008000\">/Manim-Jupyter-Tutorials/720p30/partial</span>                         \n",
       "                             <span style=\"color: #008000\">_movie_files/C3A02/1353618911_306048546</span>                         \n",
       "                             <span style=\"color: #008000\">0_1635197207.mp4'</span>                                               \n",
       "</pre>\n"
      ],
      "text/plain": [
       "<rich.jupyter.JupyterRenderable at 0x12e628e80>"
      ]
     },
     "metadata": {},
     "output_type": "display_data"
    },
    {
     "data": {
      "text/html": [
       "<pre style=\"white-space:pre;overflow-x:auto;line-height:normal;font-family:Menlo,'DejaVu Sans Mono',consolas,'Courier New',monospace\"><span style=\"color: #7fbfbf\">                    </span><span style=\"color: #008000\">INFO</span>     Animation <span style=\"color: #008000\">3</span> : Partial movie file        <a href=\"file:///opt/homebrew/lib/python3.9/site-packages/manim/scene/scene_file_writer.py\"><span style=\"color: #7f7f7f\">scene_file_writer.py</span></a><span style=\"color: #7f7f7f\">:504</span>\n",
       "                             written in <span style=\"color: #008000\">'/Users/iojea/Seafile/Nube/g</span>                         \n",
       "                             <span style=\"color: #008000\">it/Manim-Jupyter-Tutorials/media/videos</span>                         \n",
       "                             <span style=\"color: #008000\">/Manim-Jupyter-Tutorials/720p30/partial</span>                         \n",
       "                             <span style=\"color: #008000\">_movie_files/C3A02/1353618911_641011677</span>                         \n",
       "                             <span style=\"color: #008000\">_3642626128.mp4'</span>                                                \n",
       "</pre>\n"
      ],
      "text/plain": [
       "<rich.jupyter.JupyterRenderable at 0x12e6d3700>"
      ]
     },
     "metadata": {},
     "output_type": "display_data"
    },
    {
     "name": "stderr",
     "output_type": "stream",
     "text": [
      "                                                                          \r"
     ]
    },
    {
     "data": {
      "text/html": [
       "<pre style=\"white-space:pre;overflow-x:auto;line-height:normal;font-family:Menlo,'DejaVu Sans Mono',consolas,'Courier New',monospace\"><span style=\"color: #7fbfbf\">                    </span><span style=\"color: #008000\">INFO</span>     Animation <span style=\"color: #008000\">4</span> : Partial movie file        <a href=\"file:///opt/homebrew/lib/python3.9/site-packages/manim/scene/scene_file_writer.py\"><span style=\"color: #7f7f7f\">scene_file_writer.py</span></a><span style=\"color: #7f7f7f\">:504</span>\n",
       "                             written in <span style=\"color: #008000\">'/Users/iojea/Seafile/Nube/g</span>                         \n",
       "                             <span style=\"color: #008000\">it/Manim-Jupyter-Tutorials/media/videos</span>                         \n",
       "                             <span style=\"color: #008000\">/Manim-Jupyter-Tutorials/720p30/partial</span>                         \n",
       "                             <span style=\"color: #008000\">_movie_files/C3A02/1353618911_346322294</span>                         \n",
       "                             <span style=\"color: #008000\">_1574889671.mp4'</span>                                                \n",
       "</pre>\n"
      ],
      "text/plain": [
       "<rich.jupyter.JupyterRenderable at 0x12e6d33a0>"
      ]
     },
     "metadata": {},
     "output_type": "display_data"
    },
    {
     "data": {
      "text/html": [
       "<pre style=\"white-space:pre;overflow-x:auto;line-height:normal;font-family:Menlo,'DejaVu Sans Mono',consolas,'Courier New',monospace\"><span style=\"color: #7fbfbf\">                    </span><span style=\"color: #008000\">INFO</span>     Animation <span style=\"color: #008000\">5</span> : Partial movie file        <a href=\"file:///opt/homebrew/lib/python3.9/site-packages/manim/scene/scene_file_writer.py\"><span style=\"color: #7f7f7f\">scene_file_writer.py</span></a><span style=\"color: #7f7f7f\">:504</span>\n",
       "                             written in <span style=\"color: #008000\">'/Users/iojea/Seafile/Nube/g</span>                         \n",
       "                             <span style=\"color: #008000\">it/Manim-Jupyter-Tutorials/media/videos</span>                         \n",
       "                             <span style=\"color: #008000\">/Manim-Jupyter-Tutorials/720p30/partial</span>                         \n",
       "                             <span style=\"color: #008000\">_movie_files/C3A02/1353618911_641011677</span>                         \n",
       "                             <span style=\"color: #008000\">_2339743337.mp4'</span>                                                \n",
       "</pre>\n"
      ],
      "text/plain": [
       "<rich.jupyter.JupyterRenderable at 0x12e6a9160>"
      ]
     },
     "metadata": {},
     "output_type": "display_data"
    },
    {
     "name": "stderr",
     "output_type": "stream",
     "text": [
      "                                                                                             \r"
     ]
    },
    {
     "data": {
      "text/html": [
       "<pre style=\"white-space:pre;overflow-x:auto;line-height:normal;font-family:Menlo,'DejaVu Sans Mono',consolas,'Courier New',monospace\"><span style=\"color: #7fbfbf\">[05/26/22 17:59:03] </span><span style=\"color: #008000\">INFO</span>     Animation <span style=\"color: #008000\">6</span> : Partial movie file        <a href=\"file:///opt/homebrew/lib/python3.9/site-packages/manim/scene/scene_file_writer.py\"><span style=\"color: #7f7f7f\">scene_file_writer.py</span></a><span style=\"color: #7f7f7f\">:504</span>\n",
       "                             written in <span style=\"color: #008000\">'/Users/iojea/Seafile/Nube/g</span>                         \n",
       "                             <span style=\"color: #008000\">it/Manim-Jupyter-Tutorials/media/videos</span>                         \n",
       "                             <span style=\"color: #008000\">/Manim-Jupyter-Tutorials/720p30/partial</span>                         \n",
       "                             <span style=\"color: #008000\">_movie_files/C3A02/1353618911_262219386</span>                         \n",
       "                             <span style=\"color: #008000\">3_496828736.mp4'</span>                                                \n",
       "</pre>\n"
      ],
      "text/plain": [
       "<rich.jupyter.JupyterRenderable at 0x12e6a7dc0>"
      ]
     },
     "metadata": {},
     "output_type": "display_data"
    },
    {
     "data": {
      "text/html": [
       "<pre style=\"white-space:pre;overflow-x:auto;line-height:normal;font-family:Menlo,'DejaVu Sans Mono',consolas,'Courier New',monospace\"><span style=\"color: #7fbfbf\">                    </span><span style=\"color: #008000\">INFO</span>     Animation <span style=\"color: #008000\">7</span> : Partial movie file        <a href=\"file:///opt/homebrew/lib/python3.9/site-packages/manim/scene/scene_file_writer.py\"><span style=\"color: #7f7f7f\">scene_file_writer.py</span></a><span style=\"color: #7f7f7f\">:504</span>\n",
       "                             written in <span style=\"color: #008000\">'/Users/iojea/Seafile/Nube/g</span>                         \n",
       "                             <span style=\"color: #008000\">it/Manim-Jupyter-Tutorials/media/videos</span>                         \n",
       "                             <span style=\"color: #008000\">/Manim-Jupyter-Tutorials/720p30/partial</span>                         \n",
       "                             <span style=\"color: #008000\">_movie_files/C3A02/1353618911_641011677</span>                         \n",
       "                             <span style=\"color: #008000\">_3585463426.mp4'</span>                                                \n",
       "</pre>\n"
      ],
      "text/plain": [
       "<rich.jupyter.JupyterRenderable at 0x12e6ec2b0>"
      ]
     },
     "metadata": {},
     "output_type": "display_data"
    },
    {
     "data": {
      "text/html": [
       "<pre style=\"white-space:pre;overflow-x:auto;line-height:normal;font-family:Menlo,'DejaVu Sans Mono',consolas,'Courier New',monospace\"><span style=\"color: #7fbfbf\">                    </span><span style=\"color: #008000\">INFO</span>     Combining to Movie file.                <a href=\"file:///opt/homebrew/lib/python3.9/site-packages/manim/scene/scene_file_writer.py\"><span style=\"color: #7f7f7f\">scene_file_writer.py</span></a><span style=\"color: #7f7f7f\">:597</span>\n",
       "</pre>\n"
      ],
      "text/plain": [
       "<rich.jupyter.JupyterRenderable at 0x12e6ec730>"
      ]
     },
     "metadata": {},
     "output_type": "display_data"
    },
    {
     "data": {
      "text/html": [
       "<pre style=\"white-space:pre;overflow-x:auto;line-height:normal;font-family:Menlo,'DejaVu Sans Mono',consolas,'Courier New',monospace\"><span style=\"color: #7fbfbf\">                    </span><span style=\"color: #008000\">INFO</span>                                             <a href=\"file:///opt/homebrew/lib/python3.9/site-packages/manim/scene/scene_file_writer.py\"><span style=\"color: #7f7f7f\">scene_file_writer.py</span></a><span style=\"color: #7f7f7f\">:718</span>\n",
       "                             <span style=\"color: #808000; font-weight: bold\">File</span> ready at <span style=\"color: #008000\">'/Users/iojea/Seafile/Nub</span>                         \n",
       "                             <span style=\"color: #008000\">e/git/Manim-Jupyter-Tutorials/media/vid</span>                         \n",
       "                             <span style=\"color: #008000\">eos/Manim-Jupyter-Tutorials/720p30/C3A0</span>                         \n",
       "                             <span style=\"color: #008000\">2.mp4'</span>                                                          \n",
       "                                                                                             \n",
       "</pre>\n"
      ],
      "text/plain": [
       "<rich.jupyter.JupyterRenderable at 0x12e6ecd90>"
      ]
     },
     "metadata": {},
     "output_type": "display_data"
    },
    {
     "data": {
      "text/html": [
       "<pre style=\"white-space:pre;overflow-x:auto;line-height:normal;font-family:Menlo,'DejaVu Sans Mono',consolas,'Courier New',monospace\"><span style=\"color: #7fbfbf\">                    </span><span style=\"color: #008000\">INFO</span>     <span style=\"color: #808000; font-weight: bold\">Rendered</span> C3A02                                      <a href=\"file:///opt/homebrew/lib/python3.9/site-packages/manim/scene/scene.py\"><span style=\"color: #7f7f7f\">scene.py</span></a><span style=\"color: #7f7f7f\">:240</span>\n",
       "                             <span style=\"color: #808000; font-weight: bold\">Played</span> <span style=\"color: #008000\">8</span> <span style=\"color: #808000; font-weight: bold\">animations</span>                                             \n",
       "</pre>\n"
      ],
      "text/plain": [
       "<rich.jupyter.JupyterRenderable at 0x12e6ecac0>"
      ]
     },
     "metadata": {},
     "output_type": "display_data"
    },
    {
     "data": {
      "text/html": [
       "<video src=\"media/jupyter/C3A02@2022-05-26@17-59-03.mp4\" controls autoplay loop style=\"max-width: 60%;\"  >\n",
       "      Your browser does not support the <code>video</code> element.\n",
       "    </video>"
      ],
      "text/plain": [
       "<IPython.core.display.Video object>"
      ]
     },
     "metadata": {},
     "output_type": "display_data"
    }
   ],
   "source": [
    "%%manim -qm C3A02\n",
    "\n",
    "class C3A02(Scene):\n",
    "    def construct(self):\n",
    "        ax = Axes(x_range=[-3, 3],\n",
    "                  y_range=[-0.5, 3],\n",
    "                  x_length=8,\n",
    "                  y_length=5)\n",
    "        labels = ax.get_axis_labels(x_label=\"x\", y_label=\"f(x)\")\n",
    "        \n",
    "        def f(x): return 2*np.exp(-x**2)\n",
    "        grafico = ax.plot(f, color=BLUE)\n",
    "        x0  = -1\n",
    "        dot = Dot(color=RED).move_to(ax.c2p(x0, f(x0)))\n",
    "        t   = ValueTracker(x0)\n",
    "\n",
    "        def actualizacion(m):\n",
    "            m.move_to(ax.c2p(t.get_value(), f(t.get_value())))\n",
    "            \n",
    "        dot.add_updater(actualizacion)\n",
    "        \n",
    "        self.play(Create(ax), Create(labels))\n",
    "        self.wait()\n",
    "        self.play(Create(grafico), runtime=2)\n",
    "        self.wait()\n",
    "        self.play(FadeIn(dot))\n",
    "        self.wait()\n",
    "        self.play(t.animate.set_value(1), run_time=2)\n",
    "        self.wait()"
   ]
  },
  {
   "cell_type": "markdown",
   "metadata": {},
   "source": [
    "#### Análisis\n",
    "\n",
    "La función `actualizacion` recibe un parámetro `m` y le aplica la función `move_to()` hacia las coordenadas determinadas por el `ValueTracker` `t`.  En principio, la función `actualizacion` es genérica y puede aplicarse a cualquier Mobject (si `m` no es un Mobject el programa dará un error al no encontrar la función `move_to` dentro de `m`). Pero luego hacemos: \n",
    "\n",
    "    dot.add_updater(actualizacion)\n",
    "\n",
    "que le agrega a `dot` la función `actualizacion`, como un *updater*. A partir de aquí, la función `actualizacion` de correrá en cada cuadro sobre el Mobject `dot`.  \n",
    "\n",
    "También existe una función `remove_updater` que permite quitar el *updater* y de este modo interrumpir la actualización continua del Mobject. "
   ]
  },
  {
   "cell_type": "markdown",
   "metadata": {},
   "source": [
    "**Ejercicio 3:** Usando `ValueTracker` y `always_redraw` implementar una animación en la que: aparezcan tres cuadrados, uno junto al otro. Y luego los cuadrados roten, a distinta velocidad: concretamente, cada cuadrado debe rotar al doble de velocidad que su vecino de la izquierda. "
   ]
  },
  {
   "cell_type": "markdown",
   "metadata": {},
   "source": [
    "### Cuarta Animación: Tangentes\n",
    "\n",
    "La clase `TangentLine`  permite trazar tangentes a cualquier Mobject. El constructor recibe como parámetros:\n",
    "* El Mobject al que le queremos trazar una tangente\n",
    "* Un valor `alpha` entre 0 y 1 que representa la proporción de Mobject a la cual se traza la tangente (e.g.: `alpha`=0.5 traza la tangente en la mitad del Mobject)\n",
    "* Opcionalmente, `color` y `length` pueden usarse para fijar el color de la tangente y su longitud. \n",
    "\n",
    "Además, aplicando la combinación `ValueTracker`+`always_redraw` es posible obtener tangentes que se mueven a lo largo del Mobject o junto con él, manteniéndose tangentes. \n",
    "\n",
    "Recomendamos mirar el siguiente video antes de detenerse en el código. \n"
   ]
  },
  {
   "cell_type": "code",
   "execution_count": null,
   "metadata": {},
   "outputs": [],
   "source": [
    "%%manim -qm C3A03\n",
    "\n",
    "class C3A03(Scene):\n",
    "    def construct(self):\n",
    "        circulo  = Circle(2,color=BLUE).shift(1.5*DOWN)\n",
    "        p        = ValueTracker(0)\n",
    "        tang1    = TangentLine(circulo,0.2,color=YELLOW,length=4)\n",
    "        tang2    = always_redraw(lambda: TangentLine(circulo,p.get_value(),color=PURPLE,length=4))\n",
    "        \n",
    "        texto1   = Text(\"Tangente en un punto, estática\").to_edge(UP,buff=0.5)\n",
    "        texto2   = Text(\"Hm...\").move_to(texto1.get_center())\n",
    "        texto3   = Text(\"Tangente con always_redraw\").move_to(texto1.get_center())\n",
    "        texto4   = Text(\"Movemos el parámetro\").next_to(texto3,DOWN)\n",
    "        texto5   = Text(\"Movemos el círculo\").move_to(texto4.get_center())\n",
    "        texto6   = Text(\"Ahora sí\").move_to(texto1.get_center())\n",
    "        \n",
    "        self.play(Create(circulo))\n",
    "        self.play(Create(tang1),Write(texto1))\n",
    "        self.wait(3)\n",
    "        self.play(circulo.animate.shift(RIGHT))\n",
    "        self.play(ReplacementTransform(texto1,texto2))\n",
    "        self.wait()\n",
    "        self.play(circulo.animate.shift(LEFT))\n",
    "        self.play(FadeOut(tang1),FadeOut(texto2))\n",
    "        self.wait()\n",
    "        self.play(Create(tang2),Write(texto3))\n",
    "        self.wait()\n",
    "        self.play(Write(texto4))\n",
    "        self.play(p.animate.set_value(0.8))\n",
    "        self.play(p.animate.set_value(0.3))\n",
    "        self.play(ReplacementTransform(texto4,texto5))\n",
    "        self.play(circulo.animate.shift(RIGHT))\n",
    "        self.play(circulo.animate.shift(UP),p.animate.set_value(0.6))\n",
    "        self.play(circulo.animate.move_to(ORIGIN),p.animate.set_value(0))\n",
    "        self.play(FadeOut(texto5))\n",
    "        self.play(ReplacementTransform(texto3,texto6))\n",
    "        self.wait()\n",
    "        self.play(FadeOut(*self.mobjects))"
   ]
  },
  {
   "cell_type": "markdown",
   "metadata": {},
   "source": [
    "#### Análisis \n",
    "\n",
    "Trazamos dos tangentes al círculo. La primera, amarilla, es creada de manera estática con `alpha`=0.2. Al mover el círculo, la recta queda en su lugar y deja de ser tangente al círculo. La segunda, violeta, se crea dentro de un `always_redraw` con un valor de `alpha` que depende del valor del `ValueTracker` `p`. Al cambiar el valor de `p`, la recta se mueve a lo largo del círculo. Al mover el círculo, la recta lo acompaña. Esto es porque en cada cuadro la recta se redibuja como una tangente al círculo en el punto de proporción `p`. "
   ]
  },
  {
   "cell_type": "markdown",
   "metadata": {},
   "source": [
    "### Quinta Animación\n",
    "\n",
    "El gráfico de una función es un Mobject y por lo tanto `TangentLine` puede usarse para trazar tangentes a gráficos de funciones. El único inconveniente es que no es fácil determinar cuál es la proporción de avance a lo largo del gráfico que corresponde a determinado punto. Felizmente, existe la función (propia de cualquier Mobject) `proportion_from_point` que recibe un punto del Mobject y devuelve el valor de `alpha` que le corresponde. Usamos este recurso para trazar la tangente a un gráfico en un punto dado: "
   ]
  },
  {
   "cell_type": "code",
   "execution_count": 4,
   "metadata": {},
   "outputs": [
    {
     "name": "stderr",
     "output_type": "stream",
     "text": [
      "                                                                                                  \r"
     ]
    },
    {
     "data": {
      "text/html": [
       "<pre style=\"white-space:pre;overflow-x:auto;line-height:normal;font-family:Menlo,'DejaVu Sans Mono',consolas,'Courier New',monospace\"><span style=\"color: #7fbfbf\">[05/26/22 19:58:13] </span><span style=\"color: #008000\">INFO</span>     Animation <span style=\"color: #008000\">0</span> : Partial movie file        <a href=\"file:///opt/homebrew/lib/python3.9/site-packages/manim/scene/scene_file_writer.py\"><span style=\"color: #7f7f7f\">scene_file_writer.py</span></a><span style=\"color: #7f7f7f\">:504</span>\n",
       "                             written in <span style=\"color: #008000\">'/Users/iojea/Seafile/Nube/g</span>                         \n",
       "                             <span style=\"color: #008000\">it/Manim-Jupyter-Tutorials/media/videos</span>                         \n",
       "                             <span style=\"color: #008000\">/Manim-Jupyter-Tutorials/720p30/partial</span>                         \n",
       "                             <span style=\"color: #008000\">_movie_files/C3A04/1342159004_204834148</span>                         \n",
       "                             <span style=\"color: #008000\">6_223132457.mp4'</span>                                                \n",
       "</pre>\n"
      ],
      "text/plain": [
       "<rich.jupyter.JupyterRenderable at 0x10e7aee20>"
      ]
     },
     "metadata": {},
     "output_type": "display_data"
    },
    {
     "data": {
      "text/html": [
       "<pre style=\"white-space:pre;overflow-x:auto;line-height:normal;font-family:Menlo,'DejaVu Sans Mono',consolas,'Courier New',monospace\"><span style=\"color: #7fbfbf\">                    </span><span style=\"color: #008000\">INFO</span>     Animation <span style=\"color: #008000\">1</span> : Partial movie file        <a href=\"file:///opt/homebrew/lib/python3.9/site-packages/manim/scene/scene_file_writer.py\"><span style=\"color: #7f7f7f\">scene_file_writer.py</span></a><span style=\"color: #7f7f7f\">:504</span>\n",
       "                             written in <span style=\"color: #008000\">'/Users/iojea/Seafile/Nube/g</span>                         \n",
       "                             <span style=\"color: #008000\">it/Manim-Jupyter-Tutorials/media/videos</span>                         \n",
       "                             <span style=\"color: #008000\">/Manim-Jupyter-Tutorials/720p30/partial</span>                         \n",
       "                             <span style=\"color: #008000\">_movie_files/C3A04/1353618911_641011677</span>                         \n",
       "                             <span style=\"color: #008000\">_3446685096.mp4'</span>                                                \n",
       "</pre>\n"
      ],
      "text/plain": [
       "<rich.jupyter.JupyterRenderable at 0x12e6e4880>"
      ]
     },
     "metadata": {},
     "output_type": "display_data"
    },
    {
     "name": "stderr",
     "output_type": "stream",
     "text": [
      "                                                                                         \r"
     ]
    },
    {
     "data": {
      "text/html": [
       "<pre style=\"white-space:pre;overflow-x:auto;line-height:normal;font-family:Menlo,'DejaVu Sans Mono',consolas,'Courier New',monospace\"><span style=\"color: #7fbfbf\">                    </span><span style=\"color: #008000\">INFO</span>     Animation <span style=\"color: #008000\">2</span> : Partial movie file        <a href=\"file:///opt/homebrew/lib/python3.9/site-packages/manim/scene/scene_file_writer.py\"><span style=\"color: #7f7f7f\">scene_file_writer.py</span></a><span style=\"color: #7f7f7f\">:504</span>\n",
       "                             written in <span style=\"color: #008000\">'/Users/iojea/Seafile/Nube/g</span>                         \n",
       "                             <span style=\"color: #008000\">it/Manim-Jupyter-Tutorials/media/videos</span>                         \n",
       "                             <span style=\"color: #008000\">/Manim-Jupyter-Tutorials/720p30/partial</span>                         \n",
       "                             <span style=\"color: #008000\">_movie_files/C3A04/1353618911_379030335</span>                         \n",
       "                             <span style=\"color: #008000\">0_1635197207.mp4'</span>                                               \n",
       "</pre>\n"
      ],
      "text/plain": [
       "<rich.jupyter.JupyterRenderable at 0x12e703c10>"
      ]
     },
     "metadata": {},
     "output_type": "display_data"
    },
    {
     "data": {
      "text/html": [
       "<pre style=\"white-space:pre;overflow-x:auto;line-height:normal;font-family:Menlo,'DejaVu Sans Mono',consolas,'Courier New',monospace\"><span style=\"color: #7fbfbf\">                    </span><span style=\"color: #008000\">INFO</span>     Animation <span style=\"color: #008000\">3</span> : Partial movie file        <a href=\"file:///opt/homebrew/lib/python3.9/site-packages/manim/scene/scene_file_writer.py\"><span style=\"color: #7f7f7f\">scene_file_writer.py</span></a><span style=\"color: #7f7f7f\">:504</span>\n",
       "                             written in <span style=\"color: #008000\">'/Users/iojea/Seafile/Nube/g</span>                         \n",
       "                             <span style=\"color: #008000\">it/Manim-Jupyter-Tutorials/media/videos</span>                         \n",
       "                             <span style=\"color: #008000\">/Manim-Jupyter-Tutorials/720p30/partial</span>                         \n",
       "                             <span style=\"color: #008000\">_movie_files/C3A04/1353618911_641011677</span>                         \n",
       "                             <span style=\"color: #008000\">_3355644030.mp4'</span>                                                \n",
       "</pre>\n"
      ],
      "text/plain": [
       "<rich.jupyter.JupyterRenderable at 0x12e716f40>"
      ]
     },
     "metadata": {},
     "output_type": "display_data"
    },
    {
     "name": "stderr",
     "output_type": "stream",
     "text": [
      "                                                                          \r"
     ]
    },
    {
     "data": {
      "text/html": [
       "<pre style=\"white-space:pre;overflow-x:auto;line-height:normal;font-family:Menlo,'DejaVu Sans Mono',consolas,'Courier New',monospace\"><span style=\"color: #7fbfbf\">                    </span><span style=\"color: #008000\">INFO</span>     Animation <span style=\"color: #008000\">4</span> : Partial movie file        <a href=\"file:///opt/homebrew/lib/python3.9/site-packages/manim/scene/scene_file_writer.py\"><span style=\"color: #7f7f7f\">scene_file_writer.py</span></a><span style=\"color: #7f7f7f\">:504</span>\n",
       "                             written in <span style=\"color: #008000\">'/Users/iojea/Seafile/Nube/g</span>                         \n",
       "                             <span style=\"color: #008000\">it/Manim-Jupyter-Tutorials/media/videos</span>                         \n",
       "                             <span style=\"color: #008000\">/Manim-Jupyter-Tutorials/720p30/partial</span>                         \n",
       "                             <span style=\"color: #008000\">_movie_files/C3A04/1353618911_180384332</span>                         \n",
       "                             <span style=\"color: #008000\">9_351839429.mp4'</span>                                                \n",
       "</pre>\n"
      ],
      "text/plain": [
       "<rich.jupyter.JupyterRenderable at 0x12e714be0>"
      ]
     },
     "metadata": {},
     "output_type": "display_data"
    },
    {
     "name": "stderr",
     "output_type": "stream",
     "text": [
      "                                                                                  \r"
     ]
    },
    {
     "data": {
      "text/html": [
       "<pre style=\"white-space:pre;overflow-x:auto;line-height:normal;font-family:Menlo,'DejaVu Sans Mono',consolas,'Courier New',monospace\"><span style=\"color: #7fbfbf\">[05/26/22 19:58:14] </span><span style=\"color: #008000\">INFO</span>     Animation <span style=\"color: #008000\">5</span> : Partial movie file        <a href=\"file:///opt/homebrew/lib/python3.9/site-packages/manim/scene/scene_file_writer.py\"><span style=\"color: #7f7f7f\">scene_file_writer.py</span></a><span style=\"color: #7f7f7f\">:504</span>\n",
       "                             written in <span style=\"color: #008000\">'/Users/iojea/Seafile/Nube/g</span>                         \n",
       "                             <span style=\"color: #008000\">it/Manim-Jupyter-Tutorials/media/videos</span>                         \n",
       "                             <span style=\"color: #008000\">/Manim-Jupyter-Tutorials/720p30/partial</span>                         \n",
       "                             <span style=\"color: #008000\">_movie_files/C3A04/1353618911_163112208</span>                         \n",
       "                             <span style=\"color: #008000\">4_2858213204.mp4'</span>                                               \n",
       "</pre>\n"
      ],
      "text/plain": [
       "<rich.jupyter.JupyterRenderable at 0x12e64aa30>"
      ]
     },
     "metadata": {},
     "output_type": "display_data"
    },
    {
     "data": {
      "text/html": [
       "<pre style=\"white-space:pre;overflow-x:auto;line-height:normal;font-family:Menlo,'DejaVu Sans Mono',consolas,'Courier New',monospace\"><span style=\"color: #7fbfbf\">                    </span><span style=\"color: #008000\">INFO</span>     Animation <span style=\"color: #008000\">6</span> : Partial movie file        <a href=\"file:///opt/homebrew/lib/python3.9/site-packages/manim/scene/scene_file_writer.py\"><span style=\"color: #7f7f7f\">scene_file_writer.py</span></a><span style=\"color: #7f7f7f\">:504</span>\n",
       "                             written in <span style=\"color: #008000\">'/Users/iojea/Seafile/Nube/g</span>                         \n",
       "                             <span style=\"color: #008000\">it/Manim-Jupyter-Tutorials/media/videos</span>                         \n",
       "                             <span style=\"color: #008000\">/Manim-Jupyter-Tutorials/720p30/partial</span>                         \n",
       "                             <span style=\"color: #008000\">_movie_files/C3A04/1353618911_641011677</span>                         \n",
       "                             <span style=\"color: #008000\">_3724458660.mp4'</span>                                                \n",
       "</pre>\n"
      ],
      "text/plain": [
       "<rich.jupyter.JupyterRenderable at 0x12e73b340>"
      ]
     },
     "metadata": {},
     "output_type": "display_data"
    },
    {
     "data": {
      "text/html": [
       "<pre style=\"white-space:pre;overflow-x:auto;line-height:normal;font-family:Menlo,'DejaVu Sans Mono',consolas,'Courier New',monospace\"><span style=\"color: #7fbfbf\">                    </span><span style=\"color: #008000\">INFO</span>     Combining to Movie file.                <a href=\"file:///opt/homebrew/lib/python3.9/site-packages/manim/scene/scene_file_writer.py\"><span style=\"color: #7f7f7f\">scene_file_writer.py</span></a><span style=\"color: #7f7f7f\">:597</span>\n",
       "</pre>\n"
      ],
      "text/plain": [
       "<rich.jupyter.JupyterRenderable at 0x12e73b400>"
      ]
     },
     "metadata": {},
     "output_type": "display_data"
    },
    {
     "data": {
      "text/html": [
       "<pre style=\"white-space:pre;overflow-x:auto;line-height:normal;font-family:Menlo,'DejaVu Sans Mono',consolas,'Courier New',monospace\"><span style=\"color: #7fbfbf\">                    </span><span style=\"color: #008000\">INFO</span>                                             <a href=\"file:///opt/homebrew/lib/python3.9/site-packages/manim/scene/scene_file_writer.py\"><span style=\"color: #7f7f7f\">scene_file_writer.py</span></a><span style=\"color: #7f7f7f\">:718</span>\n",
       "                             <span style=\"color: #808000; font-weight: bold\">File</span> ready at <span style=\"color: #008000\">'/Users/iojea/Seafile/Nub</span>                         \n",
       "                             <span style=\"color: #008000\">e/git/Manim-Jupyter-Tutorials/media/vid</span>                         \n",
       "                             <span style=\"color: #008000\">eos/Manim-Jupyter-Tutorials/720p30/C3A0</span>                         \n",
       "                             <span style=\"color: #008000\">4.mp4'</span>                                                          \n",
       "                                                                                             \n",
       "</pre>\n"
      ],
      "text/plain": [
       "<rich.jupyter.JupyterRenderable at 0x12e73b5b0>"
      ]
     },
     "metadata": {},
     "output_type": "display_data"
    },
    {
     "data": {
      "text/html": [
       "<pre style=\"white-space:pre;overflow-x:auto;line-height:normal;font-family:Menlo,'DejaVu Sans Mono',consolas,'Courier New',monospace\"><span style=\"color: #7fbfbf\">                    </span><span style=\"color: #008000\">INFO</span>     <span style=\"color: #808000; font-weight: bold\">Rendered</span> C3A04                                      <a href=\"file:///opt/homebrew/lib/python3.9/site-packages/manim/scene/scene.py\"><span style=\"color: #7f7f7f\">scene.py</span></a><span style=\"color: #7f7f7f\">:240</span>\n",
       "                             <span style=\"color: #808000; font-weight: bold\">Played</span> <span style=\"color: #008000\">7</span> <span style=\"color: #808000; font-weight: bold\">animations</span>                                             \n",
       "</pre>\n"
      ],
      "text/plain": [
       "<rich.jupyter.JupyterRenderable at 0x12e73b520>"
      ]
     },
     "metadata": {},
     "output_type": "display_data"
    },
    {
     "data": {
      "text/html": [
       "<video src=\"media/jupyter/C3A04@2022-05-26@19-58-14.mp4\" controls autoplay loop style=\"max-width: 60%;\"  >\n",
       "      Your browser does not support the <code>video</code> element.\n",
       "    </video>"
      ],
      "text/plain": [
       "<IPython.core.display.Video object>"
      ]
     },
     "metadata": {},
     "output_type": "display_data"
    }
   ],
   "source": [
    "%%manim -qm C3A04\n",
    "\n",
    "class C3A04(Scene):\n",
    "    def construct(self):\n",
    "        ax = Axes(x_range=[-3, 3],\n",
    "                  y_range=[-0.5, 3],\n",
    "                  x_length=8,\n",
    "                  y_length=5)\n",
    "        labels = ax.get_axis_labels(x_label=\"x\", y_label=\"f(x)\")\n",
    "        labels[0].scale(0.5)\n",
    "        labels[1].scale(0.5)\n",
    "        def f(x): return 2*np.exp(-x**2)\n",
    "        grafico = ax.plot(f, x_range=[-2, 2], color=BLUE)\n",
    "        x0 = -1\n",
    "        dot = Dot(ax.c2p(x0, f(x0)), color=RED)\n",
    "        tan = TangentLine(grafico, grafico.proportion_from_point(\n",
    "                            ax.c2p(x0, f(x0))), color=YELLOW, length=6)\n",
    "        self.play(Create(ax), Create(labels))\n",
    "        self.wait()\n",
    "        self.play(Create(grafico), runtime=2)\n",
    "        self.wait()\n",
    "        self.play(FadeIn(dot))\n",
    "        self.play(Create(tan))\n",
    "        self.wait()"
   ]
  },
  {
   "cell_type": "markdown",
   "metadata": {},
   "source": [
    "#### Análisis\n",
    "\n",
    "Como anticipamos: ubicamos un punto en el gráfico y usamos la función `proportion_from_point` para pasarle el valor de `alpha` correcto a la tangente. "
   ]
  },
  {
   "cell_type": "markdown",
   "metadata": {},
   "source": [
    "### Sexta Animación\n",
    "\n",
    "Ahora podemos tomar la construcción anterior y animar el movimiento de la tangente (junto con el punto), a lo largo de la curva. Para ello definiremos un `ValueTracker` que representará el valor de `alpha`:"
   ]
  },
  {
   "cell_type": "code",
   "execution_count": 5,
   "metadata": {},
   "outputs": [
    {
     "name": "stderr",
     "output_type": "stream",
     "text": [
      "                                                                                                  \r"
     ]
    },
    {
     "data": {
      "text/html": [
       "<pre style=\"white-space:pre;overflow-x:auto;line-height:normal;font-family:Menlo,'DejaVu Sans Mono',consolas,'Courier New',monospace\"><span style=\"color: #7fbfbf\">[05/26/22 20:05:57] </span><span style=\"color: #008000\">INFO</span>     Animation <span style=\"color: #008000\">0</span> : Partial movie file        <a href=\"file:///opt/homebrew/lib/python3.9/site-packages/manim/scene/scene_file_writer.py\"><span style=\"color: #7f7f7f\">scene_file_writer.py</span></a><span style=\"color: #7f7f7f\">:504</span>\n",
       "                             written in <span style=\"color: #008000\">'/Users/iojea/Seafile/Nube/g</span>                         \n",
       "                             <span style=\"color: #008000\">it/Manim-Jupyter-Tutorials/media/videos</span>                         \n",
       "                             <span style=\"color: #008000\">/Manim-Jupyter-Tutorials/720p30/partial</span>                         \n",
       "                             <span style=\"color: #008000\">_movie_files/C3A05/1342159004_204834148</span>                         \n",
       "                             <span style=\"color: #008000\">6_223132457.mp4'</span>                                                \n",
       "</pre>\n"
      ],
      "text/plain": [
       "<rich.jupyter.JupyterRenderable at 0x12e7473a0>"
      ]
     },
     "metadata": {},
     "output_type": "display_data"
    },
    {
     "data": {
      "text/html": [
       "<pre style=\"white-space:pre;overflow-x:auto;line-height:normal;font-family:Menlo,'DejaVu Sans Mono',consolas,'Courier New',monospace\"><span style=\"color: #7fbfbf\">                    </span><span style=\"color: #008000\">INFO</span>     Animation <span style=\"color: #008000\">1</span> : Partial movie file        <a href=\"file:///opt/homebrew/lib/python3.9/site-packages/manim/scene/scene_file_writer.py\"><span style=\"color: #7f7f7f\">scene_file_writer.py</span></a><span style=\"color: #7f7f7f\">:504</span>\n",
       "                             written in <span style=\"color: #008000\">'/Users/iojea/Seafile/Nube/g</span>                         \n",
       "                             <span style=\"color: #008000\">it/Manim-Jupyter-Tutorials/media/videos</span>                         \n",
       "                             <span style=\"color: #008000\">/Manim-Jupyter-Tutorials/720p30/partial</span>                         \n",
       "                             <span style=\"color: #008000\">_movie_files/C3A05/1353618911_641011677</span>                         \n",
       "                             <span style=\"color: #008000\">_3446685096.mp4'</span>                                                \n",
       "</pre>\n"
      ],
      "text/plain": [
       "<rich.jupyter.JupyterRenderable at 0x12e716520>"
      ]
     },
     "metadata": {},
     "output_type": "display_data"
    },
    {
     "name": "stderr",
     "output_type": "stream",
     "text": [
      "                                                                                         \r"
     ]
    },
    {
     "data": {
      "text/html": [
       "<pre style=\"white-space:pre;overflow-x:auto;line-height:normal;font-family:Menlo,'DejaVu Sans Mono',consolas,'Courier New',monospace\"><span style=\"color: #7fbfbf\">                    </span><span style=\"color: #008000\">INFO</span>     Animation <span style=\"color: #008000\">2</span> : Partial movie file        <a href=\"file:///opt/homebrew/lib/python3.9/site-packages/manim/scene/scene_file_writer.py\"><span style=\"color: #7f7f7f\">scene_file_writer.py</span></a><span style=\"color: #7f7f7f\">:504</span>\n",
       "                             written in <span style=\"color: #008000\">'/Users/iojea/Seafile/Nube/g</span>                         \n",
       "                             <span style=\"color: #008000\">it/Manim-Jupyter-Tutorials/media/videos</span>                         \n",
       "                             <span style=\"color: #008000\">/Manim-Jupyter-Tutorials/720p30/partial</span>                         \n",
       "                             <span style=\"color: #008000\">_movie_files/C3A05/1353618911_217389993</span>                         \n",
       "                             <span style=\"color: #008000\">0_1635197207.mp4'</span>                                               \n",
       "</pre>\n"
      ],
      "text/plain": [
       "<rich.jupyter.JupyterRenderable at 0x12e703190>"
      ]
     },
     "metadata": {},
     "output_type": "display_data"
    },
    {
     "data": {
      "text/html": [
       "<pre style=\"white-space:pre;overflow-x:auto;line-height:normal;font-family:Menlo,'DejaVu Sans Mono',consolas,'Courier New',monospace\"><span style=\"color: #7fbfbf\">[05/26/22 20:05:58] </span><span style=\"color: #008000\">INFO</span>     Animation <span style=\"color: #008000\">3</span> : Partial movie file        <a href=\"file:///opt/homebrew/lib/python3.9/site-packages/manim/scene/scene_file_writer.py\"><span style=\"color: #7f7f7f\">scene_file_writer.py</span></a><span style=\"color: #7f7f7f\">:504</span>\n",
       "                             written in <span style=\"color: #008000\">'/Users/iojea/Seafile/Nube/g</span>                         \n",
       "                             <span style=\"color: #008000\">it/Manim-Jupyter-Tutorials/media/videos</span>                         \n",
       "                             <span style=\"color: #008000\">/Manim-Jupyter-Tutorials/720p30/partial</span>                         \n",
       "                             <span style=\"color: #008000\">_movie_files/C3A05/1353618911_641011677</span>                         \n",
       "                             <span style=\"color: #008000\">_519614497.mp4'</span>                                                 \n",
       "</pre>\n"
      ],
      "text/plain": [
       "<rich.jupyter.JupyterRenderable at 0x12e73f520>"
      ]
     },
     "metadata": {},
     "output_type": "display_data"
    },
    {
     "name": "stderr",
     "output_type": "stream",
     "text": [
      "                                                                         \r"
     ]
    },
    {
     "data": {
      "text/html": [
       "<pre style=\"white-space:pre;overflow-x:auto;line-height:normal;font-family:Menlo,'DejaVu Sans Mono',consolas,'Courier New',monospace\"><span style=\"color: #7fbfbf\">                    </span><span style=\"color: #008000\">INFO</span>     Animation <span style=\"color: #008000\">4</span> : Partial movie file        <a href=\"file:///opt/homebrew/lib/python3.9/site-packages/manim/scene/scene_file_writer.py\"><span style=\"color: #7f7f7f\">scene_file_writer.py</span></a><span style=\"color: #7f7f7f\">:504</span>\n",
       "                             written in <span style=\"color: #008000\">'/Users/iojea/Seafile/Nube/g</span>                         \n",
       "                             <span style=\"color: #008000\">it/Manim-Jupyter-Tutorials/media/videos</span>                         \n",
       "                             <span style=\"color: #008000\">/Manim-Jupyter-Tutorials/720p30/partial</span>                         \n",
       "                             <span style=\"color: #008000\">_movie_files/C3A05/1353618911_209950163</span>                         \n",
       "                             <span style=\"color: #008000\">9_2997759582.mp4'</span>                                               \n",
       "</pre>\n"
      ],
      "text/plain": [
       "<rich.jupyter.JupyterRenderable at 0x12e730070>"
      ]
     },
     "metadata": {},
     "output_type": "display_data"
    },
    {
     "name": "stderr",
     "output_type": "stream",
     "text": [
      "                                                                                 \r"
     ]
    },
    {
     "data": {
      "text/html": [
       "<pre style=\"white-space:pre;overflow-x:auto;line-height:normal;font-family:Menlo,'DejaVu Sans Mono',consolas,'Courier New',monospace\"><span style=\"color: #7fbfbf\">[05/26/22 20:05:59] </span><span style=\"color: #008000\">INFO</span>     Animation <span style=\"color: #008000\">5</span> : Partial movie file        <a href=\"file:///opt/homebrew/lib/python3.9/site-packages/manim/scene/scene_file_writer.py\"><span style=\"color: #7f7f7f\">scene_file_writer.py</span></a><span style=\"color: #7f7f7f\">:504</span>\n",
       "                             written in <span style=\"color: #008000\">'/Users/iojea/Seafile/Nube/g</span>                         \n",
       "                             <span style=\"color: #008000\">it/Manim-Jupyter-Tutorials/media/videos</span>                         \n",
       "                             <span style=\"color: #008000\">/Manim-Jupyter-Tutorials/720p30/partial</span>                         \n",
       "                             <span style=\"color: #008000\">_movie_files/C3A05/1353618911_204733034</span>                         \n",
       "                             <span style=\"color: #008000\">8_2862303463.mp4'</span>                                               \n",
       "</pre>\n"
      ],
      "text/plain": [
       "<rich.jupyter.JupyterRenderable at 0x12e730580>"
      ]
     },
     "metadata": {},
     "output_type": "display_data"
    },
    {
     "data": {
      "text/html": [
       "<pre style=\"white-space:pre;overflow-x:auto;line-height:normal;font-family:Menlo,'DejaVu Sans Mono',consolas,'Courier New',monospace\"><span style=\"color: #7fbfbf\">[05/26/22 20:06:00] </span><span style=\"color: #008000\">INFO</span>     Animation <span style=\"color: #008000\">6</span> : Partial movie file        <a href=\"file:///opt/homebrew/lib/python3.9/site-packages/manim/scene/scene_file_writer.py\"><span style=\"color: #7f7f7f\">scene_file_writer.py</span></a><span style=\"color: #7f7f7f\">:504</span>\n",
       "                             written in <span style=\"color: #008000\">'/Users/iojea/Seafile/Nube/g</span>                         \n",
       "                             <span style=\"color: #008000\">it/Manim-Jupyter-Tutorials/media/videos</span>                         \n",
       "                             <span style=\"color: #008000\">/Manim-Jupyter-Tutorials/720p30/partial</span>                         \n",
       "                             <span style=\"color: #008000\">_movie_files/C3A05/1353618911_641011677</span>                         \n",
       "                             <span style=\"color: #008000\">_1216948866.mp4'</span>                                                \n",
       "</pre>\n"
      ],
      "text/plain": [
       "<rich.jupyter.JupyterRenderable at 0x12e75f190>"
      ]
     },
     "metadata": {},
     "output_type": "display_data"
    },
    {
     "name": "stderr",
     "output_type": "stream",
     "text": [
      "                                                                                            \r"
     ]
    },
    {
     "data": {
      "text/html": [
       "<pre style=\"white-space:pre;overflow-x:auto;line-height:normal;font-family:Menlo,'DejaVu Sans Mono',consolas,'Courier New',monospace\"><span style=\"color: #7fbfbf\">[05/26/22 20:06:02] </span><span style=\"color: #008000\">INFO</span>     Animation <span style=\"color: #008000\">7</span> : Partial movie file        <a href=\"file:///opt/homebrew/lib/python3.9/site-packages/manim/scene/scene_file_writer.py\"><span style=\"color: #7f7f7f\">scene_file_writer.py</span></a><span style=\"color: #7f7f7f\">:504</span>\n",
       "                             written in <span style=\"color: #008000\">'/Users/iojea/Seafile/Nube/g</span>                         \n",
       "                             <span style=\"color: #008000\">it/Manim-Jupyter-Tutorials/media/videos</span>                         \n",
       "                             <span style=\"color: #008000\">/Manim-Jupyter-Tutorials/720p30/partial</span>                         \n",
       "                             <span style=\"color: #008000\">_movie_files/C3A05/1353618911_401809975</span>                         \n",
       "                             <span style=\"color: #008000\">3_1002444583.mp4'</span>                                               \n",
       "</pre>\n"
      ],
      "text/plain": [
       "<rich.jupyter.JupyterRenderable at 0x12e70ed30>"
      ]
     },
     "metadata": {},
     "output_type": "display_data"
    },
    {
     "data": {
      "text/html": [
       "<pre style=\"white-space:pre;overflow-x:auto;line-height:normal;font-family:Menlo,'DejaVu Sans Mono',consolas,'Courier New',monospace\"><span style=\"color: #7fbfbf\">                    </span><span style=\"color: #008000\">INFO</span>     Animation <span style=\"color: #008000\">8</span> : Partial movie file        <a href=\"file:///opt/homebrew/lib/python3.9/site-packages/manim/scene/scene_file_writer.py\"><span style=\"color: #7f7f7f\">scene_file_writer.py</span></a><span style=\"color: #7f7f7f\">:504</span>\n",
       "                             written in <span style=\"color: #008000\">'/Users/iojea/Seafile/Nube/g</span>                         \n",
       "                             <span style=\"color: #008000\">it/Manim-Jupyter-Tutorials/media/videos</span>                         \n",
       "                             <span style=\"color: #008000\">/Manim-Jupyter-Tutorials/720p30/partial</span>                         \n",
       "                             <span style=\"color: #008000\">_movie_files/C3A05/1353618911_123083917</span>                         \n",
       "                             <span style=\"color: #008000\">3_4285870080.mp4'</span>                                               \n",
       "</pre>\n"
      ],
      "text/plain": [
       "<rich.jupyter.JupyterRenderable at 0x12e7536d0>"
      ]
     },
     "metadata": {},
     "output_type": "display_data"
    },
    {
     "data": {
      "text/html": [
       "<pre style=\"white-space:pre;overflow-x:auto;line-height:normal;font-family:Menlo,'DejaVu Sans Mono',consolas,'Courier New',monospace\"><span style=\"color: #7fbfbf\">                    </span><span style=\"color: #008000\">INFO</span>     Combining to Movie file.                <a href=\"file:///opt/homebrew/lib/python3.9/site-packages/manim/scene/scene_file_writer.py\"><span style=\"color: #7f7f7f\">scene_file_writer.py</span></a><span style=\"color: #7f7f7f\">:597</span>\n",
       "</pre>\n"
      ],
      "text/plain": [
       "<rich.jupyter.JupyterRenderable at 0x12e753b50>"
      ]
     },
     "metadata": {},
     "output_type": "display_data"
    },
    {
     "data": {
      "text/html": [
       "<pre style=\"white-space:pre;overflow-x:auto;line-height:normal;font-family:Menlo,'DejaVu Sans Mono',consolas,'Courier New',monospace\"><span style=\"color: #7fbfbf\">                    </span><span style=\"color: #008000\">INFO</span>                                             <a href=\"file:///opt/homebrew/lib/python3.9/site-packages/manim/scene/scene_file_writer.py\"><span style=\"color: #7f7f7f\">scene_file_writer.py</span></a><span style=\"color: #7f7f7f\">:718</span>\n",
       "                             <span style=\"color: #808000; font-weight: bold\">File</span> ready at <span style=\"color: #008000\">'/Users/iojea/Seafile/Nub</span>                         \n",
       "                             <span style=\"color: #008000\">e/git/Manim-Jupyter-Tutorials/media/vid</span>                         \n",
       "                             <span style=\"color: #008000\">eos/Manim-Jupyter-Tutorials/720p30/C3A0</span>                         \n",
       "                             <span style=\"color: #008000\">5.mp4'</span>                                                          \n",
       "                                                                                             \n",
       "</pre>\n"
      ],
      "text/plain": [
       "<rich.jupyter.JupyterRenderable at 0x12e753f70>"
      ]
     },
     "metadata": {},
     "output_type": "display_data"
    },
    {
     "data": {
      "text/html": [
       "<pre style=\"white-space:pre;overflow-x:auto;line-height:normal;font-family:Menlo,'DejaVu Sans Mono',consolas,'Courier New',monospace\"><span style=\"color: #7fbfbf\">                    </span><span style=\"color: #008000\">INFO</span>     <span style=\"color: #808000; font-weight: bold\">Rendered</span> C3A05                                      <a href=\"file:///opt/homebrew/lib/python3.9/site-packages/manim/scene/scene.py\"><span style=\"color: #7f7f7f\">scene.py</span></a><span style=\"color: #7f7f7f\">:240</span>\n",
       "                             <span style=\"color: #808000; font-weight: bold\">Played</span> <span style=\"color: #008000\">9</span> <span style=\"color: #808000; font-weight: bold\">animations</span>                                             \n",
       "</pre>\n"
      ],
      "text/plain": [
       "<rich.jupyter.JupyterRenderable at 0x12e7536d0>"
      ]
     },
     "metadata": {},
     "output_type": "display_data"
    },
    {
     "data": {
      "text/html": [
       "<video src=\"media/jupyter/C3A05@2022-05-26@20-06-02.mp4\" controls autoplay loop style=\"max-width: 60%;\"  >\n",
       "      Your browser does not support the <code>video</code> element.\n",
       "    </video>"
      ],
      "text/plain": [
       "<IPython.core.display.Video object>"
      ]
     },
     "metadata": {},
     "output_type": "display_data"
    }
   ],
   "source": [
    "%%manim -qm C3A05\n",
    "\n",
    "class C3A05(Scene):\n",
    "    def construct(self):\n",
    "        ax = Axes(x_range=[-3, 3],\n",
    "                  y_range=[-0.5, 3],\n",
    "                  x_length=8,\n",
    "                  y_length=5)\n",
    "        labels = ax.get_axis_labels(x_label=\"x\", y_label=\"f(x)\")\n",
    "        labels[0].scale(0.5)\n",
    "        labels[1].scale(0.5)\n",
    "        \n",
    "        def f(x): return 2*np.exp(-x**2)\n",
    "        grafico = ax.plot(f, color=BLUE)\n",
    "        #x0  = -1\n",
    "        dot = Dot(color=RED)\n",
    "        \n",
    "        a   = ValueTracker(0.1)\n",
    "\n",
    "        def update_dot(punto):\n",
    "            X = grafico.point_from_proportion(a.get_value())\n",
    "            punto.move_to(X)\n",
    "            \n",
    "        dot.add_updater(update_dot)\n",
    "\n",
    "        def draw_tan():\n",
    "            return TangentLine(grafico, a.get_value(), color=YELLOW, length=6)\n",
    "        tan = always_redraw(draw_tan)\n",
    "\n",
    "        self.play(Create(ax), Create(labels))\n",
    "        self.wait()\n",
    "        self.play(Create(grafico), runtime=2)\n",
    "        self.wait()\n",
    "        self.play(FadeIn(dot))\n",
    "        self.play(Create(tan))\n",
    "        self.wait()\n",
    "        self.play(a.animate.set_value(0.9), rate_func=linear, run_time=3)\n",
    "        self.wait()\n"
   ]
  },
  {
   "cell_type": "markdown",
   "metadata": {},
   "source": [
    "#### Análisis\n",
    "\n",
    "Dado que nuestro `ValueTracker` `a` representa la proporción del gráfico en la que se encuentran el punto y la tangente, la definición de la tangente es *fácil*: simplemente tomamos el `a.get_value()` como `alpha`. En este caso optamos por definir la función que le damos a `always_redraw` de manera anticipada, con un `def`, pero podríamos haberlo hecho como antes, directamente dentro de `always_redraw`, con un `lambda:`. Esta versión es un poco más larga en cantidad de líneas, pero permite tener líneas más cortas y claras. \n",
    "\n",
    "Para el punto, optamos por utilizar un *updater*. Es importante tener en cuenta que el valor de `a` no es del todo conveniente para fijar un punto en el plano y por lo tanto necesitamos la función `point_from_proportion` (la inversa de `proportion_from_point`).\n",
    "\n",
    "Está claro que el parámetro `alpha` no es el más práctico cuando trabajamos con el gráfico de una función. Parece más natural controlar, por ejemplo, la coordenada $x$ del punto de interés. En principio, esto podría hacerse usando la función `proportion_from_point` en combinación con `ax.c2p()` para recuperar `alpha`. Sin embargo, no siempre es posible realizar animaciones con este procedimiento. El problema es  que para ciertos valoresde $x$, la conversión de unidades `ax.c2p()` introduce pequeños errores de redondeo que hacen que `proportion_from_point` no reconozca el punto resultante como un integrante de la curva y de un error. "
   ]
  },
  {
   "cell_type": "markdown",
   "metadata": {},
   "source": [
    "### Séptima Animación\n",
    "\n",
    "Está claro que el parámetro `alpha` no es el más práctico cuando trabajamos e"
   ]
  }
 ],
 "metadata": {
  "interpreter": {
   "hash": "b0fa6594d8f4cbf19f97940f81e996739fb7646882a419484c72d19e05852a7e"
  },
  "kernelspec": {
   "display_name": "Python 3.9.12 64-bit",
   "language": "python",
   "name": "python3"
  },
  "language_info": {
   "codemirror_mode": {
    "name": "ipython",
    "version": 3
   },
   "file_extension": ".py",
   "mimetype": "text/x-python",
   "name": "python",
   "nbconvert_exporter": "python",
   "pygments_lexer": "ipython3",
   "version": "3.9.12"
  },
  "orig_nbformat": 4
 },
 "nbformat": 4,
 "nbformat_minor": 2
}
