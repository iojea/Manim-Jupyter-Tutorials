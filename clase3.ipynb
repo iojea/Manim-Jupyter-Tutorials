{
 "cells": [
  {
   "cell_type": "markdown",
   "metadata": {},
   "source": [
    "## Manim - Clase 3"
   ]
  },
  {
   "cell_type": "code",
   "execution_count": null,
   "metadata": {},
   "outputs": [],
   "source": [
    "from manim import *"
   ]
  },
  {
   "cell_type": "markdown",
   "metadata": {},
   "source": [
    "### Sincronización de animaciones"
   ]
  },
  {
   "cell_type": "markdown",
   "metadata": {},
   "source": [
    "Algo que hasta ahora nos vino faltando es algún elemento que nos permita sincronizar animaciones, de modo de tener en pantalla varias cosas ocurriendo al mismo tiempo, coordinadas. \n",
    "\n",
    "Uno de los principales recursos para lograr esto proviene de la combinación de un objeto de clase `ValueTracker` con la función `always_redraw`. \n",
    "\n",
    "Un `ValueTracker` es esencialmente una variable numérica, con la particularidad de que nos permite informar a otros elementos de sus cambios de valor. Veamos un ejemplo:"
   ]
  },
  {
   "cell_type": "markdown",
   "metadata": {},
   "source": [
    "### Primera Animación\n",
    "\n",
    "Recomendamos correr el siguiente bloque y mirar la animación resultante antes de leer el código. Ayuda tener en mente el resultado, para comprender la lógica subyacente. "
   ]
  },
  {
   "cell_type": "code",
   "execution_count": null,
   "metadata": {},
   "outputs": [],
   "source": [
    "%%manim -qm C3A00\n",
    "\n",
    "class C3A00(Scene):\n",
    "    def construct(self):\n",
    "        ax         = Axes(x_range=[-4, 4],\n",
    "                          y_range=[-5, 5])\n",
    "        a          = ValueTracker(1)\n",
    "        f          = lambda x: a.get_value() * x**2\n",
    "        func       = always_redraw(lambda: ax.plot(f, color=BLUE))\n",
    "        \n",
    "        formula_f  = MathTex(\"f(x)=ax^2\").to_corner(UL)\n",
    "        etiqueta_a = MathTex(\"a=\")\n",
    "        etiqueta_a.next_to(formula_f, DOWN).align_to(formula_f, LEFT, LEFT)\n",
    "        valor_a    = always_redraw(lambda: MathTex(str('%.2f' % (a.get_value()))).next_to(etiqueta_a, RIGHT))\n",
    "\n",
    "        self.play(Create(ax))\n",
    "        self.play(Create(func))\n",
    "        self.play(FadeIn(etiqueta_a), FadeIn(valor_a), FadeIn(formula_f))\n",
    "        \n",
    "        self.play(a.animate.set_value(2), runtime=2)\n",
    "        self.wait()\n",
    "        self.play(a.animate.set_value(1), runtime=2)\n",
    "        self.play(a.animate.set_value(0.5), runtime=2)\n",
    "        self.wait()\n",
    "        self.play(a.animate.set_value(-1), runtime=2)\n",
    "        self.wait()\n",
    "        self.play(a.animate.set_value(-2), runtime=2)\n",
    "        self.wait()"
   ]
  },
  {
   "cell_type": "markdown",
   "metadata": {},
   "source": [
    "#### Análisis\n",
    "\n",
    "El video hace algo de lo que nos proponemos: define una cuadrática de la forma $f(x)=ax^2$ y luego muestra el efecto de cambiar el parámetro $a$. Esto implica hacer dos cosas: por un lado corregir el dibujo y por el otro modificar el texto en el que se muestra el valor de $a$. \n",
    "\n",
    "¿Cómo se logra esto? \n",
    "\n",
    "Definimos `a = ValueTracker(1)`. Es decir que la variable `a` es un ValueTracker cuyo valor inicial es 1. Luego, definimos la función `f` utilizando como coeficiente `a.get_value()`. Esto extrae el valor del `ValueTracker` `a`. Por ahora ese valor es 1 y por lo tanto la función es $x^2$. Pero es importante tener en cuenta que ese 1 no está fijo, sino que proviene de tomar el valor de `a`, que podría cambiar. \n",
    "\n",
    "Luego, definimos el gráfico de la función usando `ax.plot`. Pero esta definición la hacemos dentro de `always_redraw`:\n",
    "\n",
    "    func       = always_redraw(lambda: ax.plot(f, color=BLUE))\n",
    "\n",
    "`always_redraw` debe recibir una función. Por eso escribimos `lambda:`. Esta función no tiene ningún parámetro, pero *devuelve* el gráfico de la función `f` (que a su vez depende del valor de `a`). `always_redraw` es una función propia de Manim que se corre en cada cuadro de la animación. Es decir que cada vez que Manim genere un cuadro del video va a *redibujar* lo que nosotros le pedimos: en este caso, el gráfico de `f`. Esto hace que el gráfico no sea una figura estática, sólo susceptible de ser movida, rotada o transformada a través de la aplicación explícita de alguna de las funciones de Manim. Por el contrario: el gráfico todo el tiempo es redibujado y puede cambiar si los parámetros que lo definen cambian. Si pasamos por alto la parte del texto y saltamos a las animaciones, podemos observar que fuera de la creación de los distintos elementos (ejes, gráfico, texto), las únicas animaciones son del tipo: \n",
    "\n",
    "    self.play(a.animate.set_value(2))\n",
    "\n",
    "Es decir: no estamos animando explícitamente el gráfico de la función. Lo que estamos animando es el cambio de valor de `a`. `a` pasa de su valor original (1) a valer 2. Como el `set_value()` lo ponemos luego de `animate` este proceso de cambio es animado, es decir que `a` transita por un montón de valores intermedios para pasar de 1 a 2. Cada valor intermedio de `a` generará un nuevo cuadro en el video y ese cuadro, gracias al uso de `always_redraw` implicará la recreación del gráfico de `f`, que a su vez ha cambiado porque depende del (nuevo) valor de `a`. Si se observa el código se pueden ver 5 animaciones de cambios de valor de `a`:  de 1 a 2, de vuelta a 1, a 0.5, a -1 y a -2. En el video pueden verse pequeñas pausas luego de cada movimiento de `a`. \n",
    "\n",
    "Si ahora volvemos atrás a mirar el texto, podemos encontrar un par de elementos conocidos: definimos `formula_f` usando `MathTex` y la posicionamos en la esquina superior izquierda; definimos `label_a` cuyo texto (estático) es `a = ` y la posicionamos debajo de `formula_a` y alineada en el borde izquierdo. Por último, definimos `valor_a` que es el texto cambiante en el video. Para esto, usamos nuevamente `always_redraw`, sólo que el objeto que queremos crear no es un `plot` sino algo de tipo `MathTex`. El contenido de ese objeto de tipo `MathTex` es:\n",
    "\n",
    "    str('%.2f' %(a.get_value()))\n",
    "\n",
    "Esto es simplemente un tecnicismo (útil, pero tecnicismo al fin). No podemos poner `MathTex(a.get_value())`, porque `a.get_value()` devuelve un número (de tipo `float`) y no texto y por lo tanto `MathTex` no es capaz de entender esa sintaxis. Una alternativa es escribir `str(a.get_value())` que convierte el valor de `a` en un *string* (cadena de caracteres). El problema es que `a` puede ser un número con muchísimos decimales que **no** queremos ver en pantalla. La sintaxis que usamos simplemente le indica a `str` que debe tomar el valor definido luego de `%` y traducirlo a texto, con punto decimal y dos dígitos detrás de ese punto. La `f` viene de `float` (número flotante). Pueden jugar con esta configuración. Por ejemplo:  probar `str(a.get_value))`, cambiar el número de decimales, etc. \n",
    "\n",
    "De esta manera logramos *sincronizar* dos animaciones distintas: la del gráfico y la del texto. Pero en realidad, no sincronizamos dos animaciones: sólo hicimos **una** animación, que es la del cambio de valor de `a`. Lo que ocurre es que tanto el texto como el gráfico dependen de `a` y se actualizan gracias a `always_redraw`. "
   ]
  },
  {
   "cell_type": "markdown",
   "metadata": {},
   "source": [
    "### Segunda Animación\n",
    "\n",
    "Siguiendo la misma lógica podemos animar, por ejemplo, un punto moviéndose a lo largo del gráfico de una función. "
   ]
  },
  {
   "cell_type": "code",
   "execution_count": null,
   "metadata": {},
   "outputs": [],
   "source": [
    "%%manim -qm C3A01\n",
    "\n",
    "class C3A01(Scene):\n",
    "    def construct(self):\n",
    "        ax = Axes(x_range=[-3, 3],\n",
    "                  y_range=[-0.5, 3],\n",
    "                  x_length=8,\n",
    "                  y_length=5)\n",
    "        labels = ax.get_axis_labels(x_label=\"x\", y_label=\"f(x)\")\n",
    "        labels[0].scale(0.5)\n",
    "        labels[1].scale(0.5)\n",
    "        \n",
    "        def f(x): return 2*np.exp(-x**2)\n",
    "        grafico = ax.plot(f, color=BLUE)\n",
    "        \n",
    "        x0      = -1\n",
    "        t   = ValueTracker(x0)\n",
    "        dot = always_redraw(lambda : Dot(ax.c2p(t.get_value(), f(t.get_value())), color=RED))\n",
    "        \n",
    "        self.play(Create(ax), Create(labels))\n",
    "        self.wait()\n",
    "        self.play(Create(grafico), runtime=2)\n",
    "        self.wait()\n",
    "        self.play(FadeIn(dot))\n",
    "        self.wait()\n",
    "        self.play(t.animate.set_value(1), runtime=2)\n",
    "        self.wait()"
   ]
  },
  {
   "cell_type": "markdown",
   "metadata": {},
   "source": [
    "#### Análisis\n",
    "\n",
    "Creamos un par de ejes y le agregamos sus correspondientes etiquetas. A estas etiquetas les aplicamos la función `scale` (propia de todo Mobject) que nos permite cambiarle el tamaño *in situ*. En este caso las achicamos a la mitad de su tamaño estandar. \n",
    "\n",
    "Lo interesante viene después. Definimos un `ValueTracker`, `t`, "
   ]
  }
 ],
 "metadata": {
  "interpreter": {
   "hash": "b0fa6594d8f4cbf19f97940f81e996739fb7646882a419484c72d19e05852a7e"
  },
  "kernelspec": {
   "display_name": "Python 3.9.12 64-bit",
   "language": "python",
   "name": "python3"
  },
  "language_info": {
   "codemirror_mode": {
    "name": "ipython",
    "version": 3
   },
   "file_extension": ".py",
   "mimetype": "text/x-python",
   "name": "python",
   "nbconvert_exporter": "python",
   "pygments_lexer": "ipython3",
   "version": "3.9.12"
  },
  "orig_nbformat": 4
 },
 "nbformat": 4,
 "nbformat_minor": 2
}
