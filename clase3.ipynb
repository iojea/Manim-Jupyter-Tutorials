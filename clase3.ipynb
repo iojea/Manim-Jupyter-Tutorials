{
 "cells": [
  {
   "cell_type": "markdown",
   "metadata": {},
   "source": [
    "## Manim - Clase 3"
   ]
  },
  {
   "cell_type": "code",
   "execution_count": null,
   "metadata": {},
   "outputs": [],
   "source": [
    "from manim import *"
   ]
  },
  {
   "cell_type": "markdown",
   "metadata": {},
   "source": [
    "### Sincronización de animaciones"
   ]
  },
  {
   "cell_type": "markdown",
   "metadata": {},
   "source": [
    "Algo que hasta ahora nos vino faltando es algún elemento que nos permita sincronizar animaciones, de modo de tener en pantalla varias cosas ocurriendo al mismo tiempo, coordinadas. \n",
    "\n",
    "Uno de los principales recursos para lograr esto proviene de la combinación de un objeto de clase `ValueTracker` con la función `always_redraw`. \n",
    "\n",
    "Un `ValueTracker` es esencialmente una variable numérica, con la particularidad de que nos permite informar a otros elementos de sus cambios de valor. Veamos un ejemplo:"
   ]
  },
  {
   "cell_type": "markdown",
   "metadata": {},
   "source": [
    "### Primera Animación\n",
    "\n",
    "Recomendamos correr el siguiente bloque y mirar la animación resultante antes de leer el código. Ayuda tener en mente el resultado para comprender la lógica subyacente. "
   ]
  },
  {
   "cell_type": "code",
   "execution_count": null,
   "metadata": {},
   "outputs": [],
   "source": [
    "%%manim -qm C3A00\n",
    "\n",
    "class C3A00(Scene):\n",
    "    def construct(self):\n",
    "        ax         = Axes(x_range=[-4, 4],\n",
    "                          y_range=[-5, 5])\n",
    "        a          = ValueTracker(1)\n",
    "        f          = lambda x: a.get_value() * x**2\n",
    "        func       = always_redraw(lambda: ax.plot(f, color=BLUE))\n",
    "        \n",
    "        formula_f  = MathTex(\"f(x)=ax^2\").to_corner(UL)\n",
    "        etiqueta_a = MathTex(\"a=\")\n",
    "        etiqueta_a.next_to(formula_f, DOWN).align_to(formula_f, LEFT, LEFT)\n",
    "        valor_a    = always_redraw(lambda: MathTex(str('%.2f' % (a.get_value()))).next_to(etiqueta_a, RIGHT))\n",
    "\n",
    "        self.play(Create(ax))\n",
    "        self.play(Create(func))\n",
    "        self.play(FadeIn(etiqueta_a), FadeIn(valor_a), FadeIn(formula_f))\n",
    "        \n",
    "        self.play(a.animate.set_value(2), runtime=2)\n",
    "        self.wait()\n",
    "        self.play(a.animate.set_value(1), runtime=2)\n",
    "        self.play(a.animate.set_value(0.5), runtime=2)\n",
    "        self.wait()\n",
    "        self.play(a.animate.set_value(-1), runtime=2)\n",
    "        self.wait()\n",
    "        self.play(a.animate.set_value(-2), runtime=2)\n",
    "        self.wait()"
   ]
  },
  {
   "cell_type": "markdown",
   "metadata": {},
   "source": [
    "#### Análisis\n",
    "\n",
    "El video hace algo de lo que nos proponemos: define una cuadrática de la forma $f(x)=ax^2$ y luego muestra el efecto de cambiar el parámetro $a$. Esto implica hacer dos cosas: por un lado corregir el dibujo y por el otro modificar el texto en el que se muestra el valor de $a$. \n",
    "\n",
    "¿Cómo se logra esto? \n",
    "\n",
    "Definimos `a = ValueTracker(1)`. Es decir que la variable `a` es un `ValueTracker` cuyo valor inicial es 1. Luego, definimos la función `f` utilizando como coeficiente `a.get_value()`. Esto extrae el valor del `ValueTracker` `a`. Por ahora ese valor es 1 y por lo tanto la función es $x^2$. Pero es importante tener en cuenta que ese 1 no está fijo, sino que proviene de tomar el valor de `a`, que podría cambiar. \n",
    "\n",
    "Luego, definimos el gráfico de la función usando `ax.plot`. Pero esta definición la hacemos dentro de `always_redraw`:\n",
    "\n",
    "    func       = always_redraw(lambda: ax.plot(f, color=BLUE))\n",
    "\n",
    "`always_redraw` debe recibir una función. Por eso escribimos `lambda:`. Esta función no tiene ningún parámetro, pero *devuelve* el gráfico de la función `f` (que a su vez depende del valor de `a`). `always_redraw` es una función propia de Manim que se corre en cada cuadro de la animación. Es decir que cada vez que Manim genere un cuadro del video va a *redibujar* lo que nosotros le pedimos: en este caso, el gráfico de `f`. Esto hace que el gráfico no sea una figura estática, sólo susceptible de ser movida, rotada o transformada a través de la aplicación explícita de alguna de las funciones de Manim. Por el contrario: el gráfico todo el tiempo es redibujado y puede cambiar si los parámetros que lo definen cambian. Si pasamos por alto la parte del texto y saltamos a las animaciones, podemos observar que fuera de la creación de los distintos elementos (ejes, gráfico, texto), las únicas animaciones son del tipo: \n",
    "\n",
    "    self.play(a.animate.set_value(2))\n",
    "\n",
    "Es decir: no estamos animando explícitamente el gráfico de la función. Lo que estamos animando es el cambio de valor de `a`. `a` pasa de su valor original (1) a valer 2. Como el `set_value()` lo ponemos luego de `animate` este proceso de cambio es animado, es decir que `a` transita por un montón de valores intermedios para pasar de 1 a 2. Cada valor intermedio de `a` generará un nuevo cuadro en el video y ese cuadro, gracias al uso de `always_redraw` implicará la recreación del gráfico de `f`, que a su vez ha cambiado porque depende del (nuevo) valor de `a`. Si se observa el código se pueden ver 5 animaciones de cambios de valor de `a`:  de 1 a 2, de vuelta a 1, a 0.5, a -1 y a -2. En el video pueden verse pequeñas pausas luego de cada movimiento de `a`. \n",
    "\n",
    "Si ahora volvemos atrás a mirar el texto, podemos encontrar un par de elementos conocidos: definimos `formula_f` usando `MathTex` y la posicionamos en la esquina superior izquierda; definimos `label_a` cuyo texto (estático) es `a = ` y la posicionamos debajo de `formula_a` y alineada en el borde izquierdo. Por último, definimos `valor_a` que es el texto cambiante en el video. Para esto, usamos nuevamente `always_redraw`, sólo que el objeto que queremos crear no es un `plot` sino algo de tipo `MathTex`. El contenido de ese objeto de tipo `MathTex` es:\n",
    "\n",
    "    str('%.2f' %(a.get_value()))\n",
    "\n",
    "Esto es simplemente un tecnicismo (útil, pero tecnicismo al fin). No podemos poner `MathTex(a.get_value())`, porque `a.get_value()` devuelve un número (de tipo `float`) y no texto y por lo tanto `MathTex` no es capaz de procesarlo. Una alternativa es escribir `str(a.get_value())` que convierte el valor de `a` en un *string* (cadena de caracteres). El problema es que `a` puede ser un número con muchísimos decimales que **no** queremos ver en pantalla. La sintaxis que usamos simplemente le indica a `str` que debe tomar el valor definido luego de `%` y traducirlo a texto, con punto decimal y dos dígitos detrás de ese punto. La `f` viene de `float` (número flotante). Pueden jugar con esta configuración. Por ejemplo:  probar `str(a.get_value())`, cambiar el número de decimales, etc. \n",
    "\n",
    "De esta manera logramos *sincronizar* dos animaciones distintas: la del gráfico y la del texto. Pero en realidad, no sincronizamos dos animaciones: sólo hicimos **una** animación, que es la del cambio de valor de `a`. Lo que ocurre es que tanto el texto como el gráfico dependen de `a` y se actualizan gracias a `always_redraw`. "
   ]
  },
  {
   "cell_type": "markdown",
   "metadata": {},
   "source": [
    "### Segunda Animación\n",
    "\n",
    "Siguiendo la misma lógica podemos animar, por ejemplo, un punto moviéndose a lo largo del gráfico de una función. "
   ]
  },
  {
   "cell_type": "code",
   "execution_count": null,
   "metadata": {},
   "outputs": [],
   "source": [
    "%%manim -qm C3A01\n",
    "\n",
    "class C3A01(Scene):\n",
    "    def construct(self):\n",
    "        ax = Axes(x_range=[-3, 3],\n",
    "                  y_range=[-0.5, 3],\n",
    "                  x_length=8,\n",
    "                  y_length=5)\n",
    "        labels = ax.get_axis_labels(x_label=\"x\", y_label=\"f(x)\")\n",
    "        labels[0].scale(0.5)\n",
    "        labels[1].scale(0.5)\n",
    "        \n",
    "        def f(x): return 2*np.exp(-x**2)\n",
    "        grafico = ax.plot(f, color=BLUE)\n",
    "        \n",
    "        x0      = -1\n",
    "        t   = ValueTracker(x0)\n",
    "        dot = always_redraw(lambda : Dot(ax.c2p(t.get_value(), f(t.get_value())), color=RED))\n",
    "        \n",
    "        self.play(Create(ax), Create(labels))\n",
    "        self.wait()\n",
    "        self.play(Create(grafico), runtime=2)\n",
    "        self.wait()\n",
    "        self.play(FadeIn(dot))\n",
    "        self.wait()\n",
    "        self.play(t.animate.set_value(1), runtime=2)\n",
    "        self.wait()"
   ]
  },
  {
   "cell_type": "markdown",
   "metadata": {},
   "source": [
    "#### Análisis\n",
    "\n",
    "Creamos un par de ejes y le agregamos sus correspondientes etiquetas. A estas etiquetas les aplicamos la función `scale` (propia de todo Mobject) que nos permite cambiarle el tamaño *in situ*. En este caso las achicamos a la mitad de su tamaño estandar. \n",
    "\n",
    "Lo interesante viene después. Definimos un `ValueTracker`, `t`. Si bien esto no se indica en ningún lado, conceptualmente `t` será la coordenada $x$ del punto. Luego, definimos el punto (la variable `dot`) dentro de `always_redraw`. A diferencia de lo que hicimos en otras oportunidades, aquí aprovechamos que `Dot()` puede recibir como parámetros las coordenadas con la ubicación del punto, que en esta caso provienen de aplicar `ax.c2p()` (o `coords_to_point()`) a $(t,f(t))$. Alternativamente, podríamos haber hecho: \n",
    "\n",
    "    Dot(color=RED).move_to(ax.c2p(t.get_value(),f(t.get_value())))\n",
    "\n",
    "**<span style=\"color:TEAL\">Ejercicio 1:</span>** Agregar al video dos puntos: uno que se mueva sobre el eje $x$ y otro que se mueva sobre el eje $y$, siguiendo las coordenadasde punto rojo que recorre la curva. \n",
    "\n",
    "**<span style=\"color:TEAL\">Ejercicio 2:</span>** Cambiar el punto por alguna figura geométrica. Eliminar del video los ejes y el gráfico y constatar que este recurso puede utilizarse para mover Mobjects por una trayectoria prefijada. "
   ]
  },
  {
   "cell_type": "markdown",
   "metadata": {},
   "source": [
    "### Tercera Animación\n",
    "\n",
    "Existe otro mecanismo que permite obtener un efecto análogo al de `always_redraw`. Se trata de los *updaters*. Un *updater* es una función (que definimos nosotros) que se le agrega a un Mobject y se ejecuta en cada cuadro. Rehacemos la animación anterior con un *updater*:"
   ]
  },
  {
   "cell_type": "code",
   "execution_count": null,
   "metadata": {},
   "outputs": [],
   "source": [
    "%%manim -qm C3A02\n",
    "\n",
    "class C3A02(Scene):\n",
    "    def construct(self):\n",
    "        ax = Axes(x_range=[-3, 3],\n",
    "                  y_range=[-0.5, 3],\n",
    "                  x_length=8,\n",
    "                  y_length=5)\n",
    "        labels = ax.get_axis_labels(x_label=\"x\", y_label=\"f(x)\")\n",
    "        \n",
    "        def f(x): return 2*np.exp(-x**2)\n",
    "        grafico = ax.plot(f, color=BLUE)\n",
    "        x0  = -1\n",
    "        dot = Dot(color=RED).move_to(ax.c2p(x0, f(x0)))\n",
    "        t   = ValueTracker(x0)\n",
    "\n",
    "        def actualizacion(m):\n",
    "            m.move_to(ax.c2p(t.get_value(), f(t.get_value())))\n",
    "            \n",
    "        dot.add_updater(actualizacion)\n",
    "        \n",
    "        self.play(Create(ax), Create(labels))\n",
    "        self.wait()\n",
    "        self.play(Create(grafico), runtime=2)\n",
    "        self.wait()\n",
    "        self.play(FadeIn(dot))\n",
    "        self.wait()\n",
    "        self.play(t.animate.set_value(1), run_time=2)\n",
    "        self.wait()"
   ]
  },
  {
   "cell_type": "markdown",
   "metadata": {},
   "source": [
    "#### Análisis\n",
    "\n",
    "La función `actualizacion` recibe un parámetro `m` y le aplica la función `move_to()` hacia las coordenadas determinadas por el `ValueTracker` `t`.  En principio, la función `actualizacion` es genérica y puede aplicarse a cualquier Mobject (si `m` no es un Mobject el programa dará un error al no encontrar la función `move_to` dentro de `m`). Pero luego hacemos: \n",
    "\n",
    "    dot.add_updater(actualizacion)\n",
    "\n",
    "que le agrega a `dot` la función `actualizacion`, como un *updater*. A partir de aquí, la función `actualizacion` de correrá en cada cuadro sobre el Mobject `dot`.  \n",
    "\n",
    "También existe una función `remove_updater` que permite quitar el *updater* y de este modo interrumpir la actualización continua del Mobject. "
   ]
  },
  {
   "cell_type": "markdown",
   "metadata": {},
   "source": [
    "**<span style=\"color:TEAL\">Ejercicio 3:</span>** Usando `ValueTracker` y `always_redraw` implementar una animación en la que: aparezcan tres cuadrados, uno junto al otro. Y luego los cuadrados roten, a distinta velocidad: concretamente, cada cuadrado debe rotar al doble de velocidad que su vecino de la izquierda. "
   ]
  },
  {
   "cell_type": "markdown",
   "metadata": {},
   "source": [
    "### Cuarta Animación: Tangentes\n",
    "\n",
    "La clase `TangentLine`  permite trazar tangentes a cualquier Mobject. El constructor recibe como parámetros:\n",
    "* El Mobject al que le queremos trazar una tangente\n",
    "* Un valor `alpha` entre 0 y 1 que representa la proporción de Mobject a la cual se traza la tangente (e.g.: `alpha`=0.5 traza la tangente en la mitad del Mobject)\n",
    "* Opcionalmente, `color` y `length` pueden usarse para fijar el color de la tangente y su longitud. \n",
    "\n",
    "Además, aplicando la combinación `ValueTracker`+`always_redraw` es posible obtener tangentes que se mueven a lo largo del Mobject o junto con él, manteniéndose tangentes. \n",
    "\n",
    "Recomendamos mirar el siguiente video antes de detenerse en el código. \n"
   ]
  },
  {
   "cell_type": "code",
   "execution_count": null,
   "metadata": {},
   "outputs": [],
   "source": [
    "%%manim -qm C3A03\n",
    "\n",
    "class C3A03(Scene):\n",
    "    def construct(self):\n",
    "        circulo  = Circle(2,color=BLUE).shift(1.5*DOWN)\n",
    "        p        = ValueTracker(0)\n",
    "        tang1    = TangentLine(circulo,0.2,color=YELLOW,length=4)\n",
    "        tang2    = always_redraw(lambda: TangentLine(circulo,p.get_value(),color=PURPLE,length=4))\n",
    "        \n",
    "        texto1   = Text(\"Tangente en un punto, estática\").to_edge(UP,buff=0.5)\n",
    "        texto2   = Text(\"Hm...\").move_to(texto1.get_center())\n",
    "        texto3   = Text(\"Tangente con always_redraw\").move_to(texto1.get_center())\n",
    "        texto4   = Text(\"Movemos el parámetro\").next_to(texto3,DOWN)\n",
    "        texto5   = Text(\"Movemos el círculo\").move_to(texto4.get_center())\n",
    "        texto6   = Text(\"Ahora sí\").move_to(texto1.get_center())\n",
    "        \n",
    "        self.play(Create(circulo))\n",
    "        self.play(Create(tang1),Write(texto1))\n",
    "        self.wait(3)\n",
    "        self.play(circulo.animate.shift(RIGHT))\n",
    "        self.play(ReplacementTransform(texto1,texto2))\n",
    "        self.wait()\n",
    "        self.play(circulo.animate.shift(LEFT))\n",
    "        self.play(FadeOut(tang1),FadeOut(texto2))\n",
    "        self.wait()\n",
    "        self.play(Create(tang2),Write(texto3))\n",
    "        self.wait()\n",
    "        self.play(Write(texto4))\n",
    "        self.play(p.animate.set_value(0.8))\n",
    "        self.play(p.animate.set_value(0.3))\n",
    "        self.play(ReplacementTransform(texto4,texto5))\n",
    "        self.play(circulo.animate.shift(RIGHT))\n",
    "        self.play(circulo.animate.shift(UP),p.animate.set_value(0.6))\n",
    "        self.play(circulo.animate.move_to(ORIGIN),p.animate.set_value(0))\n",
    "        self.play(FadeOut(texto5))\n",
    "        self.play(ReplacementTransform(texto3,texto6))\n",
    "        self.wait()\n",
    "        self.play(FadeOut(*self.mobjects))"
   ]
  },
  {
   "cell_type": "markdown",
   "metadata": {},
   "source": [
    "#### Análisis \n",
    "\n",
    "Trazamos dos tangentes al círculo. La primera, amarilla, es creada de manera estática con `alpha`=0.2. Al mover el círculo, la recta queda en su lugar y deja de ser tangente al círculo. La segunda, violeta, se crea dentro de un `always_redraw` con un valor de `alpha` que depende del valor del `ValueTracker` `p`. Al cambiar el valor de `p`, la recta se mueve a lo largo del círculo. Al mover el círculo, la recta lo acompaña. Esto es porque en cada cuadro la recta se redibuja como una tangente al círculo en el punto de proporción `p`. "
   ]
  },
  {
   "cell_type": "markdown",
   "metadata": {},
   "source": [
    "### Quinta Animación\n",
    "\n",
    "El gráfico de una función es un Mobject y por lo tanto `TangentLine` puede usarse para trazar tangentes a gráficos de funciones. El único inconveniente es que no es fácil determinar cuál es la proporción de avance a lo largo del gráfico que corresponde a determinado punto. Felizmente, existe la función (propia de cualquier Mobject) `proportion_from_point` que recibe un punto del Mobject y devuelve el valor de `alpha` que le corresponde. Usamos este recurso para trazar la tangente a un gráfico en un punto dado: "
   ]
  },
  {
   "cell_type": "code",
   "execution_count": null,
   "metadata": {},
   "outputs": [],
   "source": [
    "%%manim -qm C3A04\n",
    "\n",
    "class C3A04(Scene):\n",
    "    def construct(self):\n",
    "        ax = Axes(x_range=[-3, 3],\n",
    "                  y_range=[-0.5, 3],\n",
    "                  x_length=8,\n",
    "                  y_length=5)\n",
    "        labels = ax.get_axis_labels(x_label=\"x\", y_label=\"f(x)\")\n",
    "        labels[0].scale(0.5)\n",
    "        labels[1].scale(0.5)\n",
    "        def f(x): return 2*np.exp(-x**2)\n",
    "        grafico = ax.plot(f, x_range=[-2, 2], color=BLUE)\n",
    "        x0 = -1\n",
    "        dot = Dot(ax.c2p(x0, f(x0)), color=RED)\n",
    "        tan = TangentLine(grafico, grafico.proportion_from_point(\n",
    "                            ax.c2p(x0, f(x0))), color=YELLOW, length=6)\n",
    "        self.play(Create(ax), Create(labels))\n",
    "        self.wait()\n",
    "        self.play(Create(grafico), runtime=2)\n",
    "        self.wait()\n",
    "        self.play(FadeIn(dot))\n",
    "        self.play(Create(tan))\n",
    "        self.wait()"
   ]
  },
  {
   "cell_type": "markdown",
   "metadata": {},
   "source": [
    "#### Análisis\n",
    "\n",
    "Como anticipamos: ubicamos un punto en el gráfico y usamos la función `proportion_from_point` para pasarle el valor de `alpha` correcto a la tangente. "
   ]
  },
  {
   "cell_type": "markdown",
   "metadata": {},
   "source": [
    "### Sexta Animación\n",
    "\n",
    "Ahora podemos tomar la construcción anterior y animar el movimiento de la tangente (junto con el punto), a lo largo de la curva. Para ello definiremos un `ValueTracker` que representará el valor de `alpha`:"
   ]
  },
  {
   "cell_type": "code",
   "execution_count": null,
   "metadata": {},
   "outputs": [],
   "source": [
    "%%manim -qm C3A05\n",
    "\n",
    "class C3A05(Scene):\n",
    "    def construct(self):\n",
    "        ax = Axes(x_range=[-3, 3],\n",
    "                  y_range=[-0.5, 3],\n",
    "                  x_length=8,\n",
    "                  y_length=5)\n",
    "        labels = ax.get_axis_labels(x_label=\"x\", y_label=\"f(x)\")\n",
    "        labels[0].scale(0.5)\n",
    "        labels[1].scale(0.5)\n",
    "        \n",
    "        def f(x): return 2*np.exp(-x**2)\n",
    "        grafico = ax.plot(f, color=BLUE)\n",
    "        #x0  = -1\n",
    "        dot = Dot(color=RED)\n",
    "        \n",
    "        a   = ValueTracker(0.1)\n",
    "\n",
    "        def update_dot(punto):\n",
    "            X = grafico.point_from_proportion(a.get_value())\n",
    "            punto.move_to(X)\n",
    "            \n",
    "        dot.add_updater(update_dot)\n",
    "\n",
    "        def draw_tan():\n",
    "            return TangentLine(grafico, a.get_value(), color=YELLOW, length=6)\n",
    "        tan = always_redraw(draw_tan)\n",
    "\n",
    "        self.play(Create(ax), Create(labels))\n",
    "        self.wait()\n",
    "        self.play(Create(grafico), runtime=2)\n",
    "        self.wait()\n",
    "        self.play(FadeIn(dot))\n",
    "        self.play(Create(tan))\n",
    "        self.wait()\n",
    "        self.play(a.animate.set_value(0.9), rate_func=linear, run_time=3)\n",
    "        self.wait()\n"
   ]
  },
  {
   "cell_type": "markdown",
   "metadata": {},
   "source": [
    "#### Análisis\n",
    "\n",
    "Dado que nuestro `ValueTracker` `a` representa la proporción del gráfico en la que se encuentran el punto y la tangente, la definición de la tangente es *fácil*: simplemente tomamos el `a.get_value()` como `alpha`. En este caso optamos por definir la función que le damos a `always_redraw` de manera anticipada, con un `def`, pero podríamos haberlo hecho como antes, directamente dentro de `always_redraw`, con un `lambda:`. Esta versión es un poco más larga en cantidad de líneas, pero permite tener líneas más cortas y claras. \n",
    "\n",
    "Para el punto, optamos por utilizar un *updater*. Es importante tener en cuenta que el valor de `a` no es del todo conveniente para fijar un punto en el plano y por lo tanto necesitamos la función `point_from_proportion` (la inversa de `proportion_from_point`).\n",
    "\n",
    "Un pequeño cambio adicional es que en la animación agregamos el parámetro `rate_func`, seteado en `linear`. En el video anterior pueden observar que el movimiento de tangente y punto no se realiza a velocidad constante, sino que es más rápido al principio y al final. Esto se configura usando `rate_func`, que debe ser una función que mapee el [0,1] en sí mismo. `linear` es la función $f(t)=t$. Se podría utilizar cualquier función definida *a mano*, pero difícilmente haga falta, dado que existe una amplia variedad de funciones preprogramadas en la [Documentación](https://docs.manim.community/en/stable/reference/manim.utils.rate_functions.html).\n",
    "\n",
    "\n"
   ]
  },
  {
   "cell_type": "markdown",
   "metadata": {},
   "source": [
    "### Séptima Animación\n",
    "\n",
    "Está claro que el parámetro `alpha` no es el más práctico cuando trabajamos con el gráfico de una función. Parece más natural controlar, por ejemplo, la coordenada $x$ del punto de interés. En principio, esto podría hacerse usando la función `proportion_from_point` en combinación con `ax.c2p()` para recuperar `alpha`. Sin embargo, no siempre es posible realizar animaciones con este procedimiento. El problema es que para ciertos valoresde $x$, la conversión de unidades `ax.c2p()` introduce pequeños errores de redondeo que hacen que `proportion_from_point` no reconozca el punto resultante como un integrante de la curva y de un error. \n",
    "\n",
    "\n",
    "Sin embargo, existe otro mecanismo que permite crear tangentes a gráficos de funciones que está específicamente pensado para explicar derivadas. Se trata de: `get_secant_slope_group()`, que en rigor permite trazar *secantes*. Veamos cómo funciona:"
   ]
  },
  {
   "cell_type": "code",
   "execution_count": null,
   "metadata": {},
   "outputs": [],
   "source": [
    "%%manim -qm C3A06\n",
    "\n",
    "class C3A06(Scene):\n",
    "    def construct(self):\n",
    "        ax      = Axes(y_range=[-1, 7])\n",
    "        f       = ax.plot(lambda x: 1 / 8 * x ** 2, color=BLUE)\n",
    "        secante = ax.get_secant_slope_group(\n",
    "                                        graph=f,\n",
    "                                        x=3,\n",
    "                                        dx=2,\n",
    "                                        dx_label=\"dx\",\n",
    "                                        dy_label=\"dy\",\n",
    "                                        dx_line_color=GREEN_B,\n",
    "                                        dy_line_color=YELLOW_B,\n",
    "                                        secant_line_length=8,\n",
    "                                        secant_line_color=RED_D)\n",
    "        self.play(Create(ax))\n",
    "        self.play(Create(f))\n",
    "        self.wait()\n",
    "        self.play(Create(secante))"
   ]
  },
  {
   "cell_type": "markdown",
   "metadata": {},
   "source": [
    "#### Análisis\n",
    "\n",
    "`get_secant_slope_group()` es una función propia de la clase `Axes`. Devuelve el conjunto de elementos que se ve en la animación:\n",
    "* La secante\n",
    "* segmentos que indican el $\\Delta x$ y el $\\Delta y$ que determinan la secante. \n",
    "* etiquetas para esos segmentos. \n",
    "Los parámetros que recibe son:\n",
    "* `graph`: el gráfico al que trazarle la secante.\n",
    "* `x` y `dx`: la coordenada $x$ del primer punto de paso y el $\\Delta x$ para determinar el segundo. \n",
    "* `dx_label` y `dy_label`: las etiquetas de los segmentos para $\\Delta x$ y $\\Delta y$. \n",
    "* `dx_line_color` y `dy_line_color`: los colores de los segmentos.\n",
    "* `secant_line_length`: la longitud de la secante.\n",
    "* `secant_line_color`: el color de la secante. \n",
    "Un detalle relevante es que si no fijamos parámetros para los segmentos y las etiquetas, éstos no se muestran, quedando sólo la secante. "
   ]
  },
  {
   "cell_type": "markdown",
   "metadata": {},
   "source": [
    "### Octava Animación\n",
    "\n",
    "Si en `get_secant_slope_group` utilizamos un valor muy chico de `dx` obtendremos (visualmente) una tangente. Repitamos la animación de la tangente en movimiento con este recurso: "
   ]
  },
  {
   "cell_type": "code",
   "execution_count": null,
   "metadata": {},
   "outputs": [],
   "source": [
    "%%manim -qm C3A07\n",
    "\n",
    "class C3A07(Scene):\n",
    "    def construct(self):\n",
    "        ax   = Axes(y_range=[-1, 7])\n",
    "        f    = lambda x: 1 / 8 * x ** 2\n",
    "        func = ax.plot(f, color=BLUE)\n",
    "        x    = ValueTracker(3)\n",
    "        sec  = always_redraw(lambda: ax.get_secant_slope_group(\n",
    "                                        graph=func,\n",
    "                                        x=x.get_value(),\n",
    "                                        dx=0.01,\n",
    "                                        secant_line_length=8,\n",
    "                                        secant_line_color=YELLOW))\n",
    "        dot = always_redraw(lambda: Dot(color=RED).move_to(ax.c2p(x.get_value(),f(x.get_value()))))\n",
    "        \n",
    "        self.play(Create(ax))\n",
    "        self.play(Create(func))\n",
    "        self.wait()\n",
    "        self.play(FadeIn(dot),Create(sec))\n",
    "        self.wait()\n",
    "        self.play(x.animate.set_value(-2))"
   ]
  },
  {
   "cell_type": "markdown",
   "metadata": {},
   "source": [
    "#### Análisis\n",
    "\n",
    "Simplemente creamos la *secante* dentro de un `always_redraw`, con un `dx` chico y con el valor de `x` tomado de un `ValueTracker` previamente difinido. Agregamos el punto, esta vez definido con un `always_redraw`. La actualización del valor del `ValueTracker` produce automáticamente el movimiento de la tangente. "
   ]
  },
  {
   "cell_type": "markdown",
   "metadata": {},
   "source": [
    "**<span style=\"color:TEAL\">Ejercicio 4:</span>** Así como existe `get_secant_slope_group()`, exiten también las funciones: `get_riemann_rectangles()` y `get_area()`. Todas estas funciones no son estrictametne de la clase `Axes` sino de la clase (más general) `CoordinateSystem`. Explorar la [Documentacion](https://docs.manim.community/en/stable/reference/manim.mobject.graphing.coordinate_systems.CoordinateSystem.html) y hacer ejemplos mostrando un conjunto de rectángulos de Riemann y el área bajo una curva. Si se animan, hacer un ejemplo en el que los rectángulos de Riemann se achiquen según el movimiento de un `ValueTracker. "
   ]
  },
  {
   "cell_type": "markdown",
   "metadata": {},
   "source": [
    "**<span style=\"color:TEAL\">Ejercicio 5:</span>** Otras funciones interesantes de `CoordinateSystem` son: `get_lines_to_point()`, `get_horizontal_line()`, `get_vertical_line()`, etc. Explorar la documentación y hacer algún ejemplo aplicándolas. "
   ]
  },
  {
   "cell_type": "markdown",
   "metadata": {},
   "source": []
  }
 ],
 "metadata": {
  "interpreter": {
   "hash": "b0fa6594d8f4cbf19f97940f81e996739fb7646882a419484c72d19e05852a7e"
  },
  "kernelspec": {
   "display_name": "Python 3.9.12 64-bit",
   "language": "python",
   "name": "python3"
  },
  "language_info": {
   "codemirror_mode": {
    "name": "ipython",
    "version": 3
   },
   "file_extension": ".py",
   "mimetype": "text/x-python",
   "name": "python",
   "nbconvert_exporter": "python",
   "pygments_lexer": "ipython3",
   "version": "3.9.12"
  },
  "orig_nbformat": 4
 },
 "nbformat": 4,
 "nbformat_minor": 2
}
