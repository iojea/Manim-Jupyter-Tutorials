{
 "cells": [
  {
   "cell_type": "markdown",
   "metadata": {},
   "source": [
    "## Manim - Extra\n",
    "\n",
    "Agregamos en esta notebook un par de elementos útiles que no llegamos a comentar en las clases."
   ]
  },
  {
   "cell_type": "code",
   "execution_count": 1,
   "metadata": {},
   "outputs": [
    {
     "data": {
      "text/html": [
       "<pre style=\"white-space:pre;overflow-x:auto;line-height:normal;font-family:Menlo,'DejaVu Sans Mono',consolas,'Courier New',monospace\">Manim Community <span style=\"color: #008000\">v0.15.2</span>\n",
       "\n",
       "</pre>\n"
      ],
      "text/plain": [
       "<rich.jupyter.JupyterRenderable at 0x151408580>"
      ]
     },
     "metadata": {},
     "output_type": "display_data"
    }
   ],
   "source": [
    "from manim import *"
   ]
  },
  {
   "cell_type": "markdown",
   "metadata": {},
   "source": [
    "### AnimationGroup y variantes\n",
    "\n",
    "Una manera de enlazar varios movimientos en una sola animación es `AnimationGroup` que, como su nombre lo indica, permite agrupar varias animaciones para realizar simultáneamente (o casi). Veamos un ejemplo. \n",
    "\n",
    "### Primera Animación"
   ]
  },
  {
   "cell_type": "code",
   "execution_count": 4,
   "metadata": {},
   "outputs": [
    {
     "name": "stderr",
     "output_type": "stream",
     "text": [
      "                                                                                   \r"
     ]
    },
    {
     "data": {
      "text/html": [
       "<pre style=\"white-space:pre;overflow-x:auto;line-height:normal;font-family:Menlo,'DejaVu Sans Mono',consolas,'Courier New',monospace\"><span style=\"color: #7fbfbf\">[05/27/22 21:58:44] </span><span style=\"color: #008000\">INFO</span>     Animation <span style=\"color: #008000\">0</span> : Partial movie file        <a href=\"file:///opt/homebrew/lib/python3.9/site-packages/manim/scene/scene_file_writer.py\"><span style=\"color: #7f7f7f\">scene_file_writer.py</span></a><span style=\"color: #7f7f7f\">:504</span>\n",
       "                             written in <span style=\"color: #008000\">'/Users/iojea/Seafile/Nube/g</span>                         \n",
       "                             <span style=\"color: #008000\">it/Manim-Jupyter-Tutorials/media/videos</span>                         \n",
       "                             <span style=\"color: #008000\">/Manim-Jupyter-Tutorials/720p30/partial</span>                         \n",
       "                             <span style=\"color: #008000\">_movie_files/CEA00/1342159004_111469288</span>                         \n",
       "                             <span style=\"color: #008000\">9_2358810818.mp4'</span>                                               \n",
       "</pre>\n"
      ],
      "text/plain": [
       "<rich.jupyter.JupyterRenderable at 0x12ffc1370>"
      ]
     },
     "metadata": {},
     "output_type": "display_data"
    },
    {
     "data": {
      "text/html": [
       "<pre style=\"white-space:pre;overflow-x:auto;line-height:normal;font-family:Menlo,'DejaVu Sans Mono',consolas,'Courier New',monospace\"><span style=\"color: #7fbfbf\">                    </span><span style=\"color: #008000\">INFO</span>     Animation <span style=\"color: #008000\">1</span> : Partial movie file        <a href=\"file:///opt/homebrew/lib/python3.9/site-packages/manim/scene/scene_file_writer.py\"><span style=\"color: #7f7f7f\">scene_file_writer.py</span></a><span style=\"color: #7f7f7f\">:504</span>\n",
       "                             written in <span style=\"color: #008000\">'/Users/iojea/Seafile/Nube/g</span>                         \n",
       "                             <span style=\"color: #008000\">it/Manim-Jupyter-Tutorials/media/videos</span>                         \n",
       "                             <span style=\"color: #008000\">/Manim-Jupyter-Tutorials/720p30/partial</span>                         \n",
       "                             <span style=\"color: #008000\">_movie_files/CEA00/1353618911_641011677</span>                         \n",
       "                             <span style=\"color: #008000\">_4271756682.mp4'</span>                                                \n",
       "</pre>\n"
      ],
      "text/plain": [
       "<rich.jupyter.JupyterRenderable at 0x151b0efd0>"
      ]
     },
     "metadata": {},
     "output_type": "display_data"
    },
    {
     "data": {
      "text/html": [
       "<pre style=\"white-space:pre;overflow-x:auto;line-height:normal;font-family:Menlo,'DejaVu Sans Mono',consolas,'Courier New',monospace\"><span style=\"color: #7fbfbf\">                    </span><span style=\"color: #008000\">INFO</span>     Combining to Movie file.                <a href=\"file:///opt/homebrew/lib/python3.9/site-packages/manim/scene/scene_file_writer.py\"><span style=\"color: #7f7f7f\">scene_file_writer.py</span></a><span style=\"color: #7f7f7f\">:597</span>\n",
       "</pre>\n"
      ],
      "text/plain": [
       "<rich.jupyter.JupyterRenderable at 0x151b105e0>"
      ]
     },
     "metadata": {},
     "output_type": "display_data"
    },
    {
     "data": {
      "text/html": [
       "<pre style=\"white-space:pre;overflow-x:auto;line-height:normal;font-family:Menlo,'DejaVu Sans Mono',consolas,'Courier New',monospace\"><span style=\"color: #7fbfbf\">                    </span><span style=\"color: #008000\">INFO</span>                                             <a href=\"file:///opt/homebrew/lib/python3.9/site-packages/manim/scene/scene_file_writer.py\"><span style=\"color: #7f7f7f\">scene_file_writer.py</span></a><span style=\"color: #7f7f7f\">:718</span>\n",
       "                             <span style=\"color: #808000; font-weight: bold\">File</span> ready at <span style=\"color: #008000\">'/Users/iojea/Seafile/Nub</span>                         \n",
       "                             <span style=\"color: #008000\">e/git/Manim-Jupyter-Tutorials/media/vid</span>                         \n",
       "                             <span style=\"color: #008000\">eos/Manim-Jupyter-Tutorials/720p30/CEA0</span>                         \n",
       "                             <span style=\"color: #008000\">0.mp4'</span>                                                          \n",
       "                                                                                             \n",
       "</pre>\n"
      ],
      "text/plain": [
       "<rich.jupyter.JupyterRenderable at 0x151b0edf0>"
      ]
     },
     "metadata": {},
     "output_type": "display_data"
    },
    {
     "data": {
      "text/html": [
       "<pre style=\"white-space:pre;overflow-x:auto;line-height:normal;font-family:Menlo,'DejaVu Sans Mono',consolas,'Courier New',monospace\"><span style=\"color: #7fbfbf\">                    </span><span style=\"color: #008000\">INFO</span>     <span style=\"color: #808000; font-weight: bold\">Rendered</span> CEA00                                      <a href=\"file:///opt/homebrew/lib/python3.9/site-packages/manim/scene/scene.py\"><span style=\"color: #7f7f7f\">scene.py</span></a><span style=\"color: #7f7f7f\">:240</span>\n",
       "                             <span style=\"color: #808000; font-weight: bold\">Played</span> <span style=\"color: #008000\">2</span> <span style=\"color: #808000; font-weight: bold\">animations</span>                                             \n",
       "</pre>\n"
      ],
      "text/plain": [
       "<rich.jupyter.JupyterRenderable at 0x151b10460>"
      ]
     },
     "metadata": {},
     "output_type": "display_data"
    },
    {
     "data": {
      "text/html": [
       "<video src=\"media/jupyter/CEA00@2022-05-27@21-58-44.mp4\" controls autoplay loop style=\"max-width: 60%;\"  >\n",
       "      Your browser does not support the <code>video</code> element.\n",
       "    </video>"
      ],
      "text/plain": [
       "<IPython.core.display.Video object>"
      ]
     },
     "metadata": {},
     "output_type": "display_data"
    }
   ],
   "source": [
    "%%manim -qm CEA00\n",
    "\n",
    "class CEA00(Scene):\n",
    "    def construct(self):\n",
    "        colores   = [BLUE,TEAL,GREEN,YELLOW,GOLD,RED,MAROON,PINK,PURPLE]\n",
    "        cuads     = VGroup(*[Square(color=colores[i]) for i in range(9)]).arrange_in_grid(3,3)\n",
    "        anim_list = []\n",
    "        for i in range(9):\n",
    "            anim_list.append(Create(cuads[i]))\n",
    "        anim      = AnimationGroup(*anim_list)\n",
    "        self.play(anim)\n",
    "        self.wait()"
   ]
  },
  {
   "cell_type": "markdown",
   "metadata": {},
   "source": [
    "#### Análisis\n",
    "\n",
    "La idea es muy simple. El código tiene más trucos de Python que específicos de Manim. \n",
    "\n",
    "Generamos una lista con varios colores. Luego definimos un `VGroup` formado por cuadrados. Para ello, en primer lugar generamos una lista por comprensión: \n",
    "\n",
    "    [Square(color=colores[i]) for i in range(9)]\n",
    "\n",
    "es una lista de 9 cuadrados, cada uno con un color distinto, tomado de `colores` (es importante que `colores` tenga al menos 9 colores guardados). La sintaxis completa: \n",
    "\n",
    "    VGroup(*[Square(color=colores[i]) for i in range(9)])\n",
    "\n",
    "corresponde a *desempaquetar* la lista (eso lo hace el `*` adelante) y con los elementos de la lista generar un `VGroup`. A ese `VGroup` le aplicamos la función `arrange_in_grid` que distribuye el contenido en una grilla, en este caso, de $3\\times 3$. \n",
    "\n",
    "Lo que queremos es animar la creación simultánea de cada cuadrado. Para eso definimos una nueva lista `anim_list` cuyo contenido serán las animaciones de creación de cada cuadrado. Le vamos agregando estos *elementos*  a la lista dentro de un `for`. También podríamos haber definido está lista por comprensión, de manera similar a como definimos la lista de cuadrados. \n",
    "\n",
    "Finalmente, construimos un `AnimationGroup` con el contenido de nuestra lista de animaciones (de nuevo el `*`). `AnimationGroup` es en realidad una animación (formada por muchas otras) de modo que podemos correrla dentro de `play`. Queda lindo, ¿no? "
   ]
  },
  {
   "cell_type": "markdown",
   "metadata": {},
   "source": [
    "### Segunda Animación\n",
    "\n",
    "Alguien podría pensar en hacer esta animación *a mano*, sin `AnimationGroup`. Esencialmente, podríamos tener el grupo de cuadrados y poner: \n",
    "\n",
    "    self.play(Create(cuads[0]),Create(cuads[1]),...)\n",
    "\n",
    "Eso tiene poco vuelo por dos razones. La primera es que no permite multiplicar el movimiento, como ocurre en la siguiente animación: "
   ]
  },
  {
   "cell_type": "code",
   "execution_count": 38,
   "metadata": {},
   "outputs": [
    {
     "data": {
      "text/html": [
       "<pre style=\"white-space:pre;overflow-x:auto;line-height:normal;font-family:Menlo,'DejaVu Sans Mono',consolas,'Courier New',monospace\"><span style=\"color: #7fbfbf\">[05/27/22 19:28:45] </span><span style=\"color: #008000\">INFO</span>     Animation <span style=\"color: #008000\">0</span> : Using cached data <span style=\"font-weight: bold\">(</span>hash :     <a href=\"file:///opt/homebrew/lib/python3.9/site-packages/manim/renderer/cairo_renderer.py\"><span style=\"color: #7f7f7f\">cairo_renderer.py</span></a><span style=\"color: #7f7f7f\">:75</span>\n",
       "                             1342159004_1235988036_2358810818<span style=\"font-weight: bold\">)</span>                               \n",
       "</pre>\n"
      ],
      "text/plain": [
       "<rich.jupyter.JupyterRenderable at 0x1552f7910>"
      ]
     },
     "metadata": {},
     "output_type": "display_data"
    },
    {
     "name": "stderr",
     "output_type": "stream",
     "text": [
      "                                                                         \r"
     ]
    },
    {
     "data": {
      "text/html": [
       "<pre style=\"white-space:pre;overflow-x:auto;line-height:normal;font-family:Menlo,'DejaVu Sans Mono',consolas,'Courier New',monospace\"><span style=\"color: #7fbfbf\">                    </span><span style=\"color: #008000\">INFO</span>     Animation <span style=\"color: #008000\">1</span> : Using cached data <span style=\"font-weight: bold\">(</span>hash :     <a href=\"file:///opt/homebrew/lib/python3.9/site-packages/manim/renderer/cairo_renderer.py\"><span style=\"color: #7f7f7f\">cairo_renderer.py</span></a><span style=\"color: #7f7f7f\">:75</span>\n",
       "                             1353618911_641011677_1920026139<span style=\"font-weight: bold\">)</span>                                \n",
       "</pre>\n"
      ],
      "text/plain": [
       "<rich.jupyter.JupyterRenderable at 0x1552b2190>"
      ]
     },
     "metadata": {},
     "output_type": "display_data"
    },
    {
     "data": {
      "text/html": [
       "<pre style=\"white-space:pre;overflow-x:auto;line-height:normal;font-family:Menlo,'DejaVu Sans Mono',consolas,'Courier New',monospace\"><span style=\"color: #7fbfbf\">                    </span><span style=\"color: #008000\">INFO</span>     Combining to Movie file.                <a href=\"file:///opt/homebrew/lib/python3.9/site-packages/manim/scene/scene_file_writer.py\"><span style=\"color: #7f7f7f\">scene_file_writer.py</span></a><span style=\"color: #7f7f7f\">:597</span>\n",
       "</pre>\n"
      ],
      "text/plain": [
       "<rich.jupyter.JupyterRenderable at 0x1552aa730>"
      ]
     },
     "metadata": {},
     "output_type": "display_data"
    },
    {
     "data": {
      "text/html": [
       "<pre style=\"white-space:pre;overflow-x:auto;line-height:normal;font-family:Menlo,'DejaVu Sans Mono',consolas,'Courier New',monospace\"><span style=\"color: #7fbfbf\">                    </span><span style=\"color: #008000\">INFO</span>                                             <a href=\"file:///opt/homebrew/lib/python3.9/site-packages/manim/scene/scene_file_writer.py\"><span style=\"color: #7f7f7f\">scene_file_writer.py</span></a><span style=\"color: #7f7f7f\">:718</span>\n",
       "                             <span style=\"color: #808000; font-weight: bold\">File</span> ready at <span style=\"color: #008000\">'/Users/iojea/Seafile/Nub</span>                         \n",
       "                             <span style=\"color: #008000\">e/git/Manim-Jupyter-Tutorials/media/vid</span>                         \n",
       "                             <span style=\"color: #008000\">eos/Manim-Jupyter-Tutorials/720p30/CEA0</span>                         \n",
       "                             <span style=\"color: #008000\">1.mp4'</span>                                                          \n",
       "                                                                                             \n",
       "</pre>\n"
      ],
      "text/plain": [
       "<rich.jupyter.JupyterRenderable at 0x1552afe80>"
      ]
     },
     "metadata": {},
     "output_type": "display_data"
    },
    {
     "data": {
      "text/html": [
       "<pre style=\"white-space:pre;overflow-x:auto;line-height:normal;font-family:Menlo,'DejaVu Sans Mono',consolas,'Courier New',monospace\"><span style=\"color: #7fbfbf\">                    </span><span style=\"color: #008000\">INFO</span>     <span style=\"color: #808000; font-weight: bold\">Rendered</span> CEA01                                      <a href=\"file:///opt/homebrew/lib/python3.9/site-packages/manim/scene/scene.py\"><span style=\"color: #7f7f7f\">scene.py</span></a><span style=\"color: #7f7f7f\">:240</span>\n",
       "                             <span style=\"color: #808000; font-weight: bold\">Played</span> <span style=\"color: #008000\">2</span> <span style=\"color: #808000; font-weight: bold\">animations</span>                                             \n",
       "</pre>\n"
      ],
      "text/plain": [
       "<rich.jupyter.JupyterRenderable at 0x1552afd60>"
      ]
     },
     "metadata": {},
     "output_type": "display_data"
    },
    {
     "data": {
      "text/html": [
       "<video src=\"media/jupyter/CEA01@2022-05-27@19-28-45.mp4\" controls autoplay loop style=\"max-width: 60%;\"  >\n",
       "      Your browser does not support the <code>video</code> element.\n",
       "    </video>"
      ],
      "text/plain": [
       "<IPython.core.display.Video object>"
      ]
     },
     "metadata": {},
     "output_type": "display_data"
    }
   ],
   "source": [
    "%%manim -qm CEA01\n",
    "\n",
    "class CEA01(Scene):\n",
    "    def construct(self):\n",
    "        colores   = [BLUE,TEAL,GREEN,YELLOW,GOLD,RED,MAROON,PURPLE,PINK]\n",
    "        cuads     = VGroup(*[Square(color=colores[i%9]).scale(0.4) for i in range(45)]).arrange_in_grid(5,9)\n",
    "        anim_list = []\n",
    "        for i in range(45):\n",
    "            anim_list.append(Create(cuads[i]))\n",
    "        anim      = AnimationGroup(*anim_list)\n",
    "        self.play(anim)\n",
    "        self.wait()"
   ]
  },
  {
   "cell_type": "markdown",
   "metadata": {},
   "source": [
    "### Tercera Animación: lag_ratio\n",
    "\n",
    "La segunda razón por la que `AnimationGroup` viene bien es que permite generar un pequeño delay en la ejecución de las animaciones. Esto se logra con el parámetro `lag_ratio`. Por defecto, el `lag_ratio` de `AnimationGroup` es 0: esto significa que todas las animaciones comienzan simultáneamente. Si el `lag_ratio` es 0.5 entonces cada animación comenzará cuando la anterior esté por la mitad. Veamos un ejemplo: "
   ]
  },
  {
   "cell_type": "code",
   "execution_count": 24,
   "metadata": {},
   "outputs": [
    {
     "name": "stderr",
     "output_type": "stream",
     "text": [
      "                                                                                     \r"
     ]
    },
    {
     "data": {
      "text/html": [
       "<pre style=\"white-space:pre;overflow-x:auto;line-height:normal;font-family:Menlo,'DejaVu Sans Mono',consolas,'Courier New',monospace\"><span style=\"color: #7fbfbf\">[05/27/22 17:45:16] </span><span style=\"color: #008000\">INFO</span>     Animation <span style=\"color: #008000\">0</span> : Partial movie file        <a href=\"file:///opt/homebrew/lib/python3.9/site-packages/manim/scene/scene_file_writer.py\"><span style=\"color: #7f7f7f\">scene_file_writer.py</span></a><span style=\"color: #7f7f7f\">:504</span>\n",
       "                             written in <span style=\"color: #008000\">'/Users/iojea/Seafile/Nube/g</span>                         \n",
       "                             <span style=\"color: #008000\">it/Manim-Jupyter-Tutorials/media/videos</span>                         \n",
       "                             <span style=\"color: #008000\">/Manim-Jupyter-Tutorials/720p30/partial</span>                         \n",
       "                             <span style=\"color: #008000\">_movie_files/CEA02/1342159004_113019006</span>                         \n",
       "                             <span style=\"color: #008000\">1_2358810818.mp4'</span>                                               \n",
       "</pre>\n"
      ],
      "text/plain": [
       "<rich.jupyter.JupyterRenderable at 0x1552d4880>"
      ]
     },
     "metadata": {},
     "output_type": "display_data"
    },
    {
     "data": {
      "text/html": [
       "<pre style=\"white-space:pre;overflow-x:auto;line-height:normal;font-family:Menlo,'DejaVu Sans Mono',consolas,'Courier New',monospace\"><span style=\"color: #7fbfbf\">                    </span><span style=\"color: #008000\">INFO</span>     Animation <span style=\"color: #008000\">1</span> : Using cached data <span style=\"font-weight: bold\">(</span>hash :     <a href=\"file:///opt/homebrew/lib/python3.9/site-packages/manim/renderer/cairo_renderer.py\"><span style=\"color: #7f7f7f\">cairo_renderer.py</span></a><span style=\"color: #7f7f7f\">:75</span>\n",
       "                             1353618911_641011677_2199213460<span style=\"font-weight: bold\">)</span>                                \n",
       "</pre>\n"
      ],
      "text/plain": [
       "<rich.jupyter.JupyterRenderable at 0x1552a1c40>"
      ]
     },
     "metadata": {},
     "output_type": "display_data"
    },
    {
     "data": {
      "text/html": [
       "<pre style=\"white-space:pre;overflow-x:auto;line-height:normal;font-family:Menlo,'DejaVu Sans Mono',consolas,'Courier New',monospace\"><span style=\"color: #7fbfbf\">                    </span><span style=\"color: #008000\">INFO</span>     Combining to Movie file.                <a href=\"file:///opt/homebrew/lib/python3.9/site-packages/manim/scene/scene_file_writer.py\"><span style=\"color: #7f7f7f\">scene_file_writer.py</span></a><span style=\"color: #7f7f7f\">:597</span>\n",
       "</pre>\n"
      ],
      "text/plain": [
       "<rich.jupyter.JupyterRenderable at 0x1552b4370>"
      ]
     },
     "metadata": {},
     "output_type": "display_data"
    },
    {
     "data": {
      "text/html": [
       "<pre style=\"white-space:pre;overflow-x:auto;line-height:normal;font-family:Menlo,'DejaVu Sans Mono',consolas,'Courier New',monospace\"><span style=\"color: #7fbfbf\">                    </span><span style=\"color: #008000\">INFO</span>                                             <a href=\"file:///opt/homebrew/lib/python3.9/site-packages/manim/scene/scene_file_writer.py\"><span style=\"color: #7f7f7f\">scene_file_writer.py</span></a><span style=\"color: #7f7f7f\">:718</span>\n",
       "                             <span style=\"color: #808000; font-weight: bold\">File</span> ready at <span style=\"color: #008000\">'/Users/iojea/Seafile/Nub</span>                         \n",
       "                             <span style=\"color: #008000\">e/git/Manim-Jupyter-Tutorials/media/vid</span>                         \n",
       "                             <span style=\"color: #008000\">eos/Manim-Jupyter-Tutorials/720p30/CEA0</span>                         \n",
       "                             <span style=\"color: #008000\">2.mp4'</span>                                                          \n",
       "                                                                                             \n",
       "</pre>\n"
      ],
      "text/plain": [
       "<rich.jupyter.JupyterRenderable at 0x1552f7070>"
      ]
     },
     "metadata": {},
     "output_type": "display_data"
    },
    {
     "data": {
      "text/html": [
       "<pre style=\"white-space:pre;overflow-x:auto;line-height:normal;font-family:Menlo,'DejaVu Sans Mono',consolas,'Courier New',monospace\"><span style=\"color: #7fbfbf\">                    </span><span style=\"color: #008000\">INFO</span>     <span style=\"color: #808000; font-weight: bold\">Rendered</span> CEA02                                      <a href=\"file:///opt/homebrew/lib/python3.9/site-packages/manim/scene/scene.py\"><span style=\"color: #7f7f7f\">scene.py</span></a><span style=\"color: #7f7f7f\">:240</span>\n",
       "                             <span style=\"color: #808000; font-weight: bold\">Played</span> <span style=\"color: #008000\">2</span> <span style=\"color: #808000; font-weight: bold\">animations</span>                                             \n",
       "</pre>\n"
      ],
      "text/plain": [
       "<rich.jupyter.JupyterRenderable at 0x1552f7070>"
      ]
     },
     "metadata": {},
     "output_type": "display_data"
    },
    {
     "data": {
      "text/html": [
       "<video src=\"media/jupyter/CEA02@2022-05-27@17-45-16.mp4\" controls autoplay loop style=\"max-width: 60%;\"  >\n",
       "      Your browser does not support the <code>video</code> element.\n",
       "    </video>"
      ],
      "text/plain": [
       "<IPython.core.display.Video object>"
      ]
     },
     "metadata": {},
     "output_type": "display_data"
    }
   ],
   "source": [
    "%%manim -qm CEA02\n",
    "\n",
    "class CEA02(Scene):\n",
    "    def construct(self):\n",
    "        colores   = [BLUE,TEAL,GREEN,YELLOW,GOLD,RED,MAROON,PURPLE,PINK]\n",
    "        cuads     = VGroup(*[Square(color=colores[i]) for i in range(9)]).arrange_in_grid(3,3)\n",
    "        anim_list = []\n",
    "        for i in range(9):\n",
    "            anim_list.append(Create(cuads[i]))\n",
    "        anim      = AnimationGroup(*anim_list,lag_ratio=0.3)\n",
    "        self.play(anim)\n",
    "        self.wait()"
   ]
  },
  {
   "cell_type": "markdown",
   "metadata": {},
   "source": [
    "#### Análisis\n",
    "\n",
    "La aplicación de `lag_ratio=0.3` a nuestro `AnimationGroup` hace que la creación de cada cuadrado comience cuando la creación del cuadrado anterior va por el 30%. "
   ]
  },
  {
   "cell_type": "markdown",
   "metadata": {},
   "source": [
    "### Cuarta Animación\n",
    "\n",
    "Existen dos variantes a `AnimationGroup`. Una es `LaggedStart` y la otra es `Succession`.  `LaggedStart` es equivalente a `AnimationGroup` con un `lag_ratio` apenas mayor que 0, como para que se note cierto retraso entre una animación y otra. `Succession` es equivalente a `AnimationGroup` con `lag_ratio`=1 (es decir: es una sucesión de animaciones, en la que cada una comienza justo cuando la anterior terminó). Hagamos un ejemplo combinando estas opciones:"
   ]
  },
  {
   "cell_type": "code",
   "execution_count": 42,
   "metadata": {},
   "outputs": [
    {
     "name": "stderr",
     "output_type": "stream",
     "text": [
      "                                                                                  \r"
     ]
    },
    {
     "data": {
      "text/html": [
       "<pre style=\"white-space:pre;overflow-x:auto;line-height:normal;font-family:Menlo,'DejaVu Sans Mono',consolas,'Courier New',monospace\"><span style=\"color: #7fbfbf\">[05/27/22 19:30:59] </span><span style=\"color: #008000\">INFO</span>     Animation <span style=\"color: #008000\">0</span> : Partial movie file        <a href=\"file:///opt/homebrew/lib/python3.9/site-packages/manim/scene/scene_file_writer.py\"><span style=\"color: #7f7f7f\">scene_file_writer.py</span></a><span style=\"color: #7f7f7f\">:504</span>\n",
       "                             written in <span style=\"color: #008000\">'/Users/iojea/Seafile/Nube/g</span>                         \n",
       "                             <span style=\"color: #008000\">it/Manim-Jupyter-Tutorials/media/videos</span>                         \n",
       "                             <span style=\"color: #008000\">/Manim-Jupyter-Tutorials/720p30/partial</span>                         \n",
       "                             <span style=\"color: #008000\">_movie_files/CEA04/1342159004_363372119</span>                         \n",
       "                             <span style=\"color: #008000\">0_2358810818.mp4'</span>                                               \n",
       "</pre>\n"
      ],
      "text/plain": [
       "<rich.jupyter.JupyterRenderable at 0x1552d5c10>"
      ]
     },
     "metadata": {},
     "output_type": "display_data"
    },
    {
     "data": {
      "text/html": [
       "<pre style=\"white-space:pre;overflow-x:auto;line-height:normal;font-family:Menlo,'DejaVu Sans Mono',consolas,'Courier New',monospace\"><span style=\"color: #7fbfbf\">[05/27/22 19:31:00] </span><span style=\"color: #008000\">INFO</span>     Animation <span style=\"color: #008000\">1</span> : Partial movie file        <a href=\"file:///opt/homebrew/lib/python3.9/site-packages/manim/scene/scene_file_writer.py\"><span style=\"color: #7f7f7f\">scene_file_writer.py</span></a><span style=\"color: #7f7f7f\">:504</span>\n",
       "                             written in <span style=\"color: #008000\">'/Users/iojea/Seafile/Nube/g</span>                         \n",
       "                             <span style=\"color: #008000\">it/Manim-Jupyter-Tutorials/media/videos</span>                         \n",
       "                             <span style=\"color: #008000\">/Manim-Jupyter-Tutorials/720p30/partial</span>                         \n",
       "                             <span style=\"color: #008000\">_movie_files/CEA04/1353618911_641011677</span>                         \n",
       "                             <span style=\"color: #008000\">_2069853148.mp4'</span>                                                \n",
       "</pre>\n"
      ],
      "text/plain": [
       "<rich.jupyter.JupyterRenderable at 0x15534ccd0>"
      ]
     },
     "metadata": {},
     "output_type": "display_data"
    },
    {
     "data": {
      "text/html": [
       "<pre style=\"white-space:pre;overflow-x:auto;line-height:normal;font-family:Menlo,'DejaVu Sans Mono',consolas,'Courier New',monospace\"><span style=\"color: #7fbfbf\">                    </span><span style=\"color: #008000\">INFO</span>     Combining to Movie file.                <a href=\"file:///opt/homebrew/lib/python3.9/site-packages/manim/scene/scene_file_writer.py\"><span style=\"color: #7f7f7f\">scene_file_writer.py</span></a><span style=\"color: #7f7f7f\">:597</span>\n",
       "</pre>\n"
      ],
      "text/plain": [
       "<rich.jupyter.JupyterRenderable at 0x154aeb9d0>"
      ]
     },
     "metadata": {},
     "output_type": "display_data"
    },
    {
     "data": {
      "text/html": [
       "<pre style=\"white-space:pre;overflow-x:auto;line-height:normal;font-family:Menlo,'DejaVu Sans Mono',consolas,'Courier New',monospace\"><span style=\"color: #7fbfbf\">                    </span><span style=\"color: #008000\">INFO</span>                                             <a href=\"file:///opt/homebrew/lib/python3.9/site-packages/manim/scene/scene_file_writer.py\"><span style=\"color: #7f7f7f\">scene_file_writer.py</span></a><span style=\"color: #7f7f7f\">:718</span>\n",
       "                             <span style=\"color: #808000; font-weight: bold\">File</span> ready at <span style=\"color: #008000\">'/Users/iojea/Seafile/Nub</span>                         \n",
       "                             <span style=\"color: #008000\">e/git/Manim-Jupyter-Tutorials/media/vid</span>                         \n",
       "                             <span style=\"color: #008000\">eos/Manim-Jupyter-Tutorials/720p30/CEA0</span>                         \n",
       "                             <span style=\"color: #008000\">4.mp4'</span>                                                          \n",
       "                                                                                             \n",
       "</pre>\n"
      ],
      "text/plain": [
       "<rich.jupyter.JupyterRenderable at 0x154b09eb0>"
      ]
     },
     "metadata": {},
     "output_type": "display_data"
    },
    {
     "data": {
      "text/html": [
       "<pre style=\"white-space:pre;overflow-x:auto;line-height:normal;font-family:Menlo,'DejaVu Sans Mono',consolas,'Courier New',monospace\"><span style=\"color: #7fbfbf\">                    </span><span style=\"color: #008000\">INFO</span>     <span style=\"color: #808000; font-weight: bold\">Rendered</span> CEA04                                      <a href=\"file:///opt/homebrew/lib/python3.9/site-packages/manim/scene/scene.py\"><span style=\"color: #7f7f7f\">scene.py</span></a><span style=\"color: #7f7f7f\">:240</span>\n",
       "                             <span style=\"color: #808000; font-weight: bold\">Played</span> <span style=\"color: #008000\">2</span> <span style=\"color: #808000; font-weight: bold\">animations</span>                                             \n",
       "</pre>\n"
      ],
      "text/plain": [
       "<rich.jupyter.JupyterRenderable at 0x15530b190>"
      ]
     },
     "metadata": {},
     "output_type": "display_data"
    },
    {
     "data": {
      "text/html": [
       "<video src=\"media/jupyter/CEA04@2022-05-27@19-31-00.mp4\" controls autoplay loop style=\"max-width: 60%;\"  >\n",
       "      Your browser does not support the <code>video</code> element.\n",
       "    </video>"
      ],
      "text/plain": [
       "<IPython.core.display.Video object>"
      ]
     },
     "metadata": {},
     "output_type": "display_data"
    }
   ],
   "source": [
    "%%manim -qm CEA04\n",
    "\n",
    "class CEA04(Scene):\n",
    "    def construct(self):\n",
    "        colores   = [BLUE,TEAL,GREEN,YELLOW,GOLD,RED,MAROON,PINK,PURPLE]\n",
    "        cuads     = VGroup(*[Square(color=colores[i%9]).scale(0.4) for i in range(45)]).arrange_in_grid(5,9)\n",
    "        anim_list = []\n",
    "        for i in range(5):\n",
    "            fila = [Create(cuads[9*i+j]) for j in range(9)]\n",
    "            anim_list.append(LaggedStart(*fila))\n",
    "        anim_total = Succession(*anim_list)\n",
    "        self.play(anim_total)\n",
    "        self.wait()"
   ]
  },
  {
   "cell_type": "markdown",
   "metadata": {},
   "source": [
    "#### Análisis\n",
    "\n",
    "Lo más interesante es observar que estamos armando una `Succession` de animaciones, cada una de las cuales es una `LaggedStart`. Las `LaggedStart`s corresponden a las creaciones de cada fila, mientras que la `Succession` hilvana una fila tras la otra. Naturalmente, se pueden anidar cantidades arbitrarias de `AnimationGroup`s, `LaggedStart`s y `Succession`s. "
   ]
  },
  {
   "cell_type": "markdown",
   "metadata": {},
   "source": [
    "**<span style=\"color:TEAL\">Ejercicio 1:</span>** Implementar una animación en la que aparezcan 20 puntos en línea. Los puntos deben \"caer\" (moverse una unidad en sentido `DOWN`), uno tras otro, con un pequeño delay. "
   ]
  },
  {
   "cell_type": "markdown",
   "metadata": {},
   "source": [
    "### Caminos\n",
    "\n",
    "Otro recurso muy práctico consiste en trazar el recorrido de un punto (como si fuera un lápiz escribiendo). Más allá del recurso en sí, la técnica es interesante porque nos permite introducir varios elementos que pueden resultar útiles en sí mismos. Veamos un ejemplo:"
   ]
  },
  {
   "cell_type": "markdown",
   "metadata": {},
   "source": [
    "### Quinta Animación"
   ]
  },
  {
   "cell_type": "code",
   "execution_count": 53,
   "metadata": {},
   "outputs": [
    {
     "data": {
      "text/html": [
       "<pre style=\"white-space:pre;overflow-x:auto;line-height:normal;font-family:Menlo,'DejaVu Sans Mono',consolas,'Courier New',monospace\"><span style=\"color: #7fbfbf\">[05/27/22 20:18:30] </span><span style=\"color: #008000\">INFO</span>     Animation <span style=\"color: #008000\">0</span> : Using cached data <span style=\"font-weight: bold\">(</span>hash :     <a href=\"file:///opt/homebrew/lib/python3.9/site-packages/manim/renderer/cairo_renderer.py\"><span style=\"color: #7f7f7f\">cairo_renderer.py</span></a><span style=\"color: #7f7f7f\">:75</span>\n",
       "                             1342159004_3574574876_223132457<span style=\"font-weight: bold\">)</span>                                \n",
       "</pre>\n"
      ],
      "text/plain": [
       "<rich.jupyter.JupyterRenderable at 0x1552da8e0>"
      ]
     },
     "metadata": {},
     "output_type": "display_data"
    },
    {
     "name": "stderr",
     "output_type": "stream",
     "text": [
      "                                                                                \r"
     ]
    },
    {
     "data": {
      "text/html": [
       "<pre style=\"white-space:pre;overflow-x:auto;line-height:normal;font-family:Menlo,'DejaVu Sans Mono',consolas,'Courier New',monospace\"><span style=\"color: #7fbfbf\">[05/27/22 20:18:37] </span><span style=\"color: #008000\">INFO</span>     Animation <span style=\"color: #008000\">1</span> : Partial movie file        <a href=\"file:///opt/homebrew/lib/python3.9/site-packages/manim/scene/scene_file_writer.py\"><span style=\"color: #7f7f7f\">scene_file_writer.py</span></a><span style=\"color: #7f7f7f\">:504</span>\n",
       "                             written in <span style=\"color: #008000\">'/Users/iojea/Seafile/Nube/g</span>                         \n",
       "                             <span style=\"color: #008000\">it/Manim-Jupyter-Tutorials/media/videos</span>                         \n",
       "                             <span style=\"color: #008000\">/Manim-Jupyter-Tutorials/720p30/partial</span>                         \n",
       "                             <span style=\"color: #008000\">_movie_files/CEA04/1353618911_343126195</span>                         \n",
       "                             <span style=\"color: #008000\">6_1897509993.mp4'</span>                                               \n",
       "</pre>\n"
      ],
      "text/plain": [
       "<rich.jupyter.JupyterRenderable at 0x154ad0c70>"
      ]
     },
     "metadata": {},
     "output_type": "display_data"
    },
    {
     "name": "stderr",
     "output_type": "stream",
     "text": [
      "                                                                           \r"
     ]
    },
    {
     "data": {
      "text/html": [
       "<pre style=\"white-space:pre;overflow-x:auto;line-height:normal;font-family:Menlo,'DejaVu Sans Mono',consolas,'Courier New',monospace\"><span style=\"color: #7fbfbf\">                    </span><span style=\"color: #008000\">INFO</span>     Animation <span style=\"color: #008000\">2</span> : Partial movie file        <a href=\"file:///opt/homebrew/lib/python3.9/site-packages/manim/scene/scene_file_writer.py\"><span style=\"color: #7f7f7f\">scene_file_writer.py</span></a><span style=\"color: #7f7f7f\">:504</span>\n",
       "                             written in <span style=\"color: #008000\">'/Users/iojea/Seafile/Nube/g</span>                         \n",
       "                             <span style=\"color: #008000\">it/Manim-Jupyter-Tutorials/media/videos</span>                         \n",
       "                             <span style=\"color: #008000\">/Manim-Jupyter-Tutorials/720p30/partial</span>                         \n",
       "                             <span style=\"color: #008000\">_movie_files/CEA04/1353618911_229633722</span>                         \n",
       "                             <span style=\"color: #008000\">7_3585060001.mp4'</span>                                               \n",
       "</pre>\n"
      ],
      "text/plain": [
       "<rich.jupyter.JupyterRenderable at 0x1552ff070>"
      ]
     },
     "metadata": {},
     "output_type": "display_data"
    },
    {
     "data": {
      "text/html": [
       "<pre style=\"white-space:pre;overflow-x:auto;line-height:normal;font-family:Menlo,'DejaVu Sans Mono',consolas,'Courier New',monospace\"><span style=\"color: #7fbfbf\">                    </span><span style=\"color: #008000\">INFO</span>     Animation <span style=\"color: #008000\">3</span> : Partial movie file        <a href=\"file:///opt/homebrew/lib/python3.9/site-packages/manim/scene/scene_file_writer.py\"><span style=\"color: #7f7f7f\">scene_file_writer.py</span></a><span style=\"color: #7f7f7f\">:504</span>\n",
       "                             written in <span style=\"color: #008000\">'/Users/iojea/Seafile/Nube/g</span>                         \n",
       "                             <span style=\"color: #008000\">it/Manim-Jupyter-Tutorials/media/videos</span>                         \n",
       "                             <span style=\"color: #008000\">/Manim-Jupyter-Tutorials/720p30/partial</span>                         \n",
       "                             <span style=\"color: #008000\">_movie_files/CEA04/1353618911_641011677</span>                         \n",
       "                             <span style=\"color: #008000\">_747641429.mp4'</span>                                                 \n",
       "</pre>\n"
      ],
      "text/plain": [
       "<rich.jupyter.JupyterRenderable at 0x154afa400>"
      ]
     },
     "metadata": {},
     "output_type": "display_data"
    },
    {
     "data": {
      "text/html": [
       "<pre style=\"white-space:pre;overflow-x:auto;line-height:normal;font-family:Menlo,'DejaVu Sans Mono',consolas,'Courier New',monospace\"><span style=\"color: #7fbfbf\">                    </span><span style=\"color: #008000\">INFO</span>     Combining to Movie file.                <a href=\"file:///opt/homebrew/lib/python3.9/site-packages/manim/scene/scene_file_writer.py\"><span style=\"color: #7f7f7f\">scene_file_writer.py</span></a><span style=\"color: #7f7f7f\">:597</span>\n",
       "</pre>\n"
      ],
      "text/plain": [
       "<rich.jupyter.JupyterRenderable at 0x154afa5b0>"
      ]
     },
     "metadata": {},
     "output_type": "display_data"
    },
    {
     "data": {
      "text/html": [
       "<pre style=\"white-space:pre;overflow-x:auto;line-height:normal;font-family:Menlo,'DejaVu Sans Mono',consolas,'Courier New',monospace\"><span style=\"color: #7fbfbf\">                    </span><span style=\"color: #008000\">INFO</span>                                             <a href=\"file:///opt/homebrew/lib/python3.9/site-packages/manim/scene/scene_file_writer.py\"><span style=\"color: #7f7f7f\">scene_file_writer.py</span></a><span style=\"color: #7f7f7f\">:718</span>\n",
       "                             <span style=\"color: #808000; font-weight: bold\">File</span> ready at <span style=\"color: #008000\">'/Users/iojea/Seafile/Nub</span>                         \n",
       "                             <span style=\"color: #008000\">e/git/Manim-Jupyter-Tutorials/media/vid</span>                         \n",
       "                             <span style=\"color: #008000\">eos/Manim-Jupyter-Tutorials/720p30/CEA0</span>                         \n",
       "                             <span style=\"color: #008000\">4.mp4'</span>                                                          \n",
       "                                                                                             \n",
       "</pre>\n"
      ],
      "text/plain": [
       "<rich.jupyter.JupyterRenderable at 0x154afa400>"
      ]
     },
     "metadata": {},
     "output_type": "display_data"
    },
    {
     "data": {
      "text/html": [
       "<pre style=\"white-space:pre;overflow-x:auto;line-height:normal;font-family:Menlo,'DejaVu Sans Mono',consolas,'Courier New',monospace\"><span style=\"color: #7fbfbf\">                    </span><span style=\"color: #008000\">INFO</span>     <span style=\"color: #808000; font-weight: bold\">Rendered</span> CEA04                                      <a href=\"file:///opt/homebrew/lib/python3.9/site-packages/manim/scene/scene.py\"><span style=\"color: #7f7f7f\">scene.py</span></a><span style=\"color: #7f7f7f\">:240</span>\n",
       "                             <span style=\"color: #808000; font-weight: bold\">Played</span> <span style=\"color: #008000\">4</span> <span style=\"color: #808000; font-weight: bold\">animations</span>                                             \n",
       "</pre>\n"
      ],
      "text/plain": [
       "<rich.jupyter.JupyterRenderable at 0x154afad30>"
      ]
     },
     "metadata": {},
     "output_type": "display_data"
    },
    {
     "data": {
      "text/html": [
       "<video src=\"media/jupyter/CEA04@2022-05-27@20-18-37.mp4\" controls autoplay loop style=\"max-width: 60%;\"  >\n",
       "      Your browser does not support the <code>video</code> element.\n",
       "    </video>"
      ],
      "text/plain": [
       "<IPython.core.display.Video object>"
      ]
     },
     "metadata": {},
     "output_type": "display_data"
    }
   ],
   "source": [
    "%%manim -qm CEA04\n",
    "\n",
    "class CEA04(Scene):\n",
    "    def construct(self):\n",
    "        f    = lambda t: np.array((2*np.sin(t), np.sin(2 * t),0))\n",
    "        func = ParametricFunction(f, t_range = np.array([0,TAU]), fill_opacity=0)\n",
    "        dot  = Dot(color=BLUE).move_to(f(0))\n",
    "        \n",
    "        path = VMobject(color = BLUE)\n",
    "        path.set_points_as_corners([dot.get_center(), dot.get_center()])\n",
    "        def update_path(m):\n",
    "            m.add_points_as_corners([dot.get_center()])\n",
    "            \n",
    "        path.add_updater(update_path)\n",
    "        \n",
    "        self.play(Create(dot))\n",
    "        self.add(path)\n",
    "        self.play(MoveAlongPath(dot,func),rate_func=linear,run_time=3)\n",
    "        self.play(FadeOut(dot))\n",
    "        self.wait()"
   ]
  },
  {
   "cell_type": "markdown",
   "metadata": {},
   "source": [
    "#### Análisis\n",
    "\n",
    "El primer elemento de interés es `ParametricFunction`. Esta clase nos permite definir el gráfico de una función paramétrica. En este caso, tenemos una función que depende de $t$ y se la pasamos al constructor de `ParametricFunction` junto con el rango de valores en el que debe tomarse $t$. En este caso no queremos mostrar direcamente el gráfico resultante (podríamos hacerlo con `self.play(Create(func))`), sino que queremos usar esa trayectoria como una guía para mover un punto. Para ello creamos el punto `dot` y creamos también un `VMobject` (Mobject vectorizado), en principio vacío pero de color azul, llamado `path`. A continuación utilizamos la función, propia de cualquier `VMobject` `set_points_as_corners()` que nos permite agregar puntos al `VMobjects`. Estos puntos deben ir dentro de una lista y son interpretados como vértices. Es decir que si le pasamos a `set_points_as_corners()` una lista con varios puntos el `VMobject` se va a convertir automáticamente en la poligonal que une esos puntos (en el orden en que se los demos). En este caso, agregamos un único punto dado por el centro de `dot`, que a su vez está posicionado en el comienzo de la curva paramétrica. \n",
    "\n",
    "Luego, definimos la función `update_path` que cargaremos como un *updater* para `path`. Esta función simplemente *agrega* nuevos puntos como vértices al Mobject (observar que aplicamos `add_points_as_corners()`, en lugar de `set_points_as_corners()`, como hicimos cuando `path` estaba vacío). El punto agregado es nuevamente el centro de `dot`. \n",
    "\n",
    "Finalmente, animamos: creamos el punto y agregamos `path`. Esto en principio no agrega nada porque `path` está formado por un único punto (en el centro de `dot`). A continuación hacemos la animación importante: \n",
    "\n",
    "    self.play(MoveAlongPath(func,dot),rate_func=linear,run_time=5)\n",
    "\n",
    "`MoveAlongPath` es una animación que recibe como datos un camino (por ejemplo, una `ParametricFunction`, pero podría ser también el gráfico de una función definida sobre un par de ejes coordenados) y un Mobject que será el que se moverá. En este caso, movemos `dot` a lo largo de `func`. Lo que ocurre es que `path` tiene nuestro *updater*  que le va agregando como nuevo vértice el punto central de `dot`. Además, `path` está incorporado a la escena. Por lo tanto, a medida que `dot` realiza su viaje a través de `func`, `path` va creciendo delante de nuestros ojos. Por último, eliminamos `dot` de la pantalla, dejando sólo `path`.\n",
    "\n",
    "Observaciones:\n",
    "* `func` es el gráfico de la función paramétrica. Podríamos dibujarlo directamente haciendo `self.play(Create(func))`.\n",
    "* Es importante observar que para obtener `func` no necesitamos un objeto de clase `Axes`. Graficamos directamente sobre la pantalla y las coordenadas de los puntos del gráfico están en unidades de pantalla. Así como existe `ParametricFunction` también disponemos de funciones: `FunctionGraph` e `ImplicitFunction`. En todos los casos el gráfico se define en unidades de pantalla y se puede mostrar directamente, sin ejes. \n",
    "* La suavidad del dibujo depende de `run_time`. `run_time` determina la cantidad de cuadros que va a consumir la animación (por defecto, 30 cuadros por segundo). Es decir que si se deja `run_time` en su valor por defecto (1), todo el recorrido de `dot` debe completarse en 30 cuadros. Dicho de otro modo, la curva se fraccionará en 30 segmentos que serán lo que veremos como resultado. Si el tiempo es muy corto para la complejidad de la curva, se notaran los segmentos y la curva no lucirá suave. Aumentando el `run_time` aumentamos el número de cuadros y así la densidad de *vértices* de la poligonal que forma nuestra curva. Los invito a poner `run_time=1` y constatar que se grafican exactamente 30 segmentos. \n",
    "* Esta animación podría hacerse sin `MoveAlongPath`: definiendo un `ValueTracker` que represente el parámetro $t$ y poniendo un *updater* para `dot` que corrija su posición según las coordenadas de $f(t)$. Ciertamente `MoveAlongPath` es más cómodo."
   ]
  },
  {
   "cell_type": "markdown",
   "metadata": {},
   "source": [
    "### Sexta Animación\n",
    "\n",
    "En este último ejemplo mostramos otro mecanismo para producir el mismo efecto."
   ]
  },
  {
   "cell_type": "code",
   "execution_count": 3,
   "metadata": {},
   "outputs": [
    {
     "data": {
      "text/html": [
       "<pre style=\"white-space:pre;overflow-x:auto;line-height:normal;font-family:Menlo,'DejaVu Sans Mono',consolas,'Courier New',monospace\"><span style=\"color: #7fbfbf\">[05/27/22 20:32:03] </span><span style=\"color: #008000\">INFO</span>     Animation <span style=\"color: #008000\">0</span> : Using cached data <span style=\"font-weight: bold\">(</span>hash :     <a href=\"file:///opt/homebrew/lib/python3.9/site-packages/manim/renderer/cairo_renderer.py\"><span style=\"color: #7f7f7f\">cairo_renderer.py</span></a><span style=\"color: #7f7f7f\">:75</span>\n",
       "                             1342159004_815313489_223132457<span style=\"font-weight: bold\">)</span>                                 \n",
       "</pre>\n"
      ],
      "text/plain": [
       "<rich.jupyter.JupyterRenderable at 0x107eefd30>"
      ]
     },
     "metadata": {},
     "output_type": "display_data"
    },
    {
     "name": "stderr",
     "output_type": "stream",
     "text": [
      "                                                                                            \r"
     ]
    },
    {
     "data": {
      "text/html": [
       "<pre style=\"white-space:pre;overflow-x:auto;line-height:normal;font-family:Menlo,'DejaVu Sans Mono',consolas,'Courier New',monospace\"><span style=\"color: #7fbfbf\">[05/27/22 20:32:10] </span><span style=\"color: #008000\">INFO</span>     Animation <span style=\"color: #008000\">1</span> : Partial movie file        <a href=\"file:///opt/homebrew/lib/python3.9/site-packages/manim/scene/scene_file_writer.py\"><span style=\"color: #7f7f7f\">scene_file_writer.py</span></a><span style=\"color: #7f7f7f\">:504</span>\n",
       "                             written in <span style=\"color: #008000\">'/Users/iojea/Seafile/Nube/g</span>                         \n",
       "                             <span style=\"color: #008000\">it/Manim-Jupyter-Tutorials/media/videos</span>                         \n",
       "                             <span style=\"color: #008000\">/Manim-Jupyter-Tutorials/720p30/partial</span>                         \n",
       "                             <span style=\"color: #008000\">_movie_files/CEA05/1353618911_137823827</span>                         \n",
       "                             <span style=\"color: #008000\">7_1597651926.mp4'</span>                                               \n",
       "</pre>\n"
      ],
      "text/plain": [
       "<rich.jupyter.JupyterRenderable at 0x151af9130>"
      ]
     },
     "metadata": {},
     "output_type": "display_data"
    },
    {
     "data": {
      "text/html": [
       "<pre style=\"white-space:pre;overflow-x:auto;line-height:normal;font-family:Menlo,'DejaVu Sans Mono',consolas,'Courier New',monospace\"><span style=\"color: #7fbfbf\">                    </span><span style=\"color: #008000\">INFO</span>     Animation <span style=\"color: #008000\">2</span> : Using cached data <span style=\"font-weight: bold\">(</span>hash :     <a href=\"file:///opt/homebrew/lib/python3.9/site-packages/manim/renderer/cairo_renderer.py\"><span style=\"color: #7f7f7f\">cairo_renderer.py</span></a><span style=\"color: #7f7f7f\">:75</span>\n",
       "                             1353618911_641011677_2969723746<span style=\"font-weight: bold\">)</span>                                \n",
       "</pre>\n"
      ],
      "text/plain": [
       "<rich.jupyter.JupyterRenderable at 0x151af9f40>"
      ]
     },
     "metadata": {},
     "output_type": "display_data"
    },
    {
     "data": {
      "text/html": [
       "<pre style=\"white-space:pre;overflow-x:auto;line-height:normal;font-family:Menlo,'DejaVu Sans Mono',consolas,'Courier New',monospace\"><span style=\"color: #7fbfbf\">                    </span><span style=\"color: #008000\">INFO</span>     Combining to Movie file.                <a href=\"file:///opt/homebrew/lib/python3.9/site-packages/manim/scene/scene_file_writer.py\"><span style=\"color: #7f7f7f\">scene_file_writer.py</span></a><span style=\"color: #7f7f7f\">:597</span>\n",
       "</pre>\n"
      ],
      "text/plain": [
       "<rich.jupyter.JupyterRenderable at 0x151af9940>"
      ]
     },
     "metadata": {},
     "output_type": "display_data"
    },
    {
     "data": {
      "text/html": [
       "<pre style=\"white-space:pre;overflow-x:auto;line-height:normal;font-family:Menlo,'DejaVu Sans Mono',consolas,'Courier New',monospace\"><span style=\"color: #7fbfbf\">                    </span><span style=\"color: #008000\">INFO</span>                                             <a href=\"file:///opt/homebrew/lib/python3.9/site-packages/manim/scene/scene_file_writer.py\"><span style=\"color: #7f7f7f\">scene_file_writer.py</span></a><span style=\"color: #7f7f7f\">:718</span>\n",
       "                             <span style=\"color: #808000; font-weight: bold\">File</span> ready at <span style=\"color: #008000\">'/Users/iojea/Seafile/Nub</span>                         \n",
       "                             <span style=\"color: #008000\">e/git/Manim-Jupyter-Tutorials/media/vid</span>                         \n",
       "                             <span style=\"color: #008000\">eos/Manim-Jupyter-Tutorials/720p30/CEA0</span>                         \n",
       "                             <span style=\"color: #008000\">5.mp4'</span>                                                          \n",
       "                                                                                             \n",
       "</pre>\n"
      ],
      "text/plain": [
       "<rich.jupyter.JupyterRenderable at 0x151af9d00>"
      ]
     },
     "metadata": {},
     "output_type": "display_data"
    },
    {
     "data": {
      "text/html": [
       "<pre style=\"white-space:pre;overflow-x:auto;line-height:normal;font-family:Menlo,'DejaVu Sans Mono',consolas,'Courier New',monospace\"><span style=\"color: #7fbfbf\">                    </span><span style=\"color: #008000\">INFO</span>     <span style=\"color: #808000; font-weight: bold\">Rendered</span> CEA05                                      <a href=\"file:///opt/homebrew/lib/python3.9/site-packages/manim/scene/scene.py\"><span style=\"color: #7f7f7f\">scene.py</span></a><span style=\"color: #7f7f7f\">:240</span>\n",
       "                             <span style=\"color: #808000; font-weight: bold\">Played</span> <span style=\"color: #008000\">3</span> <span style=\"color: #808000; font-weight: bold\">animations</span>                                             \n",
       "</pre>\n"
      ],
      "text/plain": [
       "<rich.jupyter.JupyterRenderable at 0x151af98e0>"
      ]
     },
     "metadata": {},
     "output_type": "display_data"
    },
    {
     "data": {
      "text/html": [
       "<video src=\"media/jupyter/CEA05@2022-05-27@20-32-10.mp4\" controls autoplay loop style=\"max-width: 60%;\"  >\n",
       "      Your browser does not support the <code>video</code> element.\n",
       "    </video>"
      ],
      "text/plain": [
       "<IPython.core.display.Video object>"
      ]
     },
     "metadata": {},
     "output_type": "display_data"
    }
   ],
   "source": [
    "%%manim -qm CEA05\n",
    "\n",
    "class CEA05(Scene):\n",
    "    def construct(self):\n",
    "        f    = lambda t: np.sin(t)\n",
    "        x    = ValueTracker(-2*PI)\n",
    "        dot  = always_redraw(lambda: Dot(color=BLUE).move_to(RIGHT*x.get_value()+UP*f(x.get_value())))\n",
    "        \n",
    "        path = VMobject()\n",
    "        def update_path(m):\n",
    "            m.become(FunctionGraph(f,x_range=[-2*PI,x.get_value()],color=BLUE))\n",
    "            \n",
    "        path.add_updater(update_path)\n",
    "        \n",
    "        self.play(FadeIn(dot))\n",
    "        self.add(path)\n",
    "        self.play(x.animate.set_value(2*PI),run_time=2)\n",
    "        self.wait()"
   ]
  },
  {
   "cell_type": "markdown",
   "metadata": {},
   "source": [
    "#### Análisis\n",
    "\n",
    "En este caso utilizamos un `ValueTracker` que representa la coordenada $x$ del punto, que definimos dentro de un `always_redraw`. Para actualizar el `path` en lugar de ir agregándole puntos utilizamos la función `become()` propia de todo Mobject. `become` hace que el Mobject se transforme en el parámetro. En este caso, le pasamos a `become` una `FunctionGraph` que grafica la función seno en un rango de $x$ que va desde $-2\\pi$ (la posición inicial del punto) hasta el valor del `ValueTracker`. Para la animación basta con actualizar el valor de `x`: el punto se redibuja automáticamente en la posición deseada y el `path` se convierte en una porción cada vez mayor del gráfico. "
   ]
  },
  {
   "cell_type": "markdown",
   "metadata": {},
   "source": [
    "**<span style=\"color:TEAL\">Ejercicio 2:</span>** Implementar una animación en la que se dibujen simultáneamente tres curvas: $\\cos(x)$, $\\cos(x+\\frac{\\pi}{2})$ y $\\cos(x+\\pi)$. Deben aparecer inicialmente tres puntos (de colores distintos) y deben moverse todos al mismo tiempo trazando cada una de las curvas. "
   ]
  },
  {
   "cell_type": "markdown",
   "metadata": {},
   "source": []
  }
 ],
 "metadata": {
  "interpreter": {
   "hash": "b0fa6594d8f4cbf19f97940f81e996739fb7646882a419484c72d19e05852a7e"
  },
  "kernelspec": {
   "display_name": "Python 3.9.12 64-bit",
   "language": "python",
   "name": "python3"
  },
  "language_info": {
   "codemirror_mode": {
    "name": "ipython",
    "version": 3
   },
   "file_extension": ".py",
   "mimetype": "text/x-python",
   "name": "python",
   "nbconvert_exporter": "python",
   "pygments_lexer": "ipython3",
   "version": "3.9.12"
  },
  "orig_nbformat": 4
 },
 "nbformat": 4,
 "nbformat_minor": 2
}
