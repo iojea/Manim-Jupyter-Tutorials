{
 "cells": [
  {
   "cell_type": "markdown",
   "metadata": {},
   "source": [
    "## Manim - Clase 2"
   ]
  },
  {
   "cell_type": "markdown",
   "metadata": {},
   "source": [
    "## Primera parte: Transformaciones de texto matemático\n",
    "\n",
    "Más allá de simplemente mostrar texto matemático, nos interesa especialmente manipularlo en pantalla para mostrar, por ejemplo, el despeje de una ecuación o la deducción de un resultado siguiendo los pasos del razonamiento. Esto es posible hacerlo, pero es necesario indicarle a Manim cómo queremos *descomponer* el bloque de texto en los fragmentos que nos interesa manipular. Hay esencialmente dos maneras."
   ]
  },
  {
   "cell_type": "code",
   "execution_count": null,
   "metadata": {},
   "outputs": [],
   "source": [
    "from manim import *"
   ]
  },
  {
   "cell_type": "markdown",
   "metadata": {},
   "source": [
    "### Primera animación"
   ]
  },
  {
   "cell_type": "code",
   "execution_count": null,
   "metadata": {},
   "outputs": [],
   "source": [
    "%%manim -qm C2A00\n",
    "\n",
    "class C2A00(Scene):\n",
    "    def construct(self):\n",
    "        equation = MathTex(r\"a^2+b^2 = h^2\",substrings_to_isolate=[\"a\",\"b\",\"h\"])\n",
    "        equation.set_color_by_tex(\"a\",GREEN)\n",
    "        equation.set_color_by_tex(\"b\",BLUE)\n",
    "        equation.set_color_by_tex(\"h\",RED)\n",
    "        self.play(Write(equation))\n",
    "        self.wait()"
   ]
  },
  {
   "cell_type": "markdown",
   "metadata": {},
   "source": [
    "#### Análisis\n",
    "\n",
    "La animación sólo muestra una ecuación en pantalla, pero le asigna distinto color a cada variable. Para lograr esto usamos el parámetro `substrings_to_isolate` que permite indicar una lista de fragmentos de texto (*substrings*) que luego podremos manipular de manera independiente. Luego, usamos la función `set_color_by_tex`, propia de las clases `Tex` y `MathTex`. Esta función recibe dos parámetros: una cadena de texto y un color. Para colorear tres fragmentos distintos tenemos que usarla tres veces. \n",
    "\n",
    "**Ejercicio:** Probar el código anterior eliminando la definición de las `substrings_to_isolate` y observar qué pasa. El resultado (erróneo) se debe a que Manim no es capaz de diferenciar los diferentes trozos de texto y por lo tanto no logra colorearlos adecuadamente."
   ]
  },
  {
   "cell_type": "markdown",
   "metadata": {},
   "source": [
    "### Segunda animación\n",
    "\n",
    "Una alternativa a `substrings_to_isolate` consiste en encerrar los fragmentos de texto que se quieren aislar entre llaves dobles:"
   ]
  },
  {
   "cell_type": "code",
   "execution_count": null,
   "metadata": {},
   "outputs": [],
   "source": [
    "%%manim -qm C2A01\n",
    "\n",
    "class C2A01(Scene):\n",
    "    def construct(self):\n",
    "        equation1 = MathTex(r\"{{a}}^2+{{b}}^2 = {{h}}^2\")\n",
    "        equation2 = MathTex(r\"{{a}}^2 = {{h}}^2-{{b}}^2\")\n",
    "        colores   = {\"a\":GREEN,\"b\":BLUE,\"h\":RED}\n",
    "        equation1.set_color_by_tex_to_color_map(colores)\n",
    "        equation2.set_color_by_tex_to_color_map(colores)\n",
    "\n",
    "        self.play(Write(equation1))\n",
    "        self.wait()\n",
    "        self.play(TransformMatchingTex(equation1,equation2))\n",
    "        self.wait()"
   ]
  },
  {
   "cell_type": "markdown",
   "metadata": {},
   "source": [
    "#### Análisis\n",
    "\n",
    "En este caso, utilizamos una nueva función para colorear: `set_color_by_tex_to_color_map`. Esta función recibe esencialmente un *mapa* que asigna color a determinados fragmentos de texto. Este *mapa* viene dado en forma de diccionario. En Python, un diccionario permite asociar cualquier *clave* a cualquier *resultado*. La definición de un diccionario se realiza entre llaves y se escribe: \"clave : resultado\", uno tras otro, separados por comas. Eso es lo que hacemos en la variable `colores`. \n",
    "\n",
    "Luego, aplicamos la función `TransformMatchingTex` a las ecuaciones `equation1` y `equation2`. El resultado es una animación que transforma una ecuación en otra, pero preservando los fragmentos de texto que coinciden, de modo que estos se muevan transformando una ecuación en otra. \n",
    "\n",
    "**Ejercicio:** Eliminar las dobles llaves de alguna de las dos ecuaciones y observar qué ocurre con la transformación. Nuevamente, el resultado decepcionante se debe a que Manim no es capaz de emparejar los fragmentos de la ecuación inicial con los de la ecuación final. \n",
    "\n",
    "**Sobre diccionarios:** Los diccionarios pueden resultar mecanimos útiles para asociar información. Si definimos una lista, por ejemplo: "
   ]
  },
  {
   "cell_type": "code",
   "execution_count": null,
   "metadata": {},
   "outputs": [],
   "source": [
    "a = [\"Perro\",6,\"Osvaldo\"]"
   ]
  },
  {
   "cell_type": "markdown",
   "metadata": {},
   "source": [
    "Podemos acceder a sus elementos por índice:"
   ]
  },
  {
   "cell_type": "code",
   "execution_count": null,
   "metadata": {},
   "outputs": [],
   "source": [
    "a[2]"
   ]
  },
  {
   "cell_type": "markdown",
   "metadata": {},
   "source": [
    "Un diccionario nos permite indexar información con cualquier tipo de dato. Por ejemplo:"
   ]
  },
  {
   "cell_type": "code",
   "execution_count": null,
   "metadata": {},
   "outputs": [],
   "source": [
    "b = {\"Nombre\":\"Osvaldo\",\"Especie\":\"perro\",\"Edad\":6}"
   ]
  },
  {
   "cell_type": "markdown",
   "metadata": {},
   "source": [
    "Podemos acceder a la información almacenada en el diccionario a través de las claves:"
   ]
  },
  {
   "cell_type": "code",
   "execution_count": null,
   "metadata": {},
   "outputs": [],
   "source": [
    "b[\"Especie\"]"
   ]
  },
  {
   "cell_type": "code",
   "execution_count": null,
   "metadata": {},
   "outputs": [],
   "source": [
    "b[\"Edad\"]"
   ]
  },
  {
   "cell_type": "markdown",
   "metadata": {},
   "source": [
    "Los diccionarios tienen múltiples aplicaciones. En el futuro, nos vamos a volver a encontrar con usos similares al que estamos haciendo acá. Es decir: el diccionario nos permite empaquetar un montón de parámetros que luego le queremos pasar a una función (o a varias). "
   ]
  },
  {
   "cell_type": "markdown",
   "metadata": {},
   "source": [
    "### Tercera Animación\n",
    "\n",
    "Lo que hicimos antes transformanto texto matemático también puede hacerse transformando texto: "
   ]
  },
  {
   "cell_type": "code",
   "execution_count": null,
   "metadata": {},
   "outputs": [],
   "source": [
    "%%manim -qm C2A02\n",
    "\n",
    "class C2A02(Scene):\n",
    "    def construct(self):\n",
    "        texto1 = Text(\"tom marvolo riddle\",font=\"sans-serif\").scale(2).shift(UP)\n",
    "        texto2 = Text(\"i am lord voldemort\",font=\"sans-serif\",fill_color=GREEN,sheen_factor=0.5).scale(2)\n",
    "        \n",
    "        self.play(Write(texto1))\n",
    "        self.wait()\n",
    "        self.play(TransformMatchingShapes(texto1,texto2)) \n",
    "        self.wait()"
   ]
  },
  {
   "cell_type": "markdown",
   "metadata": {},
   "source": [
    "#### Análisis\n",
    "\n",
    "Aquí utilizamos la función `TransformMatchingShapes`. El nombre es elocuente: lo que hace la transformación es asociar letras según su dibujo y moverlas de modo que se trasladen desde su lugar en la primera frase hacia su lugar en la segunda. Esto requiere que las *formas* de las letras sean iguales. \n",
    "\n",
    "**Ejercicio:** Probar qué ocurre si se escriben las oraciones de la animación con las correspondientes mayúsculas (nombres propios y pronombre \"I\"). \n",
    "\n",
    "Además, elegimos la tipografía con el parámetro `font` y utilizamos el parámetro `sheen_factor`, que permite interpolar el color (en cierta proporción) con blanco, de modo de obtener el efecto que se observa. "
   ]
  },
  {
   "cell_type": "markdown",
   "metadata": {},
   "source": [
    "### Cuarta Animación"
   ]
  },
  {
   "cell_type": "code",
   "execution_count": null,
   "metadata": {},
   "outputs": [],
   "source": [
    "%%manim -qm C2A03\n",
    "\n",
    "class C2A03(Scene):\n",
    "    def construct(self):\n",
    "        equation1 = MathTex(r\"{{a}}{{^2}}{{+}}{{ {{b}}^2}}{{=}}{{ {{h}}^2}}\")\n",
    "        equation2 = MathTex(r\"{{a}}{{^2}}{{=}}{{{{h}}^2-}}{{{{b}}^2}}\")\n",
    "        equation3 = MathTex(r\"{{a}} {{=}} {{\\sqrt{ }} {{ {{h}}^2}}-{{{{b}}^2}} }\")\n",
    "        equation1.set_color_by_tex_to_color_map({\"a\":GREEN,\"b\":BLUE,\"h\":RED})\n",
    "        equation2.set_color_by_tex_to_color_map({\"a\":GREEN,\"b\":BLUE,\"h\":RED})\n",
    "        equation3.set_color_by_tex_to_color_map({\"a\":GREEN,\"b\":BLUE,\"h\":RED})\n",
    "        equation1.to_edge(UP,buff=1)\n",
    "        equation2.next_to(equation1,DOWN)\n",
    "        equation3.next_to(equation2,DOWN)\n",
    "        \n",
    "        self.play(Write(equation1))\n",
    "        self.wait()\n",
    "        self.play(TransformMatchingTex(equation1.copy(),equation2))\n",
    "        self.wait()\n",
    "        self.play(TransformMatchingTex(equation2.copy(),equation3),transform_mismatches=True)"
   ]
  },
  {
   "cell_type": "markdown",
   "metadata": {},
   "source": [
    "#### Análisis\n",
    "\n",
    "En esta animación despejamos `a` de la primera ecuación, preservando los colores de las variables. Hacemos uso de `set_color_by_tex_to_color_map` para fijar los colores y de `to_edge` y `next_to` para organizar las ecuaciones en pantalla. Las novedades son las siguientes. \n",
    "\n",
    "* Usamos muuuchas dobles llaves, escencialmente aislando cada pedacito individual de texto, y si miran con cuidado hay algunas llaves raras en torno a `\\sqrt`. La razón que obliga a usar tantas llaves es justamente la raíz cuadrada que engloba todo un bloque de texto que contiene fragmentos relevantes (variables coloreadas). Fue necesario poner todas esas llaves para evitar problemas con la coloración (se ponía la raíz en rojo). No tenemos receta para esto: fue prueba y error. Sugerimos intentar reproducir este despeje (o uno similar) desde cero y jugar con las llaves hasta encontrar la combinación correcta. \n",
    "* Las transformaciones se aplican sobre una *copia* de la ecuación (`equation1.copy()`). Esto es para que la ecuación transformada permanezca en pantalla y se vea el movimiento desde esta ecuación (fija) hacia la nueva. Sugerimos probar eliminando el `.copy()` y ver qué pasa. Ambas opciones son útiles, dependiendo de lo que se quiera mostrar.\n",
    "* Usamos la opción `transform_mismatches=True`. Esto es porque hay un cuadrado que se transforma en raíz, y estos son textos que no coinciden. De hecho, son los únicos textos que no coinciden. Al habilitar `transform_mismatches` le decimos a Manim que tome el fragmento que no coincide de la primera ecuación y lo transforme en el fragmento que no coincide de la segunda (sea lo que sea cada uno). Probar qué ocurre si se elimina esa opción. "
   ]
  },
  {
   "cell_type": "markdown",
   "metadata": {},
   "source": [
    "### "
   ]
  },
  {
   "cell_type": "markdown",
   "metadata": {},
   "source": [
    "### Quinta Animación\n",
    "\n",
    "Un detalle que podríamos querer corregir de la animación anterior es la alineación. Si los signos de igualdad quedaran uno debajo del otro, se lograría una mejor visualización del despeje. Eso es lo que hacemos aquí (una de varias formas posibles):"
   ]
  },
  {
   "cell_type": "code",
   "execution_count": null,
   "metadata": {},
   "outputs": [],
   "source": [
    "%%manim -qm C2A04\n",
    "\n",
    "class C2A04(Scene):\n",
    "    def construct(self):\n",
    "        equation1 = MathTex(r\"{{a}}{{^2}}+{{ {{b}}^2}}{{=}}{{ {{h}}^2 }}\")\n",
    "        equation2 = MathTex(r\"{{a}}{{^2}}{{=}}{{ {{h}}^2 }}{{-}}{{ {{b}}^2}}\")\n",
    "        equation3 = MathTex(\n",
    "            r\"{{a}}{{=}}{{\\sqrt{ }} {{ {{h}}^2}}-{{{{b}}^2}} }\")\n",
    "        equation1.set_color_by_tex_to_color_map({\"a\": GREEN, \"b\": BLUE, \"h\": RED})\n",
    "        equation2.set_color_by_tex_to_color_map({\"a\": GREEN, \"b\": BLUE, \"h\": RED})\n",
    "        equation3.set_color_by_tex_to_color_map({\"a\": GREEN, \"b\": BLUE, \"h\": RED})\n",
    "\n",
    "        equation1.to_edge(UP, buff=2)\n",
    "        equation2[2].next_to(equation1[5], DOWN, buff=0.5)\n",
    "        equation2[:2].next_to(equation2[2], LEFT)\n",
    "        equation2[3:].next_to(equation2[2], RIGHT)\n",
    "        equation3[1].next_to(equation2[2], DOWN, buff=0.75)\n",
    "        equation3[:1].next_to(equation3[1], LEFT)\n",
    "        equation3[2:].next_to(equation3[1], RIGHT)\n",
    "\n",
    "        self.play(Write(equation1))\n",
    "        self.wait()\n",
    "        self.play(TransformMatchingTex(equation1.copy(), equation2))\n",
    "        self.wait()\n",
    "        self.play(TransformMatchingTex(equation2.copy(),\n",
    "                  equation3), transform_mismatches=True)"
   ]
  },
  {
   "cell_type": "markdown",
   "metadata": {},
   "source": [
    "#### Análisis\n",
    "\n",
    "Los únicos cambios están en la disposición de las ecuaciones en pantalla. Cada cadena de texto puede indexarse como una lista (recuerden que en Python los índices cuentan desde $0$). De este modo, los casilleros `equation1[5]`, `equation2[2]` y `equation3[1]` corresponden a los signos $=$ de cada ecuación. Lo que hacemos es ubicar `equation1` donde queremos y luego posicionamos el igual de `equation2` debajo del igual de `equation1`. Esto hace, en principio, que ese $=$ se \"salga\" de la `equation2` para ir a posicionarse bajo el otro $=$. Una solución es mover las dos mitades de `equation2` para ubicarse alrededor de su correspondiente $=$. La sintaxis `[:2]` indica *todos los índices menores que 2*, y es equivalente a `[0:2]`. De manera similar, la sintaxis `[3:]` indica *todos los índeces desde 3 inclusive en adelante*. \n",
    "\n",
    "Luego de acomodar `equation2` correctamente alineada bajo `equation1`, repetimos el proceso para `equation3`, bajo `equation2`. "
   ]
  },
  {
   "cell_type": "markdown",
   "metadata": {},
   "source": [
    "## Segunda Parte: Gráficos de funciones"
   ]
  },
  {
   "cell_type": "markdown",
   "metadata": {},
   "source": [
    "### Sexta Animación\n",
    "\n",
    "En la construcción de gráficos puede haber muchos elementos para ajustar. Comenzamos, por lo tanto, con un ejemplo simple que muestra los principales detalles a tener en cuenta.\n",
    "\n",
    "Supongamos que queremos dibujar una recta numérica y marcar con un punto el número $2$: "
   ]
  },
  {
   "cell_type": "code",
   "execution_count": null,
   "metadata": {},
   "outputs": [],
   "source": [
    "%%manim -qm C2A05\n",
    "\n",
    "class C2A05(Scene):\n",
    "    def construct(self):\n",
    "        linea = NumberLine(length=10,\n",
    "                           x_range=[-3, 3],\n",
    "                           include_numbers=True,\n",
    "                           numbers_to_include=[-3, -1, 1, 3],\n",
    "                           stroke_color=GREEN)\n",
    "        dot1 = Dot(color=RED).shift(2*RIGHT)\n",
    "        dot2 = Dot(color=BLUE)\n",
    "        dot2.shift(linea.number_to_point(2))  # n2p\n",
    "        self.play(Create(linea))\n",
    "        self.wait(2)\n",
    "        self.play(FadeIn(dot1))\n",
    "        self.wait()\n",
    "        self.play(FadeIn(dot2))\n",
    "        self.wait()\n",
    "        self.play(Flash(dot2))\n",
    "        self.wait()\n",
    "        self.play(FadeOut(*self.mobjects))"
   ]
  },
  {
   "cell_type": "markdown",
   "metadata": {},
   "source": [
    "#### Análisis\n",
    "\n",
    "Primero que nada creamos una recta numérica como un objeto de la clase `NumberLine`. Hay muchas atributos con los que definir una `NumberLine`. En este caso, utilizamos:\n",
    "* `length=10`: Indica la longitud del eje en términos de las unidades que definen la pantalla. \n",
    "* `x_range=[-3, 3]`: El rango de valores del eje. Observar que la longitud de la unidad del eje no va a coincidir con la unidad de la pantalla, dado que el eje mide $6$ unidades de $x$, pero $10$ unidades de pantalla. \n",
    "* `include_numbers=True`: Se muestran los números bajo el eje.\n",
    "* `numbers_to_include=[-3, -1, 1, 3]`: Una lista con los números que queremos que se muestren (si no lo aclaramos, se muestran todos los enteros).\n",
    "* `stroke_color=GREEN`: Color del trazo (es decir: el color del eje). \n",
    "\n",
    "Hay muchas otras opciones. Por ejemplo: \n",
    "\n",
    "* `include_ticks`: puede ser `True` o `False` e indica si se muestran los ticks sobre el eje. \n",
    "* `tick_size`\n",
    "* `numbers_with_elongated_ticks`: para dar una lista de números donde el tick es más grande.\n",
    "* `include_tip`: puede ser `True` o `False` e indica si el eje se remata con una flecha. \n",
    "* `tip_size`\n",
    "* `numbers_to_exclude`: lo opuesto de `numbers_to_include`.\n",
    "* etc. \n",
    "\n",
    "Recomendamos ir a la página de la documentación de [Manim](https://docs.manim.community/en/stable/) y explorar el Reference Manual (menú de la izquierda). Ahí pueden encontrar todos los objetos y funciones de Manim. Por ejemplo, en: Mobjects->graphing->number_line->NumberLine se puede leer el encabezado de la función constructora de una `NumberLine`, donde se listan todos los posibles parámetros. También (más abajo), se listan las distintas funciones (*métodos*) propias de la clase. Por ejemplo `add_tick` permite agregarle un tick a un eje ya definido. "
   ]
  },
  {
   "cell_type": "markdown",
   "metadata": {},
   "source": [
    "Luego de definir el eje, generamos dos puntos: `dot1` (rojo) y `dot2` (azul). Aquí aparece un detalle clave del manejo de ejes de coordenadas: el punto rojo lo ubicamos $2$ unidades a la derecha (`shift(2*RIGHT)`). Sin embargo, como observamos en la animación, esta posición **no** corresponde a la coordenada $x=2$. Esto se debe a lo que dijimos más arriba: `2*RIGHT` corresponde a dos unidades de pantalla, pero el eje no tiene las mismas unidades. Para resolver este problema existe la función `number_to_point` que recibe un número del eje y devuelve las coordenadas del punto correspondiente en unidades de pantalla. Existe una abreviatura: `n2p` que hace exactamente lo mismo que `number_to_point`. También existe la función inversa: `point_to_number`, con su correspondiente abreviatura: `p2n`. Al punto azul lo movemos usando `number_to_point`, y como puede verse en el gráfico este punto sí se ubica donde queríamos, en $x=2$. \n",
    "\n",
    "Finalmente, usamos la función `Flash` (otra función *indicadora*, como `Wiggle` o `ApplyWave`) para resaltar el punto azul, correctamente ubicado. "
   ]
  },
  {
   "cell_type": "markdown",
   "metadata": {},
   "source": [
    "El último detalle de color está dado por la última línea: \n",
    "\n",
    "`self.play(FadeOut(*self.mobjects))`\n",
    "\n",
    "Lo que hacemos aquí es aplicarle `FadeOut` a todos los objetos en pantalla:\n",
    "* `self.mobjects`: Como ya dijimos, `self` hace referencia a la clase que estamos construyendo (`C2A05`), que es una sub-clase de `Scene`. Toda `Scene` tiene un *atributo* que es `mobjects`, que esencialmente contiene todos los Mobjects de la escena. \n",
    "* El `*` delante de `self.mobjects` se debe a que `FadeOut` no puede aplicarse sobre una lista (es decir: lo que queremos que salga de la pantalla no es la lista, sino cada objeto en particular). Lo que hace el asterisco es *abrir* la lista, de modo que `FadeOut` no la lista como un bloque, sino los indivuos que la componen, sueltos. \n",
    "\n",
    "**NOTA:** En la versión original, que vimos el sábado, había una variante inncesariamente complicada de esta sintaxis, pero que igualmente vale la pena tener en mente, porque puede ser muy útil. A saber: \n",
    "\n",
    "`*[m for m in self.mobjects]`\n",
    "\n",
    "Aquí lo que hacemos es crear una lista por comprensión. Es la lista formada por todos los `m` tales que pertenecen a `self.mobjets`. El `*` cumple la misma función que antes: desempaquetar esta lista para darle los elemntos a `FadeOut`. \n"
   ]
  },
  {
   "cell_type": "markdown",
   "metadata": {},
   "source": [
    "### Séptima Animación\n",
    "\n",
    "Pasemos ahora a un gráfico sobre un par de ejes cartesianos:"
   ]
  },
  {
   "cell_type": "code",
   "execution_count": null,
   "metadata": {},
   "outputs": [],
   "source": [
    "%%manim -qm C2A06\n",
    "\n",
    "class C2A06(Scene):\n",
    "    def construct(self):\n",
    "        ax      = Axes(x_range= [-2,5],\n",
    "                       y_range= [-1,2],\n",
    "                       x_length= 8,\n",
    "                       y_length= 5,\n",
    "                       tips = True,\n",
    "                       x_axis_config = {\"stroke_color\":GREEN,\n",
    "                                        \"include_ticks\": False})\n",
    "        f       = lambda x: np.exp(-x**2)+np.sin(x)\n",
    "        #def f(x): return np.exp(-x**2)+np.sin(x)\n",
    "        grafico = ax.plot(f,color=BLUE)\n",
    "        self.play(Create(ax))\n",
    "        self.play(Create(grafico))"
   ]
  },
  {
   "cell_type": "markdown",
   "metadata": {},
   "source": [
    "#### Análisis\n",
    "\n",
    "En este caso creamos un objeto de clase `Axes` (ejes). `Axes` devuelve esencialmente un grupo formado por dos objetos de tipo `NumberLine` (los ejes $x$ e $y$). Esto introduce una pecualiaridad a la hora de pasar algunos parámetros. Por un lado, tenemos: \n",
    "* `x_range`, `y_range`, `x_length` e `y_length` que cumplen las funciones esperables, para cada uno de los ejes. \n",
    "* `tips=True`, que incluye las flechas. Observar la pequeña inconsistencia en la notación, dado que para una `NumberLine` el parámetro era `include_tip`. \n",
    "\n",
    "Pero en último lugar tenemos `x_axis_config` que en lugar de recibir simplemente un valor recibe un diccionario con distintos parámetros y sus correspondientes valores. Esto tiene que ver justamente con que `Axes` genera un objeto formado por dos objetos de clase `NumberLine`. `x_axis_config` permite pasarle parámetros a la `NumberLine` que forma el eje $x$. El contenido del diccionario que le estamos dando permite setear los parámetros  `stroke_color` e `include_ticks` del eje $x$. Existe también un parámetro `y_axis_config` para hacer lo propio con el eje $y$, y un parámetro `axis_config` que permite pasar parámetros propios de `NumberLine` a *ambos* ejes. \n",
    "\n",
    "Para realizar el gráfico de una función necesitamos primero la función. Hay dos formas de definir funciones en Python. Una es la que ya conocemos y usamos: `def nombre_de_función(parametros):`. La otra es una forma \"abreviada\" que está pensada para definir funciones matemáticas que normalmente caben en una sola línea. Consiste en hacer: `f = lambda x:`. El comando `lambda x` indica que estamos definiendo una función que dependerá de una variable $x$ (se podría poner otro nombre de variable o varias variables). A continuación, va la definición de la función, sin necesidad de `return`. En este caso, usamos esta segunda forma, pero dejamos comentada la alternativa (equivalente) usando `def`. Definimos así la función $f(x) = e^{-x^2}+\\sin(x)$. Recordar que en Python las potencias se escriben con `**` y **no** con `^`. \n",
    "\n",
    "Para realizar el gráfico de `f` usamos la función `plot` propia de la clase `Axes`. Esto nos devuelve un objeto que es esencialmente la curva del gráfico de la función y que puede mostrarse, ocultarse, moverse o transformarse como cualquier otro objeto de Manim."
   ]
  },
  {
   "cell_type": "markdown",
   "metadata": {},
   "source": [
    "### Octava Animación\n",
    "\n",
    "Por último, agreguemos un punto a nuestro gráfico: "
   ]
  },
  {
   "cell_type": "code",
   "execution_count": null,
   "metadata": {},
   "outputs": [],
   "source": [
    "%%manim -qm C2A07\n",
    "\n",
    "class C2A07(Scene):\n",
    "    def construct(self):\n",
    "        ax = Axes(x_range=[-2, 5],\n",
    "                  y_range=[-1, 2],\n",
    "                  x_length=8,\n",
    "                  y_length=5,\n",
    "                  axis_config={\"stroke_color\": GREEN})\n",
    "\n",
    "        def f(x): return np.exp(-x**2)+np.sin(x)\n",
    "        grafico = ax.plot(f, color=BLUE)\n",
    "        pos = ax.coords_to_point(1, f(1))  # c2p\n",
    "        dot = Dot(pos, color=RED)\n",
    "        self.play(Create(ax))\n",
    "        self.wait()\n",
    "        self.play(Create(grafico))\n",
    "        self.wait()\n",
    "        self.play(GrowFromCenter(dot))\n",
    "        self.wait()\n",
    "        self.play(FocusOn(dot))\n",
    "        self.wait()"
   ]
  },
  {
   "cell_type": "markdown",
   "metadata": {},
   "source": [
    "#### Análisis\n",
    "\n",
    "En esta animación modificamos un poquito los parámetros de los ejes, repetimos el gráfico de la función y además mostramos un punto sobre el gráfico. \n",
    "\n",
    "Lo más relevante para observar es que, nuevamente, necesitamos una conversión de unidades para ubicar correctamente el punto dado que, como nos ocurría en el caso de una `NumberLine` las unidades de los ejes $x$ e $y$ no tienen por qué coincidir con las unidades de la pantalla. Como tenemos un par de ejes coordenados, la función que nos interesa no opera sobre números sino sobre coordenadas. Se llama, consecuentemente: `coords_to_point` y tiene una abreviatura que es `c2p`. Nuevamente: existe la función inversa: `point_to_coords` (o `p2c`). En nuestro ejemplo, ubicamos el punto de coordenadas $(1,f(1))$. \n",
    "\n",
    "Por último, aplicamos la función `FocusOn`, que es otra función indicadora, para llamar la atención sobre el punto. "
   ]
  },
  {
   "cell_type": "markdown",
   "metadata": {},
   "source": [
    "#### TAREA:\n",
    "\n",
    "1) Realizar una animación que resuelva una ecuación sencilla. Se deben hacer dos o tres pasos del despeje. Al finalizar, se deben eliminar de la pantalla las ecuaciones pasadas quedando sólo la que indica el resultado. Esta ecuación debe pasar al centro de la escena y ser resaltada de algún modo: puede cambiar de color, ser recuadrada (pueden mirar el código de la animación `Cierre` de la clase 1), ser resaltada con algunas de las funciones \"indicadoras\" o cualquier combinación de estas opciones u otras que se les ocurran. \n",
    "\n",
    "2) Realizar una animación que ilustre algunas funciones simples. La animación debe: \n",
    "* Graficar funciones de más sencillas a más complicadas. Por ejemplo: una lineal, una cuadrática y una trigonométrica.\n",
    "* Imprimir en pantalla (adecuadamente ubicado), texto explicativo. Por ejemplo: \"Función lineal: $f(x)=2x-1$. \n",
    "* Hacer las transiciones entre gráficos transformando un gráfico en otro (con Transform o ReplacementTransform). "
   ]
  },
  {
   "cell_type": "markdown",
   "metadata": {},
   "source": []
  }
 ],
 "metadata": {
  "interpreter": {
   "hash": "b0fa6594d8f4cbf19f97940f81e996739fb7646882a419484c72d19e05852a7e"
  },
  "kernelspec": {
   "display_name": "Python 3.9.12 64-bit",
   "language": "python",
   "name": "python3"
  },
  "language_info": {
   "codemirror_mode": {
    "name": "ipython",
    "version": 3
   },
   "file_extension": ".py",
   "mimetype": "text/x-python",
   "name": "python",
   "nbconvert_exporter": "python",
   "pygments_lexer": "ipython3",
   "version": "3.9.12"
  },
  "orig_nbformat": 4
 },
 "nbformat": 4,
 "nbformat_minor": 2
}
